{
 "cells": [
  {
   "cell_type": "markdown",
   "id": "840e57ff-b1cb-4498-8558-61063c43d22a",
   "metadata": {},
   "source": [
    "<img src=\"uia logo.png\" alt=\"Logo\" width=\"800\" style=\"display: block; margin-left: auto; margin-right: auto;\"/>\n",
    "\n",
    "\n",
    "<h3 align=\"center\"><strong>KULLIYYAH OF SCIENCE</strong></h3>\n",
    "\n",
    "---\n",
    "\n",
    "<h3 align=\"center\">INTRODUCTION TO DATA ANALYTICS (BSMS 1306)</h3>\n",
    "\n",
    "<h1 align=\"center\">Dataset: Students' Social Media Addiction</h1>\n",
    "\n",
    "---\n",
    "\n",
    "<h4 align=\"center\"><strong>Group Members</strong></h4>\n",
    "\n",
    "<div align=\"center\">\n",
    "\n",
    "<table>\n",
    "  <tr>\n",
    "    <th>Name</th>\n",
    "    <th>Matric Number</th>\n",
    "    <th>Section</th>\n",
    "  </tr>\n",
    "  <tr>\n",
    "    <td>Nur Aleya Nasywa Binti Hasbuna Ridzuan</td>\n",
    "    <td>2418402</td>\n",
    "    <td>02</td>\n",
    "  </tr>\n",
    "  <tr>\n",
    "    <td>Nik Nur Alia Syazni Binti Nik Mazri</td>\n",
    "    <td>2413956</td>\n",
    "    <td>02</td>\n",
    "  </tr>\n",
    "</table>\n",
    "\n",
    "</div>\n",
    "\n",
    "---\n",
    "\n",
    "<h4 align=\"center\"><strong>Lecturer’s Name</strong>: Asst. Prof. Dr. Raihan Mohd Asimoni</h4>  \n",
    "<h4 align=\"center\"><strong>Date of Submission</strong>: 8th of June 2025</h4>"
   ]
  },
  {
   "cell_type": "markdown",
   "id": "efeb8477-c1ff-4d18-a714-d4f20f1766b0",
   "metadata": {},
   "source": [
    "## INTRODUCTION "
   ]
  },
  {
   "cell_type": "markdown",
   "id": "f26e9138-7d91-45eb-a648-d6f56b47aabd",
   "metadata": {},
   "source": [
    "Social media has become deeply embedded in student life, influencing their routines, mental well-being, and academic performance. This project aims to analyze patterns of social media usage among students and assess its impact through key indicators such as addiction score, mental health status, sleep hours, and platform preference. An interactive dashboard was developed using Streamlit to visualize trends and relationships across different demographics, enabling a clearer understanding of how digital behavior may shape students’ daily lives."
   ]
  },
  {
   "cell_type": "markdown",
   "id": "d328a263-14e0-4543-8e91-4c1581234324",
   "metadata": {},
   "source": [
    "## OBJECTIVE"
   ]
  },
  {
   "cell_type": "markdown",
   "id": "4551322f-a836-4b6e-b9c1-d65ab7c9f4f4",
   "metadata": {},
   "source": [
    "1. To examine the relationship between social media addiction level and their mental health status\n",
    "2. To understand the daily usage pattern of social media among students\n",
    "3. To compare addiction levels across genders\n",
    "4. To identify the most preferred social media platforms among students\n",
    "5. To determine how daily social media use impacts sleep hours\n",
    "6. To examine the academic impact of different social media platforms \n",
    "\n",
    "To support a more detailed analysis, all objectives are explored using filterable data by **gender**, **academic level**, and **relationship status**. These filters are available in the sidebar of the interactive Streamlit dashboard, allowing users to view results specific to different subgroups."
   ]
  },
  {
   "cell_type": "code",
   "execution_count": 225,
   "id": "8661cf66-307c-44fb-a82f-aa3da2b5a5a5",
   "metadata": {},
   "outputs": [
    {
     "data": {
      "text/html": [
       "<div>\n",
       "<style scoped>\n",
       "    .dataframe tbody tr th:only-of-type {\n",
       "        vertical-align: middle;\n",
       "    }\n",
       "\n",
       "    .dataframe tbody tr th {\n",
       "        vertical-align: top;\n",
       "    }\n",
       "\n",
       "    .dataframe thead th {\n",
       "        text-align: right;\n",
       "    }\n",
       "</style>\n",
       "<table border=\"1\" class=\"dataframe\">\n",
       "  <thead>\n",
       "    <tr style=\"text-align: right;\">\n",
       "      <th></th>\n",
       "      <th>Student_ID</th>\n",
       "      <th>Age</th>\n",
       "      <th>Gender</th>\n",
       "      <th>Academic_Level</th>\n",
       "      <th>Country</th>\n",
       "      <th>Avg_Daily_Usage_Hours</th>\n",
       "      <th>Most_Used_Platform</th>\n",
       "      <th>Affects_Academic_Performance</th>\n",
       "      <th>Sleep_Hours_Per_Night</th>\n",
       "      <th>Mental_Health_Score</th>\n",
       "      <th>Relationship_Status</th>\n",
       "      <th>Conflicts_Over_Social_Media</th>\n",
       "      <th>Addicted_Score</th>\n",
       "    </tr>\n",
       "  </thead>\n",
       "  <tbody>\n",
       "    <tr>\n",
       "      <th>0</th>\n",
       "      <td>1</td>\n",
       "      <td>19</td>\n",
       "      <td>Female</td>\n",
       "      <td>Undergraduate</td>\n",
       "      <td>Bangladesh</td>\n",
       "      <td>5.2</td>\n",
       "      <td>Instagram</td>\n",
       "      <td>Yes</td>\n",
       "      <td>6.5</td>\n",
       "      <td>6</td>\n",
       "      <td>In Relationship</td>\n",
       "      <td>3</td>\n",
       "      <td>8</td>\n",
       "    </tr>\n",
       "    <tr>\n",
       "      <th>1</th>\n",
       "      <td>2</td>\n",
       "      <td>22</td>\n",
       "      <td>Male</td>\n",
       "      <td>Graduate</td>\n",
       "      <td>India</td>\n",
       "      <td>2.1</td>\n",
       "      <td>Twitter</td>\n",
       "      <td>No</td>\n",
       "      <td>7.5</td>\n",
       "      <td>8</td>\n",
       "      <td>Single</td>\n",
       "      <td>0</td>\n",
       "      <td>3</td>\n",
       "    </tr>\n",
       "    <tr>\n",
       "      <th>2</th>\n",
       "      <td>3</td>\n",
       "      <td>20</td>\n",
       "      <td>Female</td>\n",
       "      <td>Undergraduate</td>\n",
       "      <td>USA</td>\n",
       "      <td>6.0</td>\n",
       "      <td>TikTok</td>\n",
       "      <td>Yes</td>\n",
       "      <td>5.0</td>\n",
       "      <td>5</td>\n",
       "      <td>Complicated</td>\n",
       "      <td>4</td>\n",
       "      <td>9</td>\n",
       "    </tr>\n",
       "    <tr>\n",
       "      <th>3</th>\n",
       "      <td>4</td>\n",
       "      <td>18</td>\n",
       "      <td>Male</td>\n",
       "      <td>High School</td>\n",
       "      <td>UK</td>\n",
       "      <td>3.0</td>\n",
       "      <td>YouTube</td>\n",
       "      <td>No</td>\n",
       "      <td>7.0</td>\n",
       "      <td>7</td>\n",
       "      <td>Single</td>\n",
       "      <td>1</td>\n",
       "      <td>4</td>\n",
       "    </tr>\n",
       "    <tr>\n",
       "      <th>4</th>\n",
       "      <td>5</td>\n",
       "      <td>21</td>\n",
       "      <td>Male</td>\n",
       "      <td>Graduate</td>\n",
       "      <td>Canada</td>\n",
       "      <td>4.5</td>\n",
       "      <td>Facebook</td>\n",
       "      <td>Yes</td>\n",
       "      <td>6.0</td>\n",
       "      <td>6</td>\n",
       "      <td>In Relationship</td>\n",
       "      <td>2</td>\n",
       "      <td>7</td>\n",
       "    </tr>\n",
       "  </tbody>\n",
       "</table>\n",
       "</div>"
      ],
      "text/plain": [
       "   Student_ID  Age  Gender Academic_Level     Country  Avg_Daily_Usage_Hours  \\\n",
       "0           1   19  Female  Undergraduate  Bangladesh                    5.2   \n",
       "1           2   22    Male       Graduate       India                    2.1   \n",
       "2           3   20  Female  Undergraduate         USA                    6.0   \n",
       "3           4   18    Male    High School          UK                    3.0   \n",
       "4           5   21    Male       Graduate      Canada                    4.5   \n",
       "\n",
       "  Most_Used_Platform Affects_Academic_Performance  Sleep_Hours_Per_Night  \\\n",
       "0          Instagram                          Yes                    6.5   \n",
       "1            Twitter                           No                    7.5   \n",
       "2             TikTok                          Yes                    5.0   \n",
       "3            YouTube                           No                    7.0   \n",
       "4           Facebook                          Yes                    6.0   \n",
       "\n",
       "   Mental_Health_Score Relationship_Status  Conflicts_Over_Social_Media  \\\n",
       "0                    6     In Relationship                            3   \n",
       "1                    8              Single                            0   \n",
       "2                    5         Complicated                            4   \n",
       "3                    7              Single                            1   \n",
       "4                    6     In Relationship                            2   \n",
       "\n",
       "   Addicted_Score  \n",
       "0               8  \n",
       "1               3  \n",
       "2               9  \n",
       "3               4  \n",
       "4               7  "
      ]
     },
     "execution_count": 225,
     "metadata": {},
     "output_type": "execute_result"
    }
   ],
   "source": [
    "import pandas as pd\n",
    "data = pd.read_csv('Students Social Media Addiction.csv')\n",
    "data.head()"
   ]
  },
  {
   "cell_type": "code",
   "execution_count": 226,
   "id": "5224d870-5e45-4d70-818e-1159dc50fdf1",
   "metadata": {},
   "outputs": [
    {
     "data": {
      "text/html": [
       "<div>\n",
       "<style scoped>\n",
       "    .dataframe tbody tr th:only-of-type {\n",
       "        vertical-align: middle;\n",
       "    }\n",
       "\n",
       "    .dataframe tbody tr th {\n",
       "        vertical-align: top;\n",
       "    }\n",
       "\n",
       "    .dataframe thead th {\n",
       "        text-align: right;\n",
       "    }\n",
       "</style>\n",
       "<table border=\"1\" class=\"dataframe\">\n",
       "  <thead>\n",
       "    <tr style=\"text-align: right;\">\n",
       "      <th></th>\n",
       "      <th>Student_ID</th>\n",
       "      <th>Age</th>\n",
       "      <th>Gender</th>\n",
       "      <th>Academic_Level</th>\n",
       "      <th>Country</th>\n",
       "      <th>Avg_Daily_Usage_Hours</th>\n",
       "      <th>Most_Used_Platform</th>\n",
       "      <th>Affects_Academic_Performance</th>\n",
       "      <th>Sleep_Hours_Per_Night</th>\n",
       "      <th>Mental_Health_Score</th>\n",
       "      <th>Relationship_Status</th>\n",
       "      <th>Conflicts_Over_Social_Media</th>\n",
       "      <th>Addicted_Score</th>\n",
       "    </tr>\n",
       "  </thead>\n",
       "  <tbody>\n",
       "    <tr>\n",
       "      <th>0</th>\n",
       "      <td>1</td>\n",
       "      <td>19</td>\n",
       "      <td>Female</td>\n",
       "      <td>Undergraduate</td>\n",
       "      <td>Bangladesh</td>\n",
       "      <td>5.2</td>\n",
       "      <td>Instagram</td>\n",
       "      <td>Yes</td>\n",
       "      <td>6.5</td>\n",
       "      <td>6</td>\n",
       "      <td>In Relationship</td>\n",
       "      <td>3</td>\n",
       "      <td>8</td>\n",
       "    </tr>\n",
       "    <tr>\n",
       "      <th>1</th>\n",
       "      <td>2</td>\n",
       "      <td>22</td>\n",
       "      <td>Male</td>\n",
       "      <td>Graduate</td>\n",
       "      <td>India</td>\n",
       "      <td>2.1</td>\n",
       "      <td>Twitter</td>\n",
       "      <td>No</td>\n",
       "      <td>7.5</td>\n",
       "      <td>8</td>\n",
       "      <td>Single</td>\n",
       "      <td>0</td>\n",
       "      <td>3</td>\n",
       "    </tr>\n",
       "    <tr>\n",
       "      <th>2</th>\n",
       "      <td>3</td>\n",
       "      <td>20</td>\n",
       "      <td>Female</td>\n",
       "      <td>Undergraduate</td>\n",
       "      <td>USA</td>\n",
       "      <td>6.0</td>\n",
       "      <td>TikTok</td>\n",
       "      <td>Yes</td>\n",
       "      <td>5.0</td>\n",
       "      <td>5</td>\n",
       "      <td>Complicated</td>\n",
       "      <td>4</td>\n",
       "      <td>9</td>\n",
       "    </tr>\n",
       "    <tr>\n",
       "      <th>3</th>\n",
       "      <td>4</td>\n",
       "      <td>18</td>\n",
       "      <td>Male</td>\n",
       "      <td>High School</td>\n",
       "      <td>UK</td>\n",
       "      <td>3.0</td>\n",
       "      <td>YouTube</td>\n",
       "      <td>No</td>\n",
       "      <td>7.0</td>\n",
       "      <td>7</td>\n",
       "      <td>Single</td>\n",
       "      <td>1</td>\n",
       "      <td>4</td>\n",
       "    </tr>\n",
       "    <tr>\n",
       "      <th>4</th>\n",
       "      <td>5</td>\n",
       "      <td>21</td>\n",
       "      <td>Male</td>\n",
       "      <td>Graduate</td>\n",
       "      <td>Canada</td>\n",
       "      <td>4.5</td>\n",
       "      <td>Facebook</td>\n",
       "      <td>Yes</td>\n",
       "      <td>6.0</td>\n",
       "      <td>6</td>\n",
       "      <td>In Relationship</td>\n",
       "      <td>2</td>\n",
       "      <td>7</td>\n",
       "    </tr>\n",
       "    <tr>\n",
       "      <th>...</th>\n",
       "      <td>...</td>\n",
       "      <td>...</td>\n",
       "      <td>...</td>\n",
       "      <td>...</td>\n",
       "      <td>...</td>\n",
       "      <td>...</td>\n",
       "      <td>...</td>\n",
       "      <td>...</td>\n",
       "      <td>...</td>\n",
       "      <td>...</td>\n",
       "      <td>...</td>\n",
       "      <td>...</td>\n",
       "      <td>...</td>\n",
       "    </tr>\n",
       "    <tr>\n",
       "      <th>700</th>\n",
       "      <td>701</td>\n",
       "      <td>20</td>\n",
       "      <td>Female</td>\n",
       "      <td>Undergraduate</td>\n",
       "      <td>Italy</td>\n",
       "      <td>4.7</td>\n",
       "      <td>TikTok</td>\n",
       "      <td>No</td>\n",
       "      <td>7.2</td>\n",
       "      <td>7</td>\n",
       "      <td>In Relationship</td>\n",
       "      <td>2</td>\n",
       "      <td>5</td>\n",
       "    </tr>\n",
       "    <tr>\n",
       "      <th>701</th>\n",
       "      <td>702</td>\n",
       "      <td>23</td>\n",
       "      <td>Male</td>\n",
       "      <td>Graduate</td>\n",
       "      <td>Russia</td>\n",
       "      <td>6.8</td>\n",
       "      <td>Instagram</td>\n",
       "      <td>Yes</td>\n",
       "      <td>5.9</td>\n",
       "      <td>4</td>\n",
       "      <td>Single</td>\n",
       "      <td>5</td>\n",
       "      <td>9</td>\n",
       "    </tr>\n",
       "    <tr>\n",
       "      <th>702</th>\n",
       "      <td>703</td>\n",
       "      <td>21</td>\n",
       "      <td>Female</td>\n",
       "      <td>Undergraduate</td>\n",
       "      <td>China</td>\n",
       "      <td>5.6</td>\n",
       "      <td>WeChat</td>\n",
       "      <td>Yes</td>\n",
       "      <td>6.7</td>\n",
       "      <td>6</td>\n",
       "      <td>In Relationship</td>\n",
       "      <td>3</td>\n",
       "      <td>7</td>\n",
       "    </tr>\n",
       "    <tr>\n",
       "      <th>703</th>\n",
       "      <td>704</td>\n",
       "      <td>24</td>\n",
       "      <td>Male</td>\n",
       "      <td>Graduate</td>\n",
       "      <td>Japan</td>\n",
       "      <td>4.3</td>\n",
       "      <td>Twitter</td>\n",
       "      <td>No</td>\n",
       "      <td>7.5</td>\n",
       "      <td>8</td>\n",
       "      <td>Single</td>\n",
       "      <td>2</td>\n",
       "      <td>4</td>\n",
       "    </tr>\n",
       "    <tr>\n",
       "      <th>704</th>\n",
       "      <td>705</td>\n",
       "      <td>19</td>\n",
       "      <td>Female</td>\n",
       "      <td>Undergraduate</td>\n",
       "      <td>Poland</td>\n",
       "      <td>6.2</td>\n",
       "      <td>Facebook</td>\n",
       "      <td>Yes</td>\n",
       "      <td>6.3</td>\n",
       "      <td>5</td>\n",
       "      <td>Single</td>\n",
       "      <td>4</td>\n",
       "      <td>8</td>\n",
       "    </tr>\n",
       "  </tbody>\n",
       "</table>\n",
       "<p>705 rows × 13 columns</p>\n",
       "</div>"
      ],
      "text/plain": [
       "     Student_ID  Age  Gender Academic_Level     Country  \\\n",
       "0             1   19  Female  Undergraduate  Bangladesh   \n",
       "1             2   22    Male       Graduate       India   \n",
       "2             3   20  Female  Undergraduate         USA   \n",
       "3             4   18    Male    High School          UK   \n",
       "4             5   21    Male       Graduate      Canada   \n",
       "..          ...  ...     ...            ...         ...   \n",
       "700         701   20  Female  Undergraduate       Italy   \n",
       "701         702   23    Male       Graduate      Russia   \n",
       "702         703   21  Female  Undergraduate       China   \n",
       "703         704   24    Male       Graduate       Japan   \n",
       "704         705   19  Female  Undergraduate      Poland   \n",
       "\n",
       "     Avg_Daily_Usage_Hours Most_Used_Platform Affects_Academic_Performance  \\\n",
       "0                      5.2          Instagram                          Yes   \n",
       "1                      2.1            Twitter                           No   \n",
       "2                      6.0             TikTok                          Yes   \n",
       "3                      3.0            YouTube                           No   \n",
       "4                      4.5           Facebook                          Yes   \n",
       "..                     ...                ...                          ...   \n",
       "700                    4.7             TikTok                           No   \n",
       "701                    6.8          Instagram                          Yes   \n",
       "702                    5.6             WeChat                          Yes   \n",
       "703                    4.3            Twitter                           No   \n",
       "704                    6.2           Facebook                          Yes   \n",
       "\n",
       "     Sleep_Hours_Per_Night  Mental_Health_Score Relationship_Status  \\\n",
       "0                      6.5                    6     In Relationship   \n",
       "1                      7.5                    8              Single   \n",
       "2                      5.0                    5         Complicated   \n",
       "3                      7.0                    7              Single   \n",
       "4                      6.0                    6     In Relationship   \n",
       "..                     ...                  ...                 ...   \n",
       "700                    7.2                    7     In Relationship   \n",
       "701                    5.9                    4              Single   \n",
       "702                    6.7                    6     In Relationship   \n",
       "703                    7.5                    8              Single   \n",
       "704                    6.3                    5              Single   \n",
       "\n",
       "     Conflicts_Over_Social_Media  Addicted_Score  \n",
       "0                              3               8  \n",
       "1                              0               3  \n",
       "2                              4               9  \n",
       "3                              1               4  \n",
       "4                              2               7  \n",
       "..                           ...             ...  \n",
       "700                            2               5  \n",
       "701                            5               9  \n",
       "702                            3               7  \n",
       "703                            2               4  \n",
       "704                            4               8  \n",
       "\n",
       "[705 rows x 13 columns]"
      ]
     },
     "execution_count": 226,
     "metadata": {},
     "output_type": "execute_result"
    }
   ],
   "source": [
    "data"
   ]
  },
  {
   "cell_type": "markdown",
   "id": "5b674a4f-097f-40a6-8e64-48910f1ffec1",
   "metadata": {},
   "source": [
    "## DATA PREPARATION"
   ]
  },
  {
   "cell_type": "code",
   "execution_count": 227,
   "id": "9a836039-a89e-40d8-a270-1be92af26745",
   "metadata": {},
   "outputs": [
    {
     "name": "stdout",
     "output_type": "stream",
     "text": [
      "<class 'pandas.core.frame.DataFrame'>\n",
      "RangeIndex: 705 entries, 0 to 704\n",
      "Data columns (total 13 columns):\n",
      " #   Column                        Non-Null Count  Dtype  \n",
      "---  ------                        --------------  -----  \n",
      " 0   Student_ID                    705 non-null    int64  \n",
      " 1   Age                           705 non-null    int64  \n",
      " 2   Gender                        705 non-null    object \n",
      " 3   Academic_Level                705 non-null    object \n",
      " 4   Country                       705 non-null    object \n",
      " 5   Avg_Daily_Usage_Hours         705 non-null    float64\n",
      " 6   Most_Used_Platform            705 non-null    object \n",
      " 7   Affects_Academic_Performance  705 non-null    object \n",
      " 8   Sleep_Hours_Per_Night         705 non-null    float64\n",
      " 9   Mental_Health_Score           705 non-null    int64  \n",
      " 10  Relationship_Status           705 non-null    object \n",
      " 11  Conflicts_Over_Social_Media   705 non-null    int64  \n",
      " 12  Addicted_Score                705 non-null    int64  \n",
      "dtypes: float64(2), int64(5), object(6)\n",
      "memory usage: 71.7+ KB\n"
     ]
    }
   ],
   "source": [
    "data.info() #to show the info for this data. able to find null and determine data type"
   ]
  },
  {
   "cell_type": "code",
   "execution_count": 228,
   "id": "e92a8a37-e91d-4c0b-810f-118657d61fbc",
   "metadata": {},
   "outputs": [
    {
     "data": {
      "text/plain": [
       "Student_ID                      0\n",
       "Age                             0\n",
       "Gender                          0\n",
       "Academic_Level                  0\n",
       "Country                         0\n",
       "Avg_Daily_Usage_Hours           0\n",
       "Most_Used_Platform              0\n",
       "Affects_Academic_Performance    0\n",
       "Sleep_Hours_Per_Night           0\n",
       "Mental_Health_Score             0\n",
       "Relationship_Status             0\n",
       "Conflicts_Over_Social_Media     0\n",
       "Addicted_Score                  0\n",
       "dtype: int64"
      ]
     },
     "execution_count": 228,
     "metadata": {},
     "output_type": "execute_result"
    }
   ],
   "source": [
    "data.isnull().sum() #show the number of missing values in each column"
   ]
  },
  {
   "cell_type": "markdown",
   "id": "342cc45b-faba-45a4-bf95-e8c9d912a239",
   "metadata": {},
   "source": [
    "## DISCUSSION"
   ]
  },
  {
   "cell_type": "code",
   "execution_count": 229,
   "id": "cd691a8c-be8a-4eac-8fe8-c72c424ccfc4",
   "metadata": {},
   "outputs": [
    {
     "name": "stdout",
     "output_type": "stream",
     "text": [
      "📊 Key Performance Indicators (KPIs)\n",
      "------------------------------------\n",
      "📱 Average Addiction Score     : 6.44\n",
      "⏰ Average Daily Usage (hours): 4.92\n",
      "🧠 Mental Health Score         : 6.23\n",
      "👥 Total Students Surveyed     : 705\n"
     ]
    }
   ],
   "source": [
    "# Calculate KPIs\n",
    "avg_addiction_score = data['Addicted_Score'].mean()\n",
    "avg_daily_usage = data['Avg_Daily_Usage_Hours'].mean()\n",
    "avg_mental_health = data['Mental_Health_Score'].mean()\n",
    "total_students = len(data)\n",
    "\n",
    "# Print KPIs\n",
    "print(\"📊 Key Performance Indicators (KPIs)\")\n",
    "print(\"------------------------------------\")\n",
    "print(f\"📱 Average Addiction Score     : {avg_addiction_score:.2f}\")\n",
    "print(f\"⏰ Average Daily Usage (hours): {avg_daily_usage:.2f}\")\n",
    "print(f\"🧠 Mental Health Score         : {avg_mental_health:.2f}\")\n",
    "print(f\"👥 Total Students Surveyed     : {total_students}\")"
   ]
  },
  {
   "cell_type": "code",
   "execution_count": 230,
   "id": "fb2527f4-0014-49f5-8b64-f99597377351",
   "metadata": {},
   "outputs": [],
   "source": [
    "import matplotlib.pyplot as plt\n",
    "import plotly.express as px\n",
    "import seaborn as sns"
   ]
  },
  {
   "cell_type": "code",
   "execution_count": 231,
   "id": "0fddc3bc-e719-4c74-ab09-c438b3e19b6b",
   "metadata": {},
   "outputs": [
    {
     "data": {
      "application/vnd.plotly.v1+json": {
       "config": {
        "plotlyServerURL": "https://plot.ly"
       },
       "data": [
        {
         "hovertemplate": "Gender=%{x}<br>Count=%{y}<extra></extra>",
         "legendgroup": "Female",
         "marker": {
          "color": "#FADADD",
          "pattern": {
           "shape": ""
          }
         },
         "name": "Female",
         "orientation": "v",
         "showlegend": true,
         "textposition": "auto",
         "type": "bar",
         "x": [
          "Female"
         ],
         "xaxis": "x",
         "y": {
          "bdata": "YQE=",
          "dtype": "i2"
         },
         "yaxis": "y"
        },
        {
         "hovertemplate": "Gender=%{x}<br>Count=%{y}<extra></extra>",
         "legendgroup": "Male",
         "marker": {
          "color": "#B0E0E6",
          "pattern": {
           "shape": ""
          }
         },
         "name": "Male",
         "orientation": "v",
         "showlegend": true,
         "textposition": "auto",
         "type": "bar",
         "x": [
          "Male"
         ],
         "xaxis": "x",
         "y": {
          "bdata": "YAE=",
          "dtype": "i2"
         },
         "yaxis": "y"
        }
       ],
       "layout": {
        "barmode": "relative",
        "legend": {
         "title": {
          "text": "Gender"
         },
         "tracegroupgap": 0
        },
        "template": {
         "data": {
          "bar": [
           {
            "error_x": {
             "color": "#2a3f5f"
            },
            "error_y": {
             "color": "#2a3f5f"
            },
            "marker": {
             "line": {
              "color": "white",
              "width": 0.5
             },
             "pattern": {
              "fillmode": "overlay",
              "size": 10,
              "solidity": 0.2
             }
            },
            "type": "bar"
           }
          ],
          "barpolar": [
           {
            "marker": {
             "line": {
              "color": "white",
              "width": 0.5
             },
             "pattern": {
              "fillmode": "overlay",
              "size": 10,
              "solidity": 0.2
             }
            },
            "type": "barpolar"
           }
          ],
          "carpet": [
           {
            "aaxis": {
             "endlinecolor": "#2a3f5f",
             "gridcolor": "#C8D4E3",
             "linecolor": "#C8D4E3",
             "minorgridcolor": "#C8D4E3",
             "startlinecolor": "#2a3f5f"
            },
            "baxis": {
             "endlinecolor": "#2a3f5f",
             "gridcolor": "#C8D4E3",
             "linecolor": "#C8D4E3",
             "minorgridcolor": "#C8D4E3",
             "startlinecolor": "#2a3f5f"
            },
            "type": "carpet"
           }
          ],
          "choropleth": [
           {
            "colorbar": {
             "outlinewidth": 0,
             "ticks": ""
            },
            "type": "choropleth"
           }
          ],
          "contour": [
           {
            "colorbar": {
             "outlinewidth": 0,
             "ticks": ""
            },
            "colorscale": [
             [
              0,
              "#0d0887"
             ],
             [
              0.1111111111111111,
              "#46039f"
             ],
             [
              0.2222222222222222,
              "#7201a8"
             ],
             [
              0.3333333333333333,
              "#9c179e"
             ],
             [
              0.4444444444444444,
              "#bd3786"
             ],
             [
              0.5555555555555556,
              "#d8576b"
             ],
             [
              0.6666666666666666,
              "#ed7953"
             ],
             [
              0.7777777777777778,
              "#fb9f3a"
             ],
             [
              0.8888888888888888,
              "#fdca26"
             ],
             [
              1,
              "#f0f921"
             ]
            ],
            "type": "contour"
           }
          ],
          "contourcarpet": [
           {
            "colorbar": {
             "outlinewidth": 0,
             "ticks": ""
            },
            "type": "contourcarpet"
           }
          ],
          "heatmap": [
           {
            "colorbar": {
             "outlinewidth": 0,
             "ticks": ""
            },
            "colorscale": [
             [
              0,
              "#0d0887"
             ],
             [
              0.1111111111111111,
              "#46039f"
             ],
             [
              0.2222222222222222,
              "#7201a8"
             ],
             [
              0.3333333333333333,
              "#9c179e"
             ],
             [
              0.4444444444444444,
              "#bd3786"
             ],
             [
              0.5555555555555556,
              "#d8576b"
             ],
             [
              0.6666666666666666,
              "#ed7953"
             ],
             [
              0.7777777777777778,
              "#fb9f3a"
             ],
             [
              0.8888888888888888,
              "#fdca26"
             ],
             [
              1,
              "#f0f921"
             ]
            ],
            "type": "heatmap"
           }
          ],
          "histogram": [
           {
            "marker": {
             "pattern": {
              "fillmode": "overlay",
              "size": 10,
              "solidity": 0.2
             }
            },
            "type": "histogram"
           }
          ],
          "histogram2d": [
           {
            "colorbar": {
             "outlinewidth": 0,
             "ticks": ""
            },
            "colorscale": [
             [
              0,
              "#0d0887"
             ],
             [
              0.1111111111111111,
              "#46039f"
             ],
             [
              0.2222222222222222,
              "#7201a8"
             ],
             [
              0.3333333333333333,
              "#9c179e"
             ],
             [
              0.4444444444444444,
              "#bd3786"
             ],
             [
              0.5555555555555556,
              "#d8576b"
             ],
             [
              0.6666666666666666,
              "#ed7953"
             ],
             [
              0.7777777777777778,
              "#fb9f3a"
             ],
             [
              0.8888888888888888,
              "#fdca26"
             ],
             [
              1,
              "#f0f921"
             ]
            ],
            "type": "histogram2d"
           }
          ],
          "histogram2dcontour": [
           {
            "colorbar": {
             "outlinewidth": 0,
             "ticks": ""
            },
            "colorscale": [
             [
              0,
              "#0d0887"
             ],
             [
              0.1111111111111111,
              "#46039f"
             ],
             [
              0.2222222222222222,
              "#7201a8"
             ],
             [
              0.3333333333333333,
              "#9c179e"
             ],
             [
              0.4444444444444444,
              "#bd3786"
             ],
             [
              0.5555555555555556,
              "#d8576b"
             ],
             [
              0.6666666666666666,
              "#ed7953"
             ],
             [
              0.7777777777777778,
              "#fb9f3a"
             ],
             [
              0.8888888888888888,
              "#fdca26"
             ],
             [
              1,
              "#f0f921"
             ]
            ],
            "type": "histogram2dcontour"
           }
          ],
          "mesh3d": [
           {
            "colorbar": {
             "outlinewidth": 0,
             "ticks": ""
            },
            "type": "mesh3d"
           }
          ],
          "parcoords": [
           {
            "line": {
             "colorbar": {
              "outlinewidth": 0,
              "ticks": ""
             }
            },
            "type": "parcoords"
           }
          ],
          "pie": [
           {
            "automargin": true,
            "type": "pie"
           }
          ],
          "scatter": [
           {
            "fillpattern": {
             "fillmode": "overlay",
             "size": 10,
             "solidity": 0.2
            },
            "type": "scatter"
           }
          ],
          "scatter3d": [
           {
            "line": {
             "colorbar": {
              "outlinewidth": 0,
              "ticks": ""
             }
            },
            "marker": {
             "colorbar": {
              "outlinewidth": 0,
              "ticks": ""
             }
            },
            "type": "scatter3d"
           }
          ],
          "scattercarpet": [
           {
            "marker": {
             "colorbar": {
              "outlinewidth": 0,
              "ticks": ""
             }
            },
            "type": "scattercarpet"
           }
          ],
          "scattergeo": [
           {
            "marker": {
             "colorbar": {
              "outlinewidth": 0,
              "ticks": ""
             }
            },
            "type": "scattergeo"
           }
          ],
          "scattergl": [
           {
            "marker": {
             "colorbar": {
              "outlinewidth": 0,
              "ticks": ""
             }
            },
            "type": "scattergl"
           }
          ],
          "scattermap": [
           {
            "marker": {
             "colorbar": {
              "outlinewidth": 0,
              "ticks": ""
             }
            },
            "type": "scattermap"
           }
          ],
          "scattermapbox": [
           {
            "marker": {
             "colorbar": {
              "outlinewidth": 0,
              "ticks": ""
             }
            },
            "type": "scattermapbox"
           }
          ],
          "scatterpolar": [
           {
            "marker": {
             "colorbar": {
              "outlinewidth": 0,
              "ticks": ""
             }
            },
            "type": "scatterpolar"
           }
          ],
          "scatterpolargl": [
           {
            "marker": {
             "colorbar": {
              "outlinewidth": 0,
              "ticks": ""
             }
            },
            "type": "scatterpolargl"
           }
          ],
          "scatterternary": [
           {
            "marker": {
             "colorbar": {
              "outlinewidth": 0,
              "ticks": ""
             }
            },
            "type": "scatterternary"
           }
          ],
          "surface": [
           {
            "colorbar": {
             "outlinewidth": 0,
             "ticks": ""
            },
            "colorscale": [
             [
              0,
              "#0d0887"
             ],
             [
              0.1111111111111111,
              "#46039f"
             ],
             [
              0.2222222222222222,
              "#7201a8"
             ],
             [
              0.3333333333333333,
              "#9c179e"
             ],
             [
              0.4444444444444444,
              "#bd3786"
             ],
             [
              0.5555555555555556,
              "#d8576b"
             ],
             [
              0.6666666666666666,
              "#ed7953"
             ],
             [
              0.7777777777777778,
              "#fb9f3a"
             ],
             [
              0.8888888888888888,
              "#fdca26"
             ],
             [
              1,
              "#f0f921"
             ]
            ],
            "type": "surface"
           }
          ],
          "table": [
           {
            "cells": {
             "fill": {
              "color": "#EBF0F8"
             },
             "line": {
              "color": "white"
             }
            },
            "header": {
             "fill": {
              "color": "#C8D4E3"
             },
             "line": {
              "color": "white"
             }
            },
            "type": "table"
           }
          ]
         },
         "layout": {
          "annotationdefaults": {
           "arrowcolor": "#2a3f5f",
           "arrowhead": 0,
           "arrowwidth": 1
          },
          "autotypenumbers": "strict",
          "coloraxis": {
           "colorbar": {
            "outlinewidth": 0,
            "ticks": ""
           }
          },
          "colorscale": {
           "diverging": [
            [
             0,
             "#8e0152"
            ],
            [
             0.1,
             "#c51b7d"
            ],
            [
             0.2,
             "#de77ae"
            ],
            [
             0.3,
             "#f1b6da"
            ],
            [
             0.4,
             "#fde0ef"
            ],
            [
             0.5,
             "#f7f7f7"
            ],
            [
             0.6,
             "#e6f5d0"
            ],
            [
             0.7,
             "#b8e186"
            ],
            [
             0.8,
             "#7fbc41"
            ],
            [
             0.9,
             "#4d9221"
            ],
            [
             1,
             "#276419"
            ]
           ],
           "sequential": [
            [
             0,
             "#0d0887"
            ],
            [
             0.1111111111111111,
             "#46039f"
            ],
            [
             0.2222222222222222,
             "#7201a8"
            ],
            [
             0.3333333333333333,
             "#9c179e"
            ],
            [
             0.4444444444444444,
             "#bd3786"
            ],
            [
             0.5555555555555556,
             "#d8576b"
            ],
            [
             0.6666666666666666,
             "#ed7953"
            ],
            [
             0.7777777777777778,
             "#fb9f3a"
            ],
            [
             0.8888888888888888,
             "#fdca26"
            ],
            [
             1,
             "#f0f921"
            ]
           ],
           "sequentialminus": [
            [
             0,
             "#0d0887"
            ],
            [
             0.1111111111111111,
             "#46039f"
            ],
            [
             0.2222222222222222,
             "#7201a8"
            ],
            [
             0.3333333333333333,
             "#9c179e"
            ],
            [
             0.4444444444444444,
             "#bd3786"
            ],
            [
             0.5555555555555556,
             "#d8576b"
            ],
            [
             0.6666666666666666,
             "#ed7953"
            ],
            [
             0.7777777777777778,
             "#fb9f3a"
            ],
            [
             0.8888888888888888,
             "#fdca26"
            ],
            [
             1,
             "#f0f921"
            ]
           ]
          },
          "colorway": [
           "#636efa",
           "#EF553B",
           "#00cc96",
           "#ab63fa",
           "#FFA15A",
           "#19d3f3",
           "#FF6692",
           "#B6E880",
           "#FF97FF",
           "#FECB52"
          ],
          "font": {
           "color": "#2a3f5f"
          },
          "geo": {
           "bgcolor": "white",
           "lakecolor": "white",
           "landcolor": "white",
           "showlakes": true,
           "showland": true,
           "subunitcolor": "#C8D4E3"
          },
          "hoverlabel": {
           "align": "left"
          },
          "hovermode": "closest",
          "mapbox": {
           "style": "light"
          },
          "paper_bgcolor": "white",
          "plot_bgcolor": "white",
          "polar": {
           "angularaxis": {
            "gridcolor": "#EBF0F8",
            "linecolor": "#EBF0F8",
            "ticks": ""
           },
           "bgcolor": "white",
           "radialaxis": {
            "gridcolor": "#EBF0F8",
            "linecolor": "#EBF0F8",
            "ticks": ""
           }
          },
          "scene": {
           "xaxis": {
            "backgroundcolor": "white",
            "gridcolor": "#DFE8F3",
            "gridwidth": 2,
            "linecolor": "#EBF0F8",
            "showbackground": true,
            "ticks": "",
            "zerolinecolor": "#EBF0F8"
           },
           "yaxis": {
            "backgroundcolor": "white",
            "gridcolor": "#DFE8F3",
            "gridwidth": 2,
            "linecolor": "#EBF0F8",
            "showbackground": true,
            "ticks": "",
            "zerolinecolor": "#EBF0F8"
           },
           "zaxis": {
            "backgroundcolor": "white",
            "gridcolor": "#DFE8F3",
            "gridwidth": 2,
            "linecolor": "#EBF0F8",
            "showbackground": true,
            "ticks": "",
            "zerolinecolor": "#EBF0F8"
           }
          },
          "shapedefaults": {
           "line": {
            "color": "#2a3f5f"
           }
          },
          "ternary": {
           "aaxis": {
            "gridcolor": "#DFE8F3",
            "linecolor": "#A2B1C6",
            "ticks": ""
           },
           "baxis": {
            "gridcolor": "#DFE8F3",
            "linecolor": "#A2B1C6",
            "ticks": ""
           },
           "bgcolor": "white",
           "caxis": {
            "gridcolor": "#DFE8F3",
            "linecolor": "#A2B1C6",
            "ticks": ""
           }
          },
          "title": {
           "x": 0.05
          },
          "xaxis": {
           "automargin": true,
           "gridcolor": "#EBF0F8",
           "linecolor": "#EBF0F8",
           "ticks": "",
           "title": {
            "standoff": 15
           },
           "zerolinecolor": "#EBF0F8",
           "zerolinewidth": 2
          },
          "yaxis": {
           "automargin": true,
           "gridcolor": "#EBF0F8",
           "linecolor": "#EBF0F8",
           "ticks": "",
           "title": {
            "standoff": 15
           },
           "zerolinecolor": "#EBF0F8",
           "zerolinewidth": 2
          }
         }
        },
        "title": {
         "text": "Number of Students by Gender"
        },
        "xaxis": {
         "anchor": "y",
         "categoryarray": [
          "Female",
          "Male"
         ],
         "categoryorder": "array",
         "domain": [
          0,
          1
         ],
         "title": {
          "text": "Gender"
         }
        },
        "yaxis": {
         "anchor": "x",
         "domain": [
          0,
          1
         ],
         "title": {
          "text": "Count"
         }
        }
       }
      }
     },
     "metadata": {},
     "output_type": "display_data"
    }
   ],
   "source": [
    "# bar chart (not shown in final dashboard)\n",
    "gender_counts = data['Gender'].value_counts().reset_index()\n",
    "gender_counts.columns = ['Gender', 'Count']  # rename for clarity\n",
    "\n",
    "fig = px.bar(gender_counts, x='Gender', y='Count',\n",
    "             title='Number of Students by Gender',\n",
    "             color='Gender',\n",
    "             color_discrete_map={\n",
    "        \"Female\": \"#FADADD\",  # Light pastel pink\n",
    "        \"Male\": \"#B0E0E6\"     # Light pastel blue\n",
    "    },\n",
    "    template='plotly_white'\n",
    ") # optional: color by gender\n",
    "\n",
    "fig.show()"
   ]
  },
  {
   "cell_type": "markdown",
   "id": "3a4c2b68-840e-4c06-894c-fff569d6acd6",
   "metadata": {},
   "source": [
    "The chart shows that there is a slightly higher number of female students compared to male students in the survey just a difference by 1. This gender imbalance should be considered when interpreting results, as it may influence patterns observed in usage, addiction, and other behavior-related metrics. This chart not shown in final chart but it helps to understand the demographic distribution of the dataset."
   ]
  },
  {
   "cell_type": "code",
   "execution_count": 232,
   "id": "a695af12-90bf-4484-a02c-970ae2ddfd58",
   "metadata": {},
   "outputs": [
    {
     "data": {
      "application/vnd.plotly.v1+json": {
       "config": {
        "plotlyServerURL": "https://plot.ly"
       },
       "data": [
        {
         "hovertemplate": "Gender=Female<br>Addiction Score=%{x}<br>Mental Health Score=%{y}<extra></extra>",
         "legendgroup": "Female",
         "marker": {
          "color": "#FADADD",
          "symbol": "circle"
         },
         "mode": "markers",
         "name": "Female",
         "orientation": "v",
         "showlegend": true,
         "type": "scatter",
         "x": {
          "bdata": "CAkJCAQICQcIBwQICQcIBwQICQcIBwQICQcIBwQICAkHCAcFCAcFCQcEBwQJBwgHBAgECAcIBwcIBQcIBQcIBQcIBQcIBQcIBQcIBQcIBQcHCAUHCAUHCAUHCAUHCAUHCAUHCAUHCAUHCAUHCAUJBQMGCQUDBgkFAwYJBQMGCQUDBgkFAwYJBQMGCQUDBgkFAwYJBQMGCQUDBgkFAwYJBQcGBAkFBwYECQUHBgQJBQcGBAkFBwYECQUHBgQJBQcGBAkFBwYECQUHBgQJBQcGBAkFBwYECQUHBgQJBQcGBAkFBwYECQUHBgQJBQcGBAkFBwYECQUHBgQJBQcEBwgIBwQHCAgHBAcICAcEBwgIBwQHCAgHBAcICAcEBwgIBwgFBwUICAQFBQkICAUFBwgIBwUHBQgJBAUFCQgIBwUHCAgHBQcFCAkEBQUJCAgHBQcICAcFBwUICQQFBQkICAcFBwg=",
          "dtype": "i1"
         },
         "xaxis": "x",
         "y": {
          "bdata": "BgUEBgcGBQYFBggFBQYFBggFBQYFBggFBQYFBggFBQQGBQYHBQYHBQYIBggFBgUGCAUIBQYFBgYFCAYFCAYFCAYFCAYFCAYFCAYFCAYFCAYFBgcFBgcFBgcFBgcFBgcFBgcFBgcFBgcFBgcFBgcFCAgGBAcIBgQHCAYEBwgGBAcIBgQHCAYEBwgGBAcIBgQHCAYEBwgGBAcIBgQHCAYEBwYHCAUHBgcIBQcGBwgFBwYHCAUHBgcIBQcGBwgFBwYHCAUHBgcIBQcGBwgFBwYHCAUHBgcIBQcGBwgFBwYHCAUHBgcIBQcGBwgFBwYHCAUHBgcIBQcGBwgFBwYIBgUFBggGBQUGCAYFBQYIBgUFBggGBQUGCAYFBQYIBgUFBQYHBgcFBQgHBwQFBQcHBgUFBgcGBwUECAcHBAUFBgcGBQUGBwYHBQQIBwcEBQUGBwYFBQYHBgcFBAgHBwQFBQYHBgU=",
          "dtype": "i1"
         },
         "yaxis": "y"
        },
        {
         "hovertemplate": "Gender=Male<br>Addiction Score=%{x}<br>Mental Health Score=%{y}<extra></extra>",
         "legendgroup": "Male",
         "marker": {
          "color": "#B0E0E6",
          "symbol": "circle"
         },
         "mode": "markers",
         "name": "Male",
         "orientation": "v",
         "showlegend": true,
         "type": "scatter",
         "x": {
          "bdata": "AwQHAgUHBAUDBQgHBQUDBQgHBQYEBQgHBQYEBQgHBQcDBgQIBwQIBwQGCAgHBQYECAcJBwUGBAgFBwgFBwgFBwgFBwgFBwgFBwgFBwgFBwgGBwgGBwgGBwgGBwgGBwgGBwgGBwgGBwgGBwgGBwgHBAcFBwQIBQcEBwUHBAgFBwQHBQcECAUHBAcFBwQIBQcEBwUHBAgFBwQHBQcECAUHBAQIBwcHBAgHBwcECAcHBwQIBwcHBAgHBwcECAcHBwQIBwcHBAgHBwcECAcHBwQIBwcHBAgHBwcECAcHBwQIBwcHBAgHBwcECAcHBwQIBwcHBAgHBwcECAcHBwUGBwUGBQYHBQYFBgcFBgUGBwUGBQYHBQYFBgcFBgUGBwUGBAkICAYFBwgIBwUHBwgIBAUFCQgIBwUHCAgHBQcFCAkEBQUJCAgHBQcICAcFBwUICQQFBQkICAcFBwgIBwUHBQgJBA==",
          "dtype": "i1"
         },
         "xaxis": "x",
         "y": {
          "bdata": "CAcGCQcFCAcIBwUGBwcIBwUGBwcIBwUGBwcIBwUGBwYIBwgFBggFBggHBQUGBwcIBQYFBgcHCAUHBgUHBgUHBgUHBgUHBgUHBgUHBgUHBgUHBQYHBQYHBQYHBQYHBQYHBQYHBQYHBQYHBQYHBQYGBwYHBggFBwYIBQcGCAUHBggFBwYIBQcGCAUHBggFBwYIBQcGCAUHBggFBwYIBQcGCAgFBgYGCAUGBgYIBQYGBggFBgYGCAUGBgYIBQYGBggFBgYGCAUGBgYIBQYGBggFBgYGCAUGBgYIBQYGBggFBgYGCAUGBgYIBQYGBggFBgYGCAUGBgYIBQYGBgcHBgcHBwcGBwcHBwYHBwcHBgcHBwcGBwcHBwYHBwcHBgcHCAQFBQYHBgUFBgcGBgUECAcHBAUFBgcGBQUGBwYHBQQIBwcEBQUGBwYFBQYHBgcFBAgHBwQFBQYHBgUFBgcGBwUECA==",
          "dtype": "i1"
         },
         "yaxis": "y"
        }
       ],
       "layout": {
        "legend": {
         "title": {
          "text": "Gender"
         },
         "tracegroupgap": 0
        },
        "template": {
         "data": {
          "bar": [
           {
            "error_x": {
             "color": "#2a3f5f"
            },
            "error_y": {
             "color": "#2a3f5f"
            },
            "marker": {
             "line": {
              "color": "white",
              "width": 0.5
             },
             "pattern": {
              "fillmode": "overlay",
              "size": 10,
              "solidity": 0.2
             }
            },
            "type": "bar"
           }
          ],
          "barpolar": [
           {
            "marker": {
             "line": {
              "color": "white",
              "width": 0.5
             },
             "pattern": {
              "fillmode": "overlay",
              "size": 10,
              "solidity": 0.2
             }
            },
            "type": "barpolar"
           }
          ],
          "carpet": [
           {
            "aaxis": {
             "endlinecolor": "#2a3f5f",
             "gridcolor": "#C8D4E3",
             "linecolor": "#C8D4E3",
             "minorgridcolor": "#C8D4E3",
             "startlinecolor": "#2a3f5f"
            },
            "baxis": {
             "endlinecolor": "#2a3f5f",
             "gridcolor": "#C8D4E3",
             "linecolor": "#C8D4E3",
             "minorgridcolor": "#C8D4E3",
             "startlinecolor": "#2a3f5f"
            },
            "type": "carpet"
           }
          ],
          "choropleth": [
           {
            "colorbar": {
             "outlinewidth": 0,
             "ticks": ""
            },
            "type": "choropleth"
           }
          ],
          "contour": [
           {
            "colorbar": {
             "outlinewidth": 0,
             "ticks": ""
            },
            "colorscale": [
             [
              0,
              "#0d0887"
             ],
             [
              0.1111111111111111,
              "#46039f"
             ],
             [
              0.2222222222222222,
              "#7201a8"
             ],
             [
              0.3333333333333333,
              "#9c179e"
             ],
             [
              0.4444444444444444,
              "#bd3786"
             ],
             [
              0.5555555555555556,
              "#d8576b"
             ],
             [
              0.6666666666666666,
              "#ed7953"
             ],
             [
              0.7777777777777778,
              "#fb9f3a"
             ],
             [
              0.8888888888888888,
              "#fdca26"
             ],
             [
              1,
              "#f0f921"
             ]
            ],
            "type": "contour"
           }
          ],
          "contourcarpet": [
           {
            "colorbar": {
             "outlinewidth": 0,
             "ticks": ""
            },
            "type": "contourcarpet"
           }
          ],
          "heatmap": [
           {
            "colorbar": {
             "outlinewidth": 0,
             "ticks": ""
            },
            "colorscale": [
             [
              0,
              "#0d0887"
             ],
             [
              0.1111111111111111,
              "#46039f"
             ],
             [
              0.2222222222222222,
              "#7201a8"
             ],
             [
              0.3333333333333333,
              "#9c179e"
             ],
             [
              0.4444444444444444,
              "#bd3786"
             ],
             [
              0.5555555555555556,
              "#d8576b"
             ],
             [
              0.6666666666666666,
              "#ed7953"
             ],
             [
              0.7777777777777778,
              "#fb9f3a"
             ],
             [
              0.8888888888888888,
              "#fdca26"
             ],
             [
              1,
              "#f0f921"
             ]
            ],
            "type": "heatmap"
           }
          ],
          "histogram": [
           {
            "marker": {
             "pattern": {
              "fillmode": "overlay",
              "size": 10,
              "solidity": 0.2
             }
            },
            "type": "histogram"
           }
          ],
          "histogram2d": [
           {
            "colorbar": {
             "outlinewidth": 0,
             "ticks": ""
            },
            "colorscale": [
             [
              0,
              "#0d0887"
             ],
             [
              0.1111111111111111,
              "#46039f"
             ],
             [
              0.2222222222222222,
              "#7201a8"
             ],
             [
              0.3333333333333333,
              "#9c179e"
             ],
             [
              0.4444444444444444,
              "#bd3786"
             ],
             [
              0.5555555555555556,
              "#d8576b"
             ],
             [
              0.6666666666666666,
              "#ed7953"
             ],
             [
              0.7777777777777778,
              "#fb9f3a"
             ],
             [
              0.8888888888888888,
              "#fdca26"
             ],
             [
              1,
              "#f0f921"
             ]
            ],
            "type": "histogram2d"
           }
          ],
          "histogram2dcontour": [
           {
            "colorbar": {
             "outlinewidth": 0,
             "ticks": ""
            },
            "colorscale": [
             [
              0,
              "#0d0887"
             ],
             [
              0.1111111111111111,
              "#46039f"
             ],
             [
              0.2222222222222222,
              "#7201a8"
             ],
             [
              0.3333333333333333,
              "#9c179e"
             ],
             [
              0.4444444444444444,
              "#bd3786"
             ],
             [
              0.5555555555555556,
              "#d8576b"
             ],
             [
              0.6666666666666666,
              "#ed7953"
             ],
             [
              0.7777777777777778,
              "#fb9f3a"
             ],
             [
              0.8888888888888888,
              "#fdca26"
             ],
             [
              1,
              "#f0f921"
             ]
            ],
            "type": "histogram2dcontour"
           }
          ],
          "mesh3d": [
           {
            "colorbar": {
             "outlinewidth": 0,
             "ticks": ""
            },
            "type": "mesh3d"
           }
          ],
          "parcoords": [
           {
            "line": {
             "colorbar": {
              "outlinewidth": 0,
              "ticks": ""
             }
            },
            "type": "parcoords"
           }
          ],
          "pie": [
           {
            "automargin": true,
            "type": "pie"
           }
          ],
          "scatter": [
           {
            "fillpattern": {
             "fillmode": "overlay",
             "size": 10,
             "solidity": 0.2
            },
            "type": "scatter"
           }
          ],
          "scatter3d": [
           {
            "line": {
             "colorbar": {
              "outlinewidth": 0,
              "ticks": ""
             }
            },
            "marker": {
             "colorbar": {
              "outlinewidth": 0,
              "ticks": ""
             }
            },
            "type": "scatter3d"
           }
          ],
          "scattercarpet": [
           {
            "marker": {
             "colorbar": {
              "outlinewidth": 0,
              "ticks": ""
             }
            },
            "type": "scattercarpet"
           }
          ],
          "scattergeo": [
           {
            "marker": {
             "colorbar": {
              "outlinewidth": 0,
              "ticks": ""
             }
            },
            "type": "scattergeo"
           }
          ],
          "scattergl": [
           {
            "marker": {
             "colorbar": {
              "outlinewidth": 0,
              "ticks": ""
             }
            },
            "type": "scattergl"
           }
          ],
          "scattermap": [
           {
            "marker": {
             "colorbar": {
              "outlinewidth": 0,
              "ticks": ""
             }
            },
            "type": "scattermap"
           }
          ],
          "scattermapbox": [
           {
            "marker": {
             "colorbar": {
              "outlinewidth": 0,
              "ticks": ""
             }
            },
            "type": "scattermapbox"
           }
          ],
          "scatterpolar": [
           {
            "marker": {
             "colorbar": {
              "outlinewidth": 0,
              "ticks": ""
             }
            },
            "type": "scatterpolar"
           }
          ],
          "scatterpolargl": [
           {
            "marker": {
             "colorbar": {
              "outlinewidth": 0,
              "ticks": ""
             }
            },
            "type": "scatterpolargl"
           }
          ],
          "scatterternary": [
           {
            "marker": {
             "colorbar": {
              "outlinewidth": 0,
              "ticks": ""
             }
            },
            "type": "scatterternary"
           }
          ],
          "surface": [
           {
            "colorbar": {
             "outlinewidth": 0,
             "ticks": ""
            },
            "colorscale": [
             [
              0,
              "#0d0887"
             ],
             [
              0.1111111111111111,
              "#46039f"
             ],
             [
              0.2222222222222222,
              "#7201a8"
             ],
             [
              0.3333333333333333,
              "#9c179e"
             ],
             [
              0.4444444444444444,
              "#bd3786"
             ],
             [
              0.5555555555555556,
              "#d8576b"
             ],
             [
              0.6666666666666666,
              "#ed7953"
             ],
             [
              0.7777777777777778,
              "#fb9f3a"
             ],
             [
              0.8888888888888888,
              "#fdca26"
             ],
             [
              1,
              "#f0f921"
             ]
            ],
            "type": "surface"
           }
          ],
          "table": [
           {
            "cells": {
             "fill": {
              "color": "#EBF0F8"
             },
             "line": {
              "color": "white"
             }
            },
            "header": {
             "fill": {
              "color": "#C8D4E3"
             },
             "line": {
              "color": "white"
             }
            },
            "type": "table"
           }
          ]
         },
         "layout": {
          "annotationdefaults": {
           "arrowcolor": "#2a3f5f",
           "arrowhead": 0,
           "arrowwidth": 1
          },
          "autotypenumbers": "strict",
          "coloraxis": {
           "colorbar": {
            "outlinewidth": 0,
            "ticks": ""
           }
          },
          "colorscale": {
           "diverging": [
            [
             0,
             "#8e0152"
            ],
            [
             0.1,
             "#c51b7d"
            ],
            [
             0.2,
             "#de77ae"
            ],
            [
             0.3,
             "#f1b6da"
            ],
            [
             0.4,
             "#fde0ef"
            ],
            [
             0.5,
             "#f7f7f7"
            ],
            [
             0.6,
             "#e6f5d0"
            ],
            [
             0.7,
             "#b8e186"
            ],
            [
             0.8,
             "#7fbc41"
            ],
            [
             0.9,
             "#4d9221"
            ],
            [
             1,
             "#276419"
            ]
           ],
           "sequential": [
            [
             0,
             "#0d0887"
            ],
            [
             0.1111111111111111,
             "#46039f"
            ],
            [
             0.2222222222222222,
             "#7201a8"
            ],
            [
             0.3333333333333333,
             "#9c179e"
            ],
            [
             0.4444444444444444,
             "#bd3786"
            ],
            [
             0.5555555555555556,
             "#d8576b"
            ],
            [
             0.6666666666666666,
             "#ed7953"
            ],
            [
             0.7777777777777778,
             "#fb9f3a"
            ],
            [
             0.8888888888888888,
             "#fdca26"
            ],
            [
             1,
             "#f0f921"
            ]
           ],
           "sequentialminus": [
            [
             0,
             "#0d0887"
            ],
            [
             0.1111111111111111,
             "#46039f"
            ],
            [
             0.2222222222222222,
             "#7201a8"
            ],
            [
             0.3333333333333333,
             "#9c179e"
            ],
            [
             0.4444444444444444,
             "#bd3786"
            ],
            [
             0.5555555555555556,
             "#d8576b"
            ],
            [
             0.6666666666666666,
             "#ed7953"
            ],
            [
             0.7777777777777778,
             "#fb9f3a"
            ],
            [
             0.8888888888888888,
             "#fdca26"
            ],
            [
             1,
             "#f0f921"
            ]
           ]
          },
          "colorway": [
           "#636efa",
           "#EF553B",
           "#00cc96",
           "#ab63fa",
           "#FFA15A",
           "#19d3f3",
           "#FF6692",
           "#B6E880",
           "#FF97FF",
           "#FECB52"
          ],
          "font": {
           "color": "#2a3f5f"
          },
          "geo": {
           "bgcolor": "white",
           "lakecolor": "white",
           "landcolor": "white",
           "showlakes": true,
           "showland": true,
           "subunitcolor": "#C8D4E3"
          },
          "hoverlabel": {
           "align": "left"
          },
          "hovermode": "closest",
          "mapbox": {
           "style": "light"
          },
          "paper_bgcolor": "white",
          "plot_bgcolor": "white",
          "polar": {
           "angularaxis": {
            "gridcolor": "#EBF0F8",
            "linecolor": "#EBF0F8",
            "ticks": ""
           },
           "bgcolor": "white",
           "radialaxis": {
            "gridcolor": "#EBF0F8",
            "linecolor": "#EBF0F8",
            "ticks": ""
           }
          },
          "scene": {
           "xaxis": {
            "backgroundcolor": "white",
            "gridcolor": "#DFE8F3",
            "gridwidth": 2,
            "linecolor": "#EBF0F8",
            "showbackground": true,
            "ticks": "",
            "zerolinecolor": "#EBF0F8"
           },
           "yaxis": {
            "backgroundcolor": "white",
            "gridcolor": "#DFE8F3",
            "gridwidth": 2,
            "linecolor": "#EBF0F8",
            "showbackground": true,
            "ticks": "",
            "zerolinecolor": "#EBF0F8"
           },
           "zaxis": {
            "backgroundcolor": "white",
            "gridcolor": "#DFE8F3",
            "gridwidth": 2,
            "linecolor": "#EBF0F8",
            "showbackground": true,
            "ticks": "",
            "zerolinecolor": "#EBF0F8"
           }
          },
          "shapedefaults": {
           "line": {
            "color": "#2a3f5f"
           }
          },
          "ternary": {
           "aaxis": {
            "gridcolor": "#DFE8F3",
            "linecolor": "#A2B1C6",
            "ticks": ""
           },
           "baxis": {
            "gridcolor": "#DFE8F3",
            "linecolor": "#A2B1C6",
            "ticks": ""
           },
           "bgcolor": "white",
           "caxis": {
            "gridcolor": "#DFE8F3",
            "linecolor": "#A2B1C6",
            "ticks": ""
           }
          },
          "title": {
           "x": 0.05
          },
          "xaxis": {
           "automargin": true,
           "gridcolor": "#EBF0F8",
           "linecolor": "#EBF0F8",
           "ticks": "",
           "title": {
            "standoff": 15
           },
           "zerolinecolor": "#EBF0F8",
           "zerolinewidth": 2
          },
          "yaxis": {
           "automargin": true,
           "gridcolor": "#EBF0F8",
           "linecolor": "#EBF0F8",
           "ticks": "",
           "title": {
            "standoff": 15
           },
           "zerolinecolor": "#EBF0F8",
           "zerolinewidth": 2
          }
         }
        },
        "title": {
         "text": "Addiction Score vs Mental Health Score"
        },
        "xaxis": {
         "anchor": "y",
         "domain": [
          0,
          1
         ],
         "title": {
          "text": "Addiction Score"
         }
        },
        "yaxis": {
         "anchor": "x",
         "domain": [
          0,
          1
         ],
         "title": {
          "text": "Mental Health Score"
         }
        }
       }
      }
     },
     "metadata": {},
     "output_type": "display_data"
    }
   ],
   "source": [
    "#1\n",
    "fig = px.scatter(data, \n",
    "                 x=\"Addicted_Score\", \n",
    "                 y=\"Mental_Health_Score\",\n",
    "                 color=\"Gender\",  \n",
    "                 title=\"Addiction Score vs Mental Health Score\",\n",
    "                 labels={\"Addicted_Score\": \"Addiction Score\", \"Mental_Health_Score\": \"Mental Health Score\"\n",
    "                        },\n",
    "    color_discrete_map={\n",
    "        \"Female\": \"#FADADD\",  \n",
    "        \"Male\": \"#B0E0E6\" },    \n",
    "    template='plotly_white' )\n",
    "fig.show()"
   ]
  },
  {
   "cell_type": "markdown",
   "id": "ac4e0323-be21-4c11-9cbd-62ca97f29dec",
   "metadata": {},
   "source": [
    "The scatter plot shows a negative correlation between adiction score and Mental Health Score. As students addiction to social media increases, their mental health scores tend to decrease. This indicates that higher social media addiction may be linked to poorer mental well-being. Thus, the objective examine the relationship between students social media addiction levels and mental health is achieved."
   ]
  },
  {
   "cell_type": "code",
   "execution_count": 233,
   "id": "917f0c46-8711-407f-ac30-fc6d78bec253",
   "metadata": {},
   "outputs": [
    {
     "data": {
      "application/vnd.plotly.v1+json": {
       "config": {
        "plotlyServerURL": "https://plot.ly"
       },
       "data": [
        {
         "bingroup": "x",
         "hovertemplate": "Avg_Daily_Usage_Hours=%{x}<br>count=%{y}<extra></extra>",
         "legendgroup": "",
         "marker": {
          "color": "#FFDDEE",
          "pattern": {
           "shape": ""
          }
         },
         "name": "",
         "nbinsx": 10,
         "orientation": "v",
         "showlegend": false,
         "type": "histogram",
         "x": {
          "bdata": "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",
          "dtype": "f8"
         },
         "xaxis": "x",
         "yaxis": "y"
        }
       ],
       "layout": {
        "barmode": "relative",
        "legend": {
         "tracegroupgap": 0
        },
        "template": {
         "data": {
          "bar": [
           {
            "error_x": {
             "color": "#2a3f5f"
            },
            "error_y": {
             "color": "#2a3f5f"
            },
            "marker": {
             "line": {
              "color": "white",
              "width": 0.5
             },
             "pattern": {
              "fillmode": "overlay",
              "size": 10,
              "solidity": 0.2
             }
            },
            "type": "bar"
           }
          ],
          "barpolar": [
           {
            "marker": {
             "line": {
              "color": "white",
              "width": 0.5
             },
             "pattern": {
              "fillmode": "overlay",
              "size": 10,
              "solidity": 0.2
             }
            },
            "type": "barpolar"
           }
          ],
          "carpet": [
           {
            "aaxis": {
             "endlinecolor": "#2a3f5f",
             "gridcolor": "#C8D4E3",
             "linecolor": "#C8D4E3",
             "minorgridcolor": "#C8D4E3",
             "startlinecolor": "#2a3f5f"
            },
            "baxis": {
             "endlinecolor": "#2a3f5f",
             "gridcolor": "#C8D4E3",
             "linecolor": "#C8D4E3",
             "minorgridcolor": "#C8D4E3",
             "startlinecolor": "#2a3f5f"
            },
            "type": "carpet"
           }
          ],
          "choropleth": [
           {
            "colorbar": {
             "outlinewidth": 0,
             "ticks": ""
            },
            "type": "choropleth"
           }
          ],
          "contour": [
           {
            "colorbar": {
             "outlinewidth": 0,
             "ticks": ""
            },
            "colorscale": [
             [
              0,
              "#0d0887"
             ],
             [
              0.1111111111111111,
              "#46039f"
             ],
             [
              0.2222222222222222,
              "#7201a8"
             ],
             [
              0.3333333333333333,
              "#9c179e"
             ],
             [
              0.4444444444444444,
              "#bd3786"
             ],
             [
              0.5555555555555556,
              "#d8576b"
             ],
             [
              0.6666666666666666,
              "#ed7953"
             ],
             [
              0.7777777777777778,
              "#fb9f3a"
             ],
             [
              0.8888888888888888,
              "#fdca26"
             ],
             [
              1,
              "#f0f921"
             ]
            ],
            "type": "contour"
           }
          ],
          "contourcarpet": [
           {
            "colorbar": {
             "outlinewidth": 0,
             "ticks": ""
            },
            "type": "contourcarpet"
           }
          ],
          "heatmap": [
           {
            "colorbar": {
             "outlinewidth": 0,
             "ticks": ""
            },
            "colorscale": [
             [
              0,
              "#0d0887"
             ],
             [
              0.1111111111111111,
              "#46039f"
             ],
             [
              0.2222222222222222,
              "#7201a8"
             ],
             [
              0.3333333333333333,
              "#9c179e"
             ],
             [
              0.4444444444444444,
              "#bd3786"
             ],
             [
              0.5555555555555556,
              "#d8576b"
             ],
             [
              0.6666666666666666,
              "#ed7953"
             ],
             [
              0.7777777777777778,
              "#fb9f3a"
             ],
             [
              0.8888888888888888,
              "#fdca26"
             ],
             [
              1,
              "#f0f921"
             ]
            ],
            "type": "heatmap"
           }
          ],
          "histogram": [
           {
            "marker": {
             "pattern": {
              "fillmode": "overlay",
              "size": 10,
              "solidity": 0.2
             }
            },
            "type": "histogram"
           }
          ],
          "histogram2d": [
           {
            "colorbar": {
             "outlinewidth": 0,
             "ticks": ""
            },
            "colorscale": [
             [
              0,
              "#0d0887"
             ],
             [
              0.1111111111111111,
              "#46039f"
             ],
             [
              0.2222222222222222,
              "#7201a8"
             ],
             [
              0.3333333333333333,
              "#9c179e"
             ],
             [
              0.4444444444444444,
              "#bd3786"
             ],
             [
              0.5555555555555556,
              "#d8576b"
             ],
             [
              0.6666666666666666,
              "#ed7953"
             ],
             [
              0.7777777777777778,
              "#fb9f3a"
             ],
             [
              0.8888888888888888,
              "#fdca26"
             ],
             [
              1,
              "#f0f921"
             ]
            ],
            "type": "histogram2d"
           }
          ],
          "histogram2dcontour": [
           {
            "colorbar": {
             "outlinewidth": 0,
             "ticks": ""
            },
            "colorscale": [
             [
              0,
              "#0d0887"
             ],
             [
              0.1111111111111111,
              "#46039f"
             ],
             [
              0.2222222222222222,
              "#7201a8"
             ],
             [
              0.3333333333333333,
              "#9c179e"
             ],
             [
              0.4444444444444444,
              "#bd3786"
             ],
             [
              0.5555555555555556,
              "#d8576b"
             ],
             [
              0.6666666666666666,
              "#ed7953"
             ],
             [
              0.7777777777777778,
              "#fb9f3a"
             ],
             [
              0.8888888888888888,
              "#fdca26"
             ],
             [
              1,
              "#f0f921"
             ]
            ],
            "type": "histogram2dcontour"
           }
          ],
          "mesh3d": [
           {
            "colorbar": {
             "outlinewidth": 0,
             "ticks": ""
            },
            "type": "mesh3d"
           }
          ],
          "parcoords": [
           {
            "line": {
             "colorbar": {
              "outlinewidth": 0,
              "ticks": ""
             }
            },
            "type": "parcoords"
           }
          ],
          "pie": [
           {
            "automargin": true,
            "type": "pie"
           }
          ],
          "scatter": [
           {
            "fillpattern": {
             "fillmode": "overlay",
             "size": 10,
             "solidity": 0.2
            },
            "type": "scatter"
           }
          ],
          "scatter3d": [
           {
            "line": {
             "colorbar": {
              "outlinewidth": 0,
              "ticks": ""
             }
            },
            "marker": {
             "colorbar": {
              "outlinewidth": 0,
              "ticks": ""
             }
            },
            "type": "scatter3d"
           }
          ],
          "scattercarpet": [
           {
            "marker": {
             "colorbar": {
              "outlinewidth": 0,
              "ticks": ""
             }
            },
            "type": "scattercarpet"
           }
          ],
          "scattergeo": [
           {
            "marker": {
             "colorbar": {
              "outlinewidth": 0,
              "ticks": ""
             }
            },
            "type": "scattergeo"
           }
          ],
          "scattergl": [
           {
            "marker": {
             "colorbar": {
              "outlinewidth": 0,
              "ticks": ""
             }
            },
            "type": "scattergl"
           }
          ],
          "scattermap": [
           {
            "marker": {
             "colorbar": {
              "outlinewidth": 0,
              "ticks": ""
             }
            },
            "type": "scattermap"
           }
          ],
          "scattermapbox": [
           {
            "marker": {
             "colorbar": {
              "outlinewidth": 0,
              "ticks": ""
             }
            },
            "type": "scattermapbox"
           }
          ],
          "scatterpolar": [
           {
            "marker": {
             "colorbar": {
              "outlinewidth": 0,
              "ticks": ""
             }
            },
            "type": "scatterpolar"
           }
          ],
          "scatterpolargl": [
           {
            "marker": {
             "colorbar": {
              "outlinewidth": 0,
              "ticks": ""
             }
            },
            "type": "scatterpolargl"
           }
          ],
          "scatterternary": [
           {
            "marker": {
             "colorbar": {
              "outlinewidth": 0,
              "ticks": ""
             }
            },
            "type": "scatterternary"
           }
          ],
          "surface": [
           {
            "colorbar": {
             "outlinewidth": 0,
             "ticks": ""
            },
            "colorscale": [
             [
              0,
              "#0d0887"
             ],
             [
              0.1111111111111111,
              "#46039f"
             ],
             [
              0.2222222222222222,
              "#7201a8"
             ],
             [
              0.3333333333333333,
              "#9c179e"
             ],
             [
              0.4444444444444444,
              "#bd3786"
             ],
             [
              0.5555555555555556,
              "#d8576b"
             ],
             [
              0.6666666666666666,
              "#ed7953"
             ],
             [
              0.7777777777777778,
              "#fb9f3a"
             ],
             [
              0.8888888888888888,
              "#fdca26"
             ],
             [
              1,
              "#f0f921"
             ]
            ],
            "type": "surface"
           }
          ],
          "table": [
           {
            "cells": {
             "fill": {
              "color": "#EBF0F8"
             },
             "line": {
              "color": "white"
             }
            },
            "header": {
             "fill": {
              "color": "#C8D4E3"
             },
             "line": {
              "color": "white"
             }
            },
            "type": "table"
           }
          ]
         },
         "layout": {
          "annotationdefaults": {
           "arrowcolor": "#2a3f5f",
           "arrowhead": 0,
           "arrowwidth": 1
          },
          "autotypenumbers": "strict",
          "coloraxis": {
           "colorbar": {
            "outlinewidth": 0,
            "ticks": ""
           }
          },
          "colorscale": {
           "diverging": [
            [
             0,
             "#8e0152"
            ],
            [
             0.1,
             "#c51b7d"
            ],
            [
             0.2,
             "#de77ae"
            ],
            [
             0.3,
             "#f1b6da"
            ],
            [
             0.4,
             "#fde0ef"
            ],
            [
             0.5,
             "#f7f7f7"
            ],
            [
             0.6,
             "#e6f5d0"
            ],
            [
             0.7,
             "#b8e186"
            ],
            [
             0.8,
             "#7fbc41"
            ],
            [
             0.9,
             "#4d9221"
            ],
            [
             1,
             "#276419"
            ]
           ],
           "sequential": [
            [
             0,
             "#0d0887"
            ],
            [
             0.1111111111111111,
             "#46039f"
            ],
            [
             0.2222222222222222,
             "#7201a8"
            ],
            [
             0.3333333333333333,
             "#9c179e"
            ],
            [
             0.4444444444444444,
             "#bd3786"
            ],
            [
             0.5555555555555556,
             "#d8576b"
            ],
            [
             0.6666666666666666,
             "#ed7953"
            ],
            [
             0.7777777777777778,
             "#fb9f3a"
            ],
            [
             0.8888888888888888,
             "#fdca26"
            ],
            [
             1,
             "#f0f921"
            ]
           ],
           "sequentialminus": [
            [
             0,
             "#0d0887"
            ],
            [
             0.1111111111111111,
             "#46039f"
            ],
            [
             0.2222222222222222,
             "#7201a8"
            ],
            [
             0.3333333333333333,
             "#9c179e"
            ],
            [
             0.4444444444444444,
             "#bd3786"
            ],
            [
             0.5555555555555556,
             "#d8576b"
            ],
            [
             0.6666666666666666,
             "#ed7953"
            ],
            [
             0.7777777777777778,
             "#fb9f3a"
            ],
            [
             0.8888888888888888,
             "#fdca26"
            ],
            [
             1,
             "#f0f921"
            ]
           ]
          },
          "colorway": [
           "#636efa",
           "#EF553B",
           "#00cc96",
           "#ab63fa",
           "#FFA15A",
           "#19d3f3",
           "#FF6692",
           "#B6E880",
           "#FF97FF",
           "#FECB52"
          ],
          "font": {
           "color": "#2a3f5f"
          },
          "geo": {
           "bgcolor": "white",
           "lakecolor": "white",
           "landcolor": "white",
           "showlakes": true,
           "showland": true,
           "subunitcolor": "#C8D4E3"
          },
          "hoverlabel": {
           "align": "left"
          },
          "hovermode": "closest",
          "mapbox": {
           "style": "light"
          },
          "paper_bgcolor": "white",
          "plot_bgcolor": "white",
          "polar": {
           "angularaxis": {
            "gridcolor": "#EBF0F8",
            "linecolor": "#EBF0F8",
            "ticks": ""
           },
           "bgcolor": "white",
           "radialaxis": {
            "gridcolor": "#EBF0F8",
            "linecolor": "#EBF0F8",
            "ticks": ""
           }
          },
          "scene": {
           "xaxis": {
            "backgroundcolor": "white",
            "gridcolor": "#DFE8F3",
            "gridwidth": 2,
            "linecolor": "#EBF0F8",
            "showbackground": true,
            "ticks": "",
            "zerolinecolor": "#EBF0F8"
           },
           "yaxis": {
            "backgroundcolor": "white",
            "gridcolor": "#DFE8F3",
            "gridwidth": 2,
            "linecolor": "#EBF0F8",
            "showbackground": true,
            "ticks": "",
            "zerolinecolor": "#EBF0F8"
           },
           "zaxis": {
            "backgroundcolor": "white",
            "gridcolor": "#DFE8F3",
            "gridwidth": 2,
            "linecolor": "#EBF0F8",
            "showbackground": true,
            "ticks": "",
            "zerolinecolor": "#EBF0F8"
           }
          },
          "shapedefaults": {
           "line": {
            "color": "#2a3f5f"
           }
          },
          "ternary": {
           "aaxis": {
            "gridcolor": "#DFE8F3",
            "linecolor": "#A2B1C6",
            "ticks": ""
           },
           "baxis": {
            "gridcolor": "#DFE8F3",
            "linecolor": "#A2B1C6",
            "ticks": ""
           },
           "bgcolor": "white",
           "caxis": {
            "gridcolor": "#DFE8F3",
            "linecolor": "#A2B1C6",
            "ticks": ""
           }
          },
          "title": {
           "x": 0.05
          },
          "xaxis": {
           "automargin": true,
           "gridcolor": "#EBF0F8",
           "linecolor": "#EBF0F8",
           "ticks": "",
           "title": {
            "standoff": 15
           },
           "zerolinecolor": "#EBF0F8",
           "zerolinewidth": 2
          },
          "yaxis": {
           "automargin": true,
           "gridcolor": "#EBF0F8",
           "linecolor": "#EBF0F8",
           "ticks": "",
           "title": {
            "standoff": 15
           },
           "zerolinecolor": "#EBF0F8",
           "zerolinewidth": 2
          }
         }
        },
        "title": {
         "text": "Distribution of Average Hours on Social Media"
        },
        "xaxis": {
         "anchor": "y",
         "domain": [
          0,
          1
         ],
         "title": {
          "text": "Avg_Daily_Usage_Hours"
         }
        },
        "yaxis": {
         "anchor": "x",
         "domain": [
          0,
          1
         ],
         "title": {
          "text": "count"
         }
        }
       }
      }
     },
     "metadata": {},
     "output_type": "display_data"
    }
   ],
   "source": [
    "#2\n",
    "fig = px.histogram(data, \n",
    "                   x='Avg_Daily_Usage_Hours',  # Use the correct column name here\n",
    "                   title='Distribution of Average Hours on Social Media',\n",
    "                   nbins=10,\n",
    "                   template='plotly_white',\n",
    "        color_discrete_sequence=['#FFDDEE'])\n",
    "fig.show()"
   ]
  },
  {
   "cell_type": "markdown",
   "id": "20f2dc6f-0ec8-4db6-abdc-523682614fde",
   "metadata": {},
   "source": [
    "The histogram shows how many students spend different amounts of time on social media each day. Most students use social media between 4 to 6 hours daily, indicating high usage is common. Very few students use it less that 2 or more than 8 hours daily. The objective to understand the daily usage pattern of social media among students is successfully achieved."
   ]
  },
  {
   "cell_type": "code",
   "execution_count": 234,
   "id": "0ee8d8b4-6e11-4800-b343-53dd69aa2418",
   "metadata": {},
   "outputs": [
    {
     "data": {
      "application/vnd.plotly.v1+json": {
       "config": {
        "plotlyServerURL": "https://plot.ly"
       },
       "data": [
        {
         "domain": {
          "x": [
           0,
           1
          ],
          "y": [
           0,
           1
          ]
         },
         "hovertemplate": "Academic_Level=%{label}<br>Count=%{value}<extra></extra>",
         "labels": [
          "Undergraduate",
          "Graduate",
          "High School"
         ],
         "legendgroup": "",
         "name": "",
         "showlegend": true,
         "type": "pie",
         "values": {
          "bdata": "YQFFARsA",
          "dtype": "i2"
         }
        }
       ],
       "layout": {
        "legend": {
         "tracegroupgap": 0
        },
        "piecolorway": [
         "#FFD1DC",
         "#AEC6CF",
         "#FFB347",
         "#B39EB5",
         "#AAF0D1",
         "#ACE1AF",
         "#CBAACB",
         "#FF6961"
        ],
        "template": {
         "data": {
          "bar": [
           {
            "error_x": {
             "color": "#2a3f5f"
            },
            "error_y": {
             "color": "#2a3f5f"
            },
            "marker": {
             "line": {
              "color": "white",
              "width": 0.5
             },
             "pattern": {
              "fillmode": "overlay",
              "size": 10,
              "solidity": 0.2
             }
            },
            "type": "bar"
           }
          ],
          "barpolar": [
           {
            "marker": {
             "line": {
              "color": "white",
              "width": 0.5
             },
             "pattern": {
              "fillmode": "overlay",
              "size": 10,
              "solidity": 0.2
             }
            },
            "type": "barpolar"
           }
          ],
          "carpet": [
           {
            "aaxis": {
             "endlinecolor": "#2a3f5f",
             "gridcolor": "#C8D4E3",
             "linecolor": "#C8D4E3",
             "minorgridcolor": "#C8D4E3",
             "startlinecolor": "#2a3f5f"
            },
            "baxis": {
             "endlinecolor": "#2a3f5f",
             "gridcolor": "#C8D4E3",
             "linecolor": "#C8D4E3",
             "minorgridcolor": "#C8D4E3",
             "startlinecolor": "#2a3f5f"
            },
            "type": "carpet"
           }
          ],
          "choropleth": [
           {
            "colorbar": {
             "outlinewidth": 0,
             "ticks": ""
            },
            "type": "choropleth"
           }
          ],
          "contour": [
           {
            "colorbar": {
             "outlinewidth": 0,
             "ticks": ""
            },
            "colorscale": [
             [
              0,
              "#0d0887"
             ],
             [
              0.1111111111111111,
              "#46039f"
             ],
             [
              0.2222222222222222,
              "#7201a8"
             ],
             [
              0.3333333333333333,
              "#9c179e"
             ],
             [
              0.4444444444444444,
              "#bd3786"
             ],
             [
              0.5555555555555556,
              "#d8576b"
             ],
             [
              0.6666666666666666,
              "#ed7953"
             ],
             [
              0.7777777777777778,
              "#fb9f3a"
             ],
             [
              0.8888888888888888,
              "#fdca26"
             ],
             [
              1,
              "#f0f921"
             ]
            ],
            "type": "contour"
           }
          ],
          "contourcarpet": [
           {
            "colorbar": {
             "outlinewidth": 0,
             "ticks": ""
            },
            "type": "contourcarpet"
           }
          ],
          "heatmap": [
           {
            "colorbar": {
             "outlinewidth": 0,
             "ticks": ""
            },
            "colorscale": [
             [
              0,
              "#0d0887"
             ],
             [
              0.1111111111111111,
              "#46039f"
             ],
             [
              0.2222222222222222,
              "#7201a8"
             ],
             [
              0.3333333333333333,
              "#9c179e"
             ],
             [
              0.4444444444444444,
              "#bd3786"
             ],
             [
              0.5555555555555556,
              "#d8576b"
             ],
             [
              0.6666666666666666,
              "#ed7953"
             ],
             [
              0.7777777777777778,
              "#fb9f3a"
             ],
             [
              0.8888888888888888,
              "#fdca26"
             ],
             [
              1,
              "#f0f921"
             ]
            ],
            "type": "heatmap"
           }
          ],
          "histogram": [
           {
            "marker": {
             "pattern": {
              "fillmode": "overlay",
              "size": 10,
              "solidity": 0.2
             }
            },
            "type": "histogram"
           }
          ],
          "histogram2d": [
           {
            "colorbar": {
             "outlinewidth": 0,
             "ticks": ""
            },
            "colorscale": [
             [
              0,
              "#0d0887"
             ],
             [
              0.1111111111111111,
              "#46039f"
             ],
             [
              0.2222222222222222,
              "#7201a8"
             ],
             [
              0.3333333333333333,
              "#9c179e"
             ],
             [
              0.4444444444444444,
              "#bd3786"
             ],
             [
              0.5555555555555556,
              "#d8576b"
             ],
             [
              0.6666666666666666,
              "#ed7953"
             ],
             [
              0.7777777777777778,
              "#fb9f3a"
             ],
             [
              0.8888888888888888,
              "#fdca26"
             ],
             [
              1,
              "#f0f921"
             ]
            ],
            "type": "histogram2d"
           }
          ],
          "histogram2dcontour": [
           {
            "colorbar": {
             "outlinewidth": 0,
             "ticks": ""
            },
            "colorscale": [
             [
              0,
              "#0d0887"
             ],
             [
              0.1111111111111111,
              "#46039f"
             ],
             [
              0.2222222222222222,
              "#7201a8"
             ],
             [
              0.3333333333333333,
              "#9c179e"
             ],
             [
              0.4444444444444444,
              "#bd3786"
             ],
             [
              0.5555555555555556,
              "#d8576b"
             ],
             [
              0.6666666666666666,
              "#ed7953"
             ],
             [
              0.7777777777777778,
              "#fb9f3a"
             ],
             [
              0.8888888888888888,
              "#fdca26"
             ],
             [
              1,
              "#f0f921"
             ]
            ],
            "type": "histogram2dcontour"
           }
          ],
          "mesh3d": [
           {
            "colorbar": {
             "outlinewidth": 0,
             "ticks": ""
            },
            "type": "mesh3d"
           }
          ],
          "parcoords": [
           {
            "line": {
             "colorbar": {
              "outlinewidth": 0,
              "ticks": ""
             }
            },
            "type": "parcoords"
           }
          ],
          "pie": [
           {
            "automargin": true,
            "type": "pie"
           }
          ],
          "scatter": [
           {
            "fillpattern": {
             "fillmode": "overlay",
             "size": 10,
             "solidity": 0.2
            },
            "type": "scatter"
           }
          ],
          "scatter3d": [
           {
            "line": {
             "colorbar": {
              "outlinewidth": 0,
              "ticks": ""
             }
            },
            "marker": {
             "colorbar": {
              "outlinewidth": 0,
              "ticks": ""
             }
            },
            "type": "scatter3d"
           }
          ],
          "scattercarpet": [
           {
            "marker": {
             "colorbar": {
              "outlinewidth": 0,
              "ticks": ""
             }
            },
            "type": "scattercarpet"
           }
          ],
          "scattergeo": [
           {
            "marker": {
             "colorbar": {
              "outlinewidth": 0,
              "ticks": ""
             }
            },
            "type": "scattergeo"
           }
          ],
          "scattergl": [
           {
            "marker": {
             "colorbar": {
              "outlinewidth": 0,
              "ticks": ""
             }
            },
            "type": "scattergl"
           }
          ],
          "scattermap": [
           {
            "marker": {
             "colorbar": {
              "outlinewidth": 0,
              "ticks": ""
             }
            },
            "type": "scattermap"
           }
          ],
          "scattermapbox": [
           {
            "marker": {
             "colorbar": {
              "outlinewidth": 0,
              "ticks": ""
             }
            },
            "type": "scattermapbox"
           }
          ],
          "scatterpolar": [
           {
            "marker": {
             "colorbar": {
              "outlinewidth": 0,
              "ticks": ""
             }
            },
            "type": "scatterpolar"
           }
          ],
          "scatterpolargl": [
           {
            "marker": {
             "colorbar": {
              "outlinewidth": 0,
              "ticks": ""
             }
            },
            "type": "scatterpolargl"
           }
          ],
          "scatterternary": [
           {
            "marker": {
             "colorbar": {
              "outlinewidth": 0,
              "ticks": ""
             }
            },
            "type": "scatterternary"
           }
          ],
          "surface": [
           {
            "colorbar": {
             "outlinewidth": 0,
             "ticks": ""
            },
            "colorscale": [
             [
              0,
              "#0d0887"
             ],
             [
              0.1111111111111111,
              "#46039f"
             ],
             [
              0.2222222222222222,
              "#7201a8"
             ],
             [
              0.3333333333333333,
              "#9c179e"
             ],
             [
              0.4444444444444444,
              "#bd3786"
             ],
             [
              0.5555555555555556,
              "#d8576b"
             ],
             [
              0.6666666666666666,
              "#ed7953"
             ],
             [
              0.7777777777777778,
              "#fb9f3a"
             ],
             [
              0.8888888888888888,
              "#fdca26"
             ],
             [
              1,
              "#f0f921"
             ]
            ],
            "type": "surface"
           }
          ],
          "table": [
           {
            "cells": {
             "fill": {
              "color": "#EBF0F8"
             },
             "line": {
              "color": "white"
             }
            },
            "header": {
             "fill": {
              "color": "#C8D4E3"
             },
             "line": {
              "color": "white"
             }
            },
            "type": "table"
           }
          ]
         },
         "layout": {
          "annotationdefaults": {
           "arrowcolor": "#2a3f5f",
           "arrowhead": 0,
           "arrowwidth": 1
          },
          "autotypenumbers": "strict",
          "coloraxis": {
           "colorbar": {
            "outlinewidth": 0,
            "ticks": ""
           }
          },
          "colorscale": {
           "diverging": [
            [
             0,
             "#8e0152"
            ],
            [
             0.1,
             "#c51b7d"
            ],
            [
             0.2,
             "#de77ae"
            ],
            [
             0.3,
             "#f1b6da"
            ],
            [
             0.4,
             "#fde0ef"
            ],
            [
             0.5,
             "#f7f7f7"
            ],
            [
             0.6,
             "#e6f5d0"
            ],
            [
             0.7,
             "#b8e186"
            ],
            [
             0.8,
             "#7fbc41"
            ],
            [
             0.9,
             "#4d9221"
            ],
            [
             1,
             "#276419"
            ]
           ],
           "sequential": [
            [
             0,
             "#0d0887"
            ],
            [
             0.1111111111111111,
             "#46039f"
            ],
            [
             0.2222222222222222,
             "#7201a8"
            ],
            [
             0.3333333333333333,
             "#9c179e"
            ],
            [
             0.4444444444444444,
             "#bd3786"
            ],
            [
             0.5555555555555556,
             "#d8576b"
            ],
            [
             0.6666666666666666,
             "#ed7953"
            ],
            [
             0.7777777777777778,
             "#fb9f3a"
            ],
            [
             0.8888888888888888,
             "#fdca26"
            ],
            [
             1,
             "#f0f921"
            ]
           ],
           "sequentialminus": [
            [
             0,
             "#0d0887"
            ],
            [
             0.1111111111111111,
             "#46039f"
            ],
            [
             0.2222222222222222,
             "#7201a8"
            ],
            [
             0.3333333333333333,
             "#9c179e"
            ],
            [
             0.4444444444444444,
             "#bd3786"
            ],
            [
             0.5555555555555556,
             "#d8576b"
            ],
            [
             0.6666666666666666,
             "#ed7953"
            ],
            [
             0.7777777777777778,
             "#fb9f3a"
            ],
            [
             0.8888888888888888,
             "#fdca26"
            ],
            [
             1,
             "#f0f921"
            ]
           ]
          },
          "colorway": [
           "#636efa",
           "#EF553B",
           "#00cc96",
           "#ab63fa",
           "#FFA15A",
           "#19d3f3",
           "#FF6692",
           "#B6E880",
           "#FF97FF",
           "#FECB52"
          ],
          "font": {
           "color": "#2a3f5f"
          },
          "geo": {
           "bgcolor": "white",
           "lakecolor": "white",
           "landcolor": "white",
           "showlakes": true,
           "showland": true,
           "subunitcolor": "#C8D4E3"
          },
          "hoverlabel": {
           "align": "left"
          },
          "hovermode": "closest",
          "mapbox": {
           "style": "light"
          },
          "paper_bgcolor": "white",
          "plot_bgcolor": "white",
          "polar": {
           "angularaxis": {
            "gridcolor": "#EBF0F8",
            "linecolor": "#EBF0F8",
            "ticks": ""
           },
           "bgcolor": "white",
           "radialaxis": {
            "gridcolor": "#EBF0F8",
            "linecolor": "#EBF0F8",
            "ticks": ""
           }
          },
          "scene": {
           "xaxis": {
            "backgroundcolor": "white",
            "gridcolor": "#DFE8F3",
            "gridwidth": 2,
            "linecolor": "#EBF0F8",
            "showbackground": true,
            "ticks": "",
            "zerolinecolor": "#EBF0F8"
           },
           "yaxis": {
            "backgroundcolor": "white",
            "gridcolor": "#DFE8F3",
            "gridwidth": 2,
            "linecolor": "#EBF0F8",
            "showbackground": true,
            "ticks": "",
            "zerolinecolor": "#EBF0F8"
           },
           "zaxis": {
            "backgroundcolor": "white",
            "gridcolor": "#DFE8F3",
            "gridwidth": 2,
            "linecolor": "#EBF0F8",
            "showbackground": true,
            "ticks": "",
            "zerolinecolor": "#EBF0F8"
           }
          },
          "shapedefaults": {
           "line": {
            "color": "#2a3f5f"
           }
          },
          "ternary": {
           "aaxis": {
            "gridcolor": "#DFE8F3",
            "linecolor": "#A2B1C6",
            "ticks": ""
           },
           "baxis": {
            "gridcolor": "#DFE8F3",
            "linecolor": "#A2B1C6",
            "ticks": ""
           },
           "bgcolor": "white",
           "caxis": {
            "gridcolor": "#DFE8F3",
            "linecolor": "#A2B1C6",
            "ticks": ""
           }
          },
          "title": {
           "x": 0.05
          },
          "xaxis": {
           "automargin": true,
           "gridcolor": "#EBF0F8",
           "linecolor": "#EBF0F8",
           "ticks": "",
           "title": {
            "standoff": 15
           },
           "zerolinecolor": "#EBF0F8",
           "zerolinewidth": 2
          },
          "yaxis": {
           "automargin": true,
           "gridcolor": "#EBF0F8",
           "linecolor": "#EBF0F8",
           "ticks": "",
           "title": {
            "standoff": 15
           },
           "zerolinecolor": "#EBF0F8",
           "zerolinewidth": 2
          }
         }
        },
        "title": {
         "text": "Academic Level Distribution"
        }
       }
      }
     },
     "metadata": {},
     "output_type": "display_data"
    }
   ],
   "source": [
    "# pie chart (not used in final dashboard)\n",
    "academic_counts = data['Academic_Level'].value_counts().reset_index()\n",
    "academic_counts.columns = ['Academic_Level', 'Count']\n",
    "\n",
    "pastel_colors = [\n",
    "    \"#FFD1DC\", \"#AEC6CF\", \"#FFB347\", \"#B39EB5\",\n",
    "    \"#AAF0D1\", \"#ACE1AF\", \"#CBAACB\", \"#FF6961\"\n",
    "]\n",
    "\n",
    "# Create the pie chart\n",
    "fig = px.pie(academic_counts, \n",
    "             values='Count', \n",
    "             names='Academic_Level', \n",
    "             title='Academic Level Distribution',\n",
    "             color_discrete_sequence=pastel_colors,\n",
    "    template='plotly_white')\n",
    "\n",
    "\n",
    "# Show the interactive chart\n",
    "fig.show()"
   ]
  },
  {
   "cell_type": "raw",
   "id": "ab05c581-fac0-44da-9760-7879a1235b9f",
   "metadata": {},
   "source": [
    "The pie chart displays the distribution of students by academic level, showing that undergraduate students make up the largest portion, followed by graduate and high school students.\n",
    "This indicates that the findings of the analysis are most representative of the undergraduate population, which should be considered when interpreting overall trends. However, this pie chart not included in in final dashboard."
   ]
  },
  {
   "cell_type": "code",
   "execution_count": 235,
   "id": "b75bce1b-11db-47df-87d2-3da9bb1a39b0",
   "metadata": {},
   "outputs": [
    {
     "data": {
      "application/vnd.plotly.v1+json": {
       "config": {
        "plotlyServerURL": "https://plot.ly"
       },
       "data": [
        {
         "domain": {
          "x": [
           0,
           1
          ],
          "y": [
           0,
           1
          ]
         },
         "hole": 0.4,
         "hovertemplate": "Addicted_Score=%{label}<br>Count=%{value}<extra></extra>",
         "labels": {
          "bdata": "BwgFBAYJAwI=",
          "dtype": "i1"
         },
         "legendgroup": "",
         "name": "",
         "showlegend": true,
         "type": "pie",
         "values": {
          "bdata": "0QCQAIgAUwA9ADcAEAABAA==",
          "dtype": "i2"
         }
        }
       ],
       "layout": {
        "legend": {
         "tracegroupgap": 0
        },
        "piecolorway": [
         "#FFD1DC",
         "#AEC6CF",
         "#FFB347",
         "#B39EB5",
         "#AAF0D1",
         "#ACE1AF",
         "#CBAACB",
         "#FF6961"
        ],
        "template": {
         "data": {
          "bar": [
           {
            "error_x": {
             "color": "#2a3f5f"
            },
            "error_y": {
             "color": "#2a3f5f"
            },
            "marker": {
             "line": {
              "color": "white",
              "width": 0.5
             },
             "pattern": {
              "fillmode": "overlay",
              "size": 10,
              "solidity": 0.2
             }
            },
            "type": "bar"
           }
          ],
          "barpolar": [
           {
            "marker": {
             "line": {
              "color": "white",
              "width": 0.5
             },
             "pattern": {
              "fillmode": "overlay",
              "size": 10,
              "solidity": 0.2
             }
            },
            "type": "barpolar"
           }
          ],
          "carpet": [
           {
            "aaxis": {
             "endlinecolor": "#2a3f5f",
             "gridcolor": "#C8D4E3",
             "linecolor": "#C8D4E3",
             "minorgridcolor": "#C8D4E3",
             "startlinecolor": "#2a3f5f"
            },
            "baxis": {
             "endlinecolor": "#2a3f5f",
             "gridcolor": "#C8D4E3",
             "linecolor": "#C8D4E3",
             "minorgridcolor": "#C8D4E3",
             "startlinecolor": "#2a3f5f"
            },
            "type": "carpet"
           }
          ],
          "choropleth": [
           {
            "colorbar": {
             "outlinewidth": 0,
             "ticks": ""
            },
            "type": "choropleth"
           }
          ],
          "contour": [
           {
            "colorbar": {
             "outlinewidth": 0,
             "ticks": ""
            },
            "colorscale": [
             [
              0,
              "#0d0887"
             ],
             [
              0.1111111111111111,
              "#46039f"
             ],
             [
              0.2222222222222222,
              "#7201a8"
             ],
             [
              0.3333333333333333,
              "#9c179e"
             ],
             [
              0.4444444444444444,
              "#bd3786"
             ],
             [
              0.5555555555555556,
              "#d8576b"
             ],
             [
              0.6666666666666666,
              "#ed7953"
             ],
             [
              0.7777777777777778,
              "#fb9f3a"
             ],
             [
              0.8888888888888888,
              "#fdca26"
             ],
             [
              1,
              "#f0f921"
             ]
            ],
            "type": "contour"
           }
          ],
          "contourcarpet": [
           {
            "colorbar": {
             "outlinewidth": 0,
             "ticks": ""
            },
            "type": "contourcarpet"
           }
          ],
          "heatmap": [
           {
            "colorbar": {
             "outlinewidth": 0,
             "ticks": ""
            },
            "colorscale": [
             [
              0,
              "#0d0887"
             ],
             [
              0.1111111111111111,
              "#46039f"
             ],
             [
              0.2222222222222222,
              "#7201a8"
             ],
             [
              0.3333333333333333,
              "#9c179e"
             ],
             [
              0.4444444444444444,
              "#bd3786"
             ],
             [
              0.5555555555555556,
              "#d8576b"
             ],
             [
              0.6666666666666666,
              "#ed7953"
             ],
             [
              0.7777777777777778,
              "#fb9f3a"
             ],
             [
              0.8888888888888888,
              "#fdca26"
             ],
             [
              1,
              "#f0f921"
             ]
            ],
            "type": "heatmap"
           }
          ],
          "histogram": [
           {
            "marker": {
             "pattern": {
              "fillmode": "overlay",
              "size": 10,
              "solidity": 0.2
             }
            },
            "type": "histogram"
           }
          ],
          "histogram2d": [
           {
            "colorbar": {
             "outlinewidth": 0,
             "ticks": ""
            },
            "colorscale": [
             [
              0,
              "#0d0887"
             ],
             [
              0.1111111111111111,
              "#46039f"
             ],
             [
              0.2222222222222222,
              "#7201a8"
             ],
             [
              0.3333333333333333,
              "#9c179e"
             ],
             [
              0.4444444444444444,
              "#bd3786"
             ],
             [
              0.5555555555555556,
              "#d8576b"
             ],
             [
              0.6666666666666666,
              "#ed7953"
             ],
             [
              0.7777777777777778,
              "#fb9f3a"
             ],
             [
              0.8888888888888888,
              "#fdca26"
             ],
             [
              1,
              "#f0f921"
             ]
            ],
            "type": "histogram2d"
           }
          ],
          "histogram2dcontour": [
           {
            "colorbar": {
             "outlinewidth": 0,
             "ticks": ""
            },
            "colorscale": [
             [
              0,
              "#0d0887"
             ],
             [
              0.1111111111111111,
              "#46039f"
             ],
             [
              0.2222222222222222,
              "#7201a8"
             ],
             [
              0.3333333333333333,
              "#9c179e"
             ],
             [
              0.4444444444444444,
              "#bd3786"
             ],
             [
              0.5555555555555556,
              "#d8576b"
             ],
             [
              0.6666666666666666,
              "#ed7953"
             ],
             [
              0.7777777777777778,
              "#fb9f3a"
             ],
             [
              0.8888888888888888,
              "#fdca26"
             ],
             [
              1,
              "#f0f921"
             ]
            ],
            "type": "histogram2dcontour"
           }
          ],
          "mesh3d": [
           {
            "colorbar": {
             "outlinewidth": 0,
             "ticks": ""
            },
            "type": "mesh3d"
           }
          ],
          "parcoords": [
           {
            "line": {
             "colorbar": {
              "outlinewidth": 0,
              "ticks": ""
             }
            },
            "type": "parcoords"
           }
          ],
          "pie": [
           {
            "automargin": true,
            "type": "pie"
           }
          ],
          "scatter": [
           {
            "fillpattern": {
             "fillmode": "overlay",
             "size": 10,
             "solidity": 0.2
            },
            "type": "scatter"
           }
          ],
          "scatter3d": [
           {
            "line": {
             "colorbar": {
              "outlinewidth": 0,
              "ticks": ""
             }
            },
            "marker": {
             "colorbar": {
              "outlinewidth": 0,
              "ticks": ""
             }
            },
            "type": "scatter3d"
           }
          ],
          "scattercarpet": [
           {
            "marker": {
             "colorbar": {
              "outlinewidth": 0,
              "ticks": ""
             }
            },
            "type": "scattercarpet"
           }
          ],
          "scattergeo": [
           {
            "marker": {
             "colorbar": {
              "outlinewidth": 0,
              "ticks": ""
             }
            },
            "type": "scattergeo"
           }
          ],
          "scattergl": [
           {
            "marker": {
             "colorbar": {
              "outlinewidth": 0,
              "ticks": ""
             }
            },
            "type": "scattergl"
           }
          ],
          "scattermap": [
           {
            "marker": {
             "colorbar": {
              "outlinewidth": 0,
              "ticks": ""
             }
            },
            "type": "scattermap"
           }
          ],
          "scattermapbox": [
           {
            "marker": {
             "colorbar": {
              "outlinewidth": 0,
              "ticks": ""
             }
            },
            "type": "scattermapbox"
           }
          ],
          "scatterpolar": [
           {
            "marker": {
             "colorbar": {
              "outlinewidth": 0,
              "ticks": ""
             }
            },
            "type": "scatterpolar"
           }
          ],
          "scatterpolargl": [
           {
            "marker": {
             "colorbar": {
              "outlinewidth": 0,
              "ticks": ""
             }
            },
            "type": "scatterpolargl"
           }
          ],
          "scatterternary": [
           {
            "marker": {
             "colorbar": {
              "outlinewidth": 0,
              "ticks": ""
             }
            },
            "type": "scatterternary"
           }
          ],
          "surface": [
           {
            "colorbar": {
             "outlinewidth": 0,
             "ticks": ""
            },
            "colorscale": [
             [
              0,
              "#0d0887"
             ],
             [
              0.1111111111111111,
              "#46039f"
             ],
             [
              0.2222222222222222,
              "#7201a8"
             ],
             [
              0.3333333333333333,
              "#9c179e"
             ],
             [
              0.4444444444444444,
              "#bd3786"
             ],
             [
              0.5555555555555556,
              "#d8576b"
             ],
             [
              0.6666666666666666,
              "#ed7953"
             ],
             [
              0.7777777777777778,
              "#fb9f3a"
             ],
             [
              0.8888888888888888,
              "#fdca26"
             ],
             [
              1,
              "#f0f921"
             ]
            ],
            "type": "surface"
           }
          ],
          "table": [
           {
            "cells": {
             "fill": {
              "color": "#EBF0F8"
             },
             "line": {
              "color": "white"
             }
            },
            "header": {
             "fill": {
              "color": "#C8D4E3"
             },
             "line": {
              "color": "white"
             }
            },
            "type": "table"
           }
          ]
         },
         "layout": {
          "annotationdefaults": {
           "arrowcolor": "#2a3f5f",
           "arrowhead": 0,
           "arrowwidth": 1
          },
          "autotypenumbers": "strict",
          "coloraxis": {
           "colorbar": {
            "outlinewidth": 0,
            "ticks": ""
           }
          },
          "colorscale": {
           "diverging": [
            [
             0,
             "#8e0152"
            ],
            [
             0.1,
             "#c51b7d"
            ],
            [
             0.2,
             "#de77ae"
            ],
            [
             0.3,
             "#f1b6da"
            ],
            [
             0.4,
             "#fde0ef"
            ],
            [
             0.5,
             "#f7f7f7"
            ],
            [
             0.6,
             "#e6f5d0"
            ],
            [
             0.7,
             "#b8e186"
            ],
            [
             0.8,
             "#7fbc41"
            ],
            [
             0.9,
             "#4d9221"
            ],
            [
             1,
             "#276419"
            ]
           ],
           "sequential": [
            [
             0,
             "#0d0887"
            ],
            [
             0.1111111111111111,
             "#46039f"
            ],
            [
             0.2222222222222222,
             "#7201a8"
            ],
            [
             0.3333333333333333,
             "#9c179e"
            ],
            [
             0.4444444444444444,
             "#bd3786"
            ],
            [
             0.5555555555555556,
             "#d8576b"
            ],
            [
             0.6666666666666666,
             "#ed7953"
            ],
            [
             0.7777777777777778,
             "#fb9f3a"
            ],
            [
             0.8888888888888888,
             "#fdca26"
            ],
            [
             1,
             "#f0f921"
            ]
           ],
           "sequentialminus": [
            [
             0,
             "#0d0887"
            ],
            [
             0.1111111111111111,
             "#46039f"
            ],
            [
             0.2222222222222222,
             "#7201a8"
            ],
            [
             0.3333333333333333,
             "#9c179e"
            ],
            [
             0.4444444444444444,
             "#bd3786"
            ],
            [
             0.5555555555555556,
             "#d8576b"
            ],
            [
             0.6666666666666666,
             "#ed7953"
            ],
            [
             0.7777777777777778,
             "#fb9f3a"
            ],
            [
             0.8888888888888888,
             "#fdca26"
            ],
            [
             1,
             "#f0f921"
            ]
           ]
          },
          "colorway": [
           "#636efa",
           "#EF553B",
           "#00cc96",
           "#ab63fa",
           "#FFA15A",
           "#19d3f3",
           "#FF6692",
           "#B6E880",
           "#FF97FF",
           "#FECB52"
          ],
          "font": {
           "color": "#2a3f5f"
          },
          "geo": {
           "bgcolor": "white",
           "lakecolor": "white",
           "landcolor": "white",
           "showlakes": true,
           "showland": true,
           "subunitcolor": "#C8D4E3"
          },
          "hoverlabel": {
           "align": "left"
          },
          "hovermode": "closest",
          "mapbox": {
           "style": "light"
          },
          "paper_bgcolor": "white",
          "plot_bgcolor": "white",
          "polar": {
           "angularaxis": {
            "gridcolor": "#EBF0F8",
            "linecolor": "#EBF0F8",
            "ticks": ""
           },
           "bgcolor": "white",
           "radialaxis": {
            "gridcolor": "#EBF0F8",
            "linecolor": "#EBF0F8",
            "ticks": ""
           }
          },
          "scene": {
           "xaxis": {
            "backgroundcolor": "white",
            "gridcolor": "#DFE8F3",
            "gridwidth": 2,
            "linecolor": "#EBF0F8",
            "showbackground": true,
            "ticks": "",
            "zerolinecolor": "#EBF0F8"
           },
           "yaxis": {
            "backgroundcolor": "white",
            "gridcolor": "#DFE8F3",
            "gridwidth": 2,
            "linecolor": "#EBF0F8",
            "showbackground": true,
            "ticks": "",
            "zerolinecolor": "#EBF0F8"
           },
           "zaxis": {
            "backgroundcolor": "white",
            "gridcolor": "#DFE8F3",
            "gridwidth": 2,
            "linecolor": "#EBF0F8",
            "showbackground": true,
            "ticks": "",
            "zerolinecolor": "#EBF0F8"
           }
          },
          "shapedefaults": {
           "line": {
            "color": "#2a3f5f"
           }
          },
          "ternary": {
           "aaxis": {
            "gridcolor": "#DFE8F3",
            "linecolor": "#A2B1C6",
            "ticks": ""
           },
           "baxis": {
            "gridcolor": "#DFE8F3",
            "linecolor": "#A2B1C6",
            "ticks": ""
           },
           "bgcolor": "white",
           "caxis": {
            "gridcolor": "#DFE8F3",
            "linecolor": "#A2B1C6",
            "ticks": ""
           }
          },
          "title": {
           "x": 0.05
          },
          "xaxis": {
           "automargin": true,
           "gridcolor": "#EBF0F8",
           "linecolor": "#EBF0F8",
           "ticks": "",
           "title": {
            "standoff": 15
           },
           "zerolinecolor": "#EBF0F8",
           "zerolinewidth": 2
          },
          "yaxis": {
           "automargin": true,
           "gridcolor": "#EBF0F8",
           "linecolor": "#EBF0F8",
           "ticks": "",
           "title": {
            "standoff": 15
           },
           "zerolinecolor": "#EBF0F8",
           "zerolinewidth": 2
          }
         }
        },
        "title": {
         "text": "Addiction Level Distribution"
        }
       }
      }
     },
     "metadata": {},
     "output_type": "display_data"
    }
   ],
   "source": [
    "# donut chart (not used in final dashboard)\n",
    "donut_data = data['Addicted_Score'].value_counts().reset_index()\n",
    "donut_data.columns = ['Addicted_Score', 'Count']\n",
    "\n",
    "pastel_colors = [\n",
    "    \"#FFD1DC\", \"#AEC6CF\", \"#FFB347\", \"#B39EB5\",\n",
    "    \"#AAF0D1\", \"#ACE1AF\", \"#CBAACB\", \"#FF6961\"\n",
    "]\n",
    "\n",
    "fig = px.pie(donut_data, values='Count', names='Addicted_Score',\n",
    "             title='Addiction Level Distribution',\n",
    "             hole=0.4,\n",
    "             template='plotly_white',\n",
    "    color_discrete_sequence=pastel_colors)\n",
    "fig.show()"
   ]
  },
  {
   "cell_type": "markdown",
   "id": "fefdf342-f2ee-403f-8ca5-9a00548cf96a",
   "metadata": {},
   "source": [
    "The chart shows that moderate to high addiction scores (particularly scores between 6 and 9) are the most common, indicating that a significant number of students experience notable levels of social media dependency. This donut chart, although not used in the final dashboard, provides insight into the overall distribution of social media addiction levels among students."
   ]
  },
  {
   "cell_type": "code",
   "execution_count": 236,
   "id": "56f97db4-72db-48f5-b52f-c9551cb8129c",
   "metadata": {},
   "outputs": [
    {
     "data": {
      "application/vnd.plotly.v1+json": {
       "config": {
        "plotlyServerURL": "https://plot.ly"
       },
       "data": [
        {
         "alignmentgroup": "True",
         "bingroup": "x",
         "hovertemplate": "Gender=Female<br>Addicted_Score=%{x}<br>count=%{y}<extra></extra>",
         "legendgroup": "Female",
         "marker": {
          "color": "#FADADD",
          "pattern": {
           "shape": ""
          }
         },
         "name": "Female",
         "offsetgroup": "Female",
         "orientation": "v",
         "showlegend": true,
         "type": "histogram",
         "x": {
          "bdata": "CAkJCAQICQcIBwQICQcIBwQICQcIBwQICQcIBwQICAkHCAcFCAcFCQcEBwQJBwgHBAgECAcIBwcIBQcIBQcIBQcIBQcIBQcIBQcIBQcIBQcHCAUHCAUHCAUHCAUHCAUHCAUHCAUHCAUHCAUHCAUJBQMGCQUDBgkFAwYJBQMGCQUDBgkFAwYJBQMGCQUDBgkFAwYJBQMGCQUDBgkFAwYJBQcGBAkFBwYECQUHBgQJBQcGBAkFBwYECQUHBgQJBQcGBAkFBwYECQUHBgQJBQcGBAkFBwYECQUHBgQJBQcGBAkFBwYECQUHBgQJBQcGBAkFBwYECQUHBgQJBQcEBwgIBwQHCAgHBAcICAcEBwgIBwQHCAgHBAcICAcEBwgIBwgFBwUICAQFBQkICAUFBwgIBwUHBQgJBAUFCQgIBwUHCAgHBQcFCAkEBQUJCAgHBQcICAcFBwUICQQFBQkICAcFBwg=",
          "dtype": "i1"
         },
         "xaxis": "x",
         "yaxis": "y"
        },
        {
         "alignmentgroup": "True",
         "bingroup": "x",
         "hovertemplate": "Gender=Male<br>Addicted_Score=%{x}<br>count=%{y}<extra></extra>",
         "legendgroup": "Male",
         "marker": {
          "color": "#B0E0E6",
          "pattern": {
           "shape": ""
          }
         },
         "name": "Male",
         "offsetgroup": "Male",
         "orientation": "v",
         "showlegend": true,
         "type": "histogram",
         "x": {
          "bdata": "AwQHAgUHBAUDBQgHBQUDBQgHBQYEBQgHBQYEBQgHBQcDBgQIBwQIBwQGCAgHBQYECAcJBwUGBAgFBwgFBwgFBwgFBwgFBwgFBwgFBwgFBwgGBwgGBwgGBwgGBwgGBwgGBwgGBwgGBwgGBwgGBwgHBAcFBwQIBQcEBwUHBAgFBwQHBQcECAUHBAcFBwQIBQcEBwUHBAgFBwQHBQcECAUHBAQIBwcHBAgHBwcECAcHBwQIBwcHBAgHBwcECAcHBwQIBwcHBAgHBwcECAcHBwQIBwcHBAgHBwcECAcHBwQIBwcHBAgHBwcECAcHBwQIBwcHBAgHBwcECAcHBwUGBwUGBQYHBQYFBgcFBgUGBwUGBQYHBQYFBgcFBgUGBwUGBAkICAYFBwgIBwUHBwgIBAUFCQgIBwUHCAgHBQcFCAkEBQUJCAgHBQcICAcFBwUICQQFBQkICAcFBwgIBwUHBQgJBA==",
          "dtype": "i1"
         },
         "xaxis": "x",
         "yaxis": "y"
        }
       ],
       "layout": {
        "barmode": "group",
        "legend": {
         "title": {
          "text": "Gender"
         },
         "tracegroupgap": 0
        },
        "template": {
         "data": {
          "bar": [
           {
            "error_x": {
             "color": "#2a3f5f"
            },
            "error_y": {
             "color": "#2a3f5f"
            },
            "marker": {
             "line": {
              "color": "white",
              "width": 0.5
             },
             "pattern": {
              "fillmode": "overlay",
              "size": 10,
              "solidity": 0.2
             }
            },
            "type": "bar"
           }
          ],
          "barpolar": [
           {
            "marker": {
             "line": {
              "color": "white",
              "width": 0.5
             },
             "pattern": {
              "fillmode": "overlay",
              "size": 10,
              "solidity": 0.2
             }
            },
            "type": "barpolar"
           }
          ],
          "carpet": [
           {
            "aaxis": {
             "endlinecolor": "#2a3f5f",
             "gridcolor": "#C8D4E3",
             "linecolor": "#C8D4E3",
             "minorgridcolor": "#C8D4E3",
             "startlinecolor": "#2a3f5f"
            },
            "baxis": {
             "endlinecolor": "#2a3f5f",
             "gridcolor": "#C8D4E3",
             "linecolor": "#C8D4E3",
             "minorgridcolor": "#C8D4E3",
             "startlinecolor": "#2a3f5f"
            },
            "type": "carpet"
           }
          ],
          "choropleth": [
           {
            "colorbar": {
             "outlinewidth": 0,
             "ticks": ""
            },
            "type": "choropleth"
           }
          ],
          "contour": [
           {
            "colorbar": {
             "outlinewidth": 0,
             "ticks": ""
            },
            "colorscale": [
             [
              0,
              "#0d0887"
             ],
             [
              0.1111111111111111,
              "#46039f"
             ],
             [
              0.2222222222222222,
              "#7201a8"
             ],
             [
              0.3333333333333333,
              "#9c179e"
             ],
             [
              0.4444444444444444,
              "#bd3786"
             ],
             [
              0.5555555555555556,
              "#d8576b"
             ],
             [
              0.6666666666666666,
              "#ed7953"
             ],
             [
              0.7777777777777778,
              "#fb9f3a"
             ],
             [
              0.8888888888888888,
              "#fdca26"
             ],
             [
              1,
              "#f0f921"
             ]
            ],
            "type": "contour"
           }
          ],
          "contourcarpet": [
           {
            "colorbar": {
             "outlinewidth": 0,
             "ticks": ""
            },
            "type": "contourcarpet"
           }
          ],
          "heatmap": [
           {
            "colorbar": {
             "outlinewidth": 0,
             "ticks": ""
            },
            "colorscale": [
             [
              0,
              "#0d0887"
             ],
             [
              0.1111111111111111,
              "#46039f"
             ],
             [
              0.2222222222222222,
              "#7201a8"
             ],
             [
              0.3333333333333333,
              "#9c179e"
             ],
             [
              0.4444444444444444,
              "#bd3786"
             ],
             [
              0.5555555555555556,
              "#d8576b"
             ],
             [
              0.6666666666666666,
              "#ed7953"
             ],
             [
              0.7777777777777778,
              "#fb9f3a"
             ],
             [
              0.8888888888888888,
              "#fdca26"
             ],
             [
              1,
              "#f0f921"
             ]
            ],
            "type": "heatmap"
           }
          ],
          "histogram": [
           {
            "marker": {
             "pattern": {
              "fillmode": "overlay",
              "size": 10,
              "solidity": 0.2
             }
            },
            "type": "histogram"
           }
          ],
          "histogram2d": [
           {
            "colorbar": {
             "outlinewidth": 0,
             "ticks": ""
            },
            "colorscale": [
             [
              0,
              "#0d0887"
             ],
             [
              0.1111111111111111,
              "#46039f"
             ],
             [
              0.2222222222222222,
              "#7201a8"
             ],
             [
              0.3333333333333333,
              "#9c179e"
             ],
             [
              0.4444444444444444,
              "#bd3786"
             ],
             [
              0.5555555555555556,
              "#d8576b"
             ],
             [
              0.6666666666666666,
              "#ed7953"
             ],
             [
              0.7777777777777778,
              "#fb9f3a"
             ],
             [
              0.8888888888888888,
              "#fdca26"
             ],
             [
              1,
              "#f0f921"
             ]
            ],
            "type": "histogram2d"
           }
          ],
          "histogram2dcontour": [
           {
            "colorbar": {
             "outlinewidth": 0,
             "ticks": ""
            },
            "colorscale": [
             [
              0,
              "#0d0887"
             ],
             [
              0.1111111111111111,
              "#46039f"
             ],
             [
              0.2222222222222222,
              "#7201a8"
             ],
             [
              0.3333333333333333,
              "#9c179e"
             ],
             [
              0.4444444444444444,
              "#bd3786"
             ],
             [
              0.5555555555555556,
              "#d8576b"
             ],
             [
              0.6666666666666666,
              "#ed7953"
             ],
             [
              0.7777777777777778,
              "#fb9f3a"
             ],
             [
              0.8888888888888888,
              "#fdca26"
             ],
             [
              1,
              "#f0f921"
             ]
            ],
            "type": "histogram2dcontour"
           }
          ],
          "mesh3d": [
           {
            "colorbar": {
             "outlinewidth": 0,
             "ticks": ""
            },
            "type": "mesh3d"
           }
          ],
          "parcoords": [
           {
            "line": {
             "colorbar": {
              "outlinewidth": 0,
              "ticks": ""
             }
            },
            "type": "parcoords"
           }
          ],
          "pie": [
           {
            "automargin": true,
            "type": "pie"
           }
          ],
          "scatter": [
           {
            "fillpattern": {
             "fillmode": "overlay",
             "size": 10,
             "solidity": 0.2
            },
            "type": "scatter"
           }
          ],
          "scatter3d": [
           {
            "line": {
             "colorbar": {
              "outlinewidth": 0,
              "ticks": ""
             }
            },
            "marker": {
             "colorbar": {
              "outlinewidth": 0,
              "ticks": ""
             }
            },
            "type": "scatter3d"
           }
          ],
          "scattercarpet": [
           {
            "marker": {
             "colorbar": {
              "outlinewidth": 0,
              "ticks": ""
             }
            },
            "type": "scattercarpet"
           }
          ],
          "scattergeo": [
           {
            "marker": {
             "colorbar": {
              "outlinewidth": 0,
              "ticks": ""
             }
            },
            "type": "scattergeo"
           }
          ],
          "scattergl": [
           {
            "marker": {
             "colorbar": {
              "outlinewidth": 0,
              "ticks": ""
             }
            },
            "type": "scattergl"
           }
          ],
          "scattermap": [
           {
            "marker": {
             "colorbar": {
              "outlinewidth": 0,
              "ticks": ""
             }
            },
            "type": "scattermap"
           }
          ],
          "scattermapbox": [
           {
            "marker": {
             "colorbar": {
              "outlinewidth": 0,
              "ticks": ""
             }
            },
            "type": "scattermapbox"
           }
          ],
          "scatterpolar": [
           {
            "marker": {
             "colorbar": {
              "outlinewidth": 0,
              "ticks": ""
             }
            },
            "type": "scatterpolar"
           }
          ],
          "scatterpolargl": [
           {
            "marker": {
             "colorbar": {
              "outlinewidth": 0,
              "ticks": ""
             }
            },
            "type": "scatterpolargl"
           }
          ],
          "scatterternary": [
           {
            "marker": {
             "colorbar": {
              "outlinewidth": 0,
              "ticks": ""
             }
            },
            "type": "scatterternary"
           }
          ],
          "surface": [
           {
            "colorbar": {
             "outlinewidth": 0,
             "ticks": ""
            },
            "colorscale": [
             [
              0,
              "#0d0887"
             ],
             [
              0.1111111111111111,
              "#46039f"
             ],
             [
              0.2222222222222222,
              "#7201a8"
             ],
             [
              0.3333333333333333,
              "#9c179e"
             ],
             [
              0.4444444444444444,
              "#bd3786"
             ],
             [
              0.5555555555555556,
              "#d8576b"
             ],
             [
              0.6666666666666666,
              "#ed7953"
             ],
             [
              0.7777777777777778,
              "#fb9f3a"
             ],
             [
              0.8888888888888888,
              "#fdca26"
             ],
             [
              1,
              "#f0f921"
             ]
            ],
            "type": "surface"
           }
          ],
          "table": [
           {
            "cells": {
             "fill": {
              "color": "#EBF0F8"
             },
             "line": {
              "color": "white"
             }
            },
            "header": {
             "fill": {
              "color": "#C8D4E3"
             },
             "line": {
              "color": "white"
             }
            },
            "type": "table"
           }
          ]
         },
         "layout": {
          "annotationdefaults": {
           "arrowcolor": "#2a3f5f",
           "arrowhead": 0,
           "arrowwidth": 1
          },
          "autotypenumbers": "strict",
          "coloraxis": {
           "colorbar": {
            "outlinewidth": 0,
            "ticks": ""
           }
          },
          "colorscale": {
           "diverging": [
            [
             0,
             "#8e0152"
            ],
            [
             0.1,
             "#c51b7d"
            ],
            [
             0.2,
             "#de77ae"
            ],
            [
             0.3,
             "#f1b6da"
            ],
            [
             0.4,
             "#fde0ef"
            ],
            [
             0.5,
             "#f7f7f7"
            ],
            [
             0.6,
             "#e6f5d0"
            ],
            [
             0.7,
             "#b8e186"
            ],
            [
             0.8,
             "#7fbc41"
            ],
            [
             0.9,
             "#4d9221"
            ],
            [
             1,
             "#276419"
            ]
           ],
           "sequential": [
            [
             0,
             "#0d0887"
            ],
            [
             0.1111111111111111,
             "#46039f"
            ],
            [
             0.2222222222222222,
             "#7201a8"
            ],
            [
             0.3333333333333333,
             "#9c179e"
            ],
            [
             0.4444444444444444,
             "#bd3786"
            ],
            [
             0.5555555555555556,
             "#d8576b"
            ],
            [
             0.6666666666666666,
             "#ed7953"
            ],
            [
             0.7777777777777778,
             "#fb9f3a"
            ],
            [
             0.8888888888888888,
             "#fdca26"
            ],
            [
             1,
             "#f0f921"
            ]
           ],
           "sequentialminus": [
            [
             0,
             "#0d0887"
            ],
            [
             0.1111111111111111,
             "#46039f"
            ],
            [
             0.2222222222222222,
             "#7201a8"
            ],
            [
             0.3333333333333333,
             "#9c179e"
            ],
            [
             0.4444444444444444,
             "#bd3786"
            ],
            [
             0.5555555555555556,
             "#d8576b"
            ],
            [
             0.6666666666666666,
             "#ed7953"
            ],
            [
             0.7777777777777778,
             "#fb9f3a"
            ],
            [
             0.8888888888888888,
             "#fdca26"
            ],
            [
             1,
             "#f0f921"
            ]
           ]
          },
          "colorway": [
           "#636efa",
           "#EF553B",
           "#00cc96",
           "#ab63fa",
           "#FFA15A",
           "#19d3f3",
           "#FF6692",
           "#B6E880",
           "#FF97FF",
           "#FECB52"
          ],
          "font": {
           "color": "#2a3f5f"
          },
          "geo": {
           "bgcolor": "white",
           "lakecolor": "white",
           "landcolor": "white",
           "showlakes": true,
           "showland": true,
           "subunitcolor": "#C8D4E3"
          },
          "hoverlabel": {
           "align": "left"
          },
          "hovermode": "closest",
          "mapbox": {
           "style": "light"
          },
          "paper_bgcolor": "white",
          "plot_bgcolor": "white",
          "polar": {
           "angularaxis": {
            "gridcolor": "#EBF0F8",
            "linecolor": "#EBF0F8",
            "ticks": ""
           },
           "bgcolor": "white",
           "radialaxis": {
            "gridcolor": "#EBF0F8",
            "linecolor": "#EBF0F8",
            "ticks": ""
           }
          },
          "scene": {
           "xaxis": {
            "backgroundcolor": "white",
            "gridcolor": "#DFE8F3",
            "gridwidth": 2,
            "linecolor": "#EBF0F8",
            "showbackground": true,
            "ticks": "",
            "zerolinecolor": "#EBF0F8"
           },
           "yaxis": {
            "backgroundcolor": "white",
            "gridcolor": "#DFE8F3",
            "gridwidth": 2,
            "linecolor": "#EBF0F8",
            "showbackground": true,
            "ticks": "",
            "zerolinecolor": "#EBF0F8"
           },
           "zaxis": {
            "backgroundcolor": "white",
            "gridcolor": "#DFE8F3",
            "gridwidth": 2,
            "linecolor": "#EBF0F8",
            "showbackground": true,
            "ticks": "",
            "zerolinecolor": "#EBF0F8"
           }
          },
          "shapedefaults": {
           "line": {
            "color": "#2a3f5f"
           }
          },
          "ternary": {
           "aaxis": {
            "gridcolor": "#DFE8F3",
            "linecolor": "#A2B1C6",
            "ticks": ""
           },
           "baxis": {
            "gridcolor": "#DFE8F3",
            "linecolor": "#A2B1C6",
            "ticks": ""
           },
           "bgcolor": "white",
           "caxis": {
            "gridcolor": "#DFE8F3",
            "linecolor": "#A2B1C6",
            "ticks": ""
           }
          },
          "title": {
           "x": 0.05
          },
          "xaxis": {
           "automargin": true,
           "gridcolor": "#EBF0F8",
           "linecolor": "#EBF0F8",
           "ticks": "",
           "title": {
            "standoff": 15
           },
           "zerolinecolor": "#EBF0F8",
           "zerolinewidth": 2
          },
          "yaxis": {
           "automargin": true,
           "gridcolor": "#EBF0F8",
           "linecolor": "#EBF0F8",
           "ticks": "",
           "title": {
            "standoff": 15
           },
           "zerolinecolor": "#EBF0F8",
           "zerolinewidth": 2
          }
         }
        },
        "title": {
         "text": "Addiction Level by Gender"
        },
        "xaxis": {
         "anchor": "y",
         "domain": [
          0,
          1
         ],
         "title": {
          "text": "Addicted_Score"
         }
        },
        "yaxis": {
         "anchor": "x",
         "domain": [
          0,
          1
         ],
         "title": {
          "text": "count"
         }
        }
       }
      }
     },
     "metadata": {},
     "output_type": "display_data"
    }
   ],
   "source": [
    "#3\n",
    "fig = px.histogram(data, \n",
    "                   x='Addicted_Score',  # Correct column name\n",
    "                   color='Gender',\n",
    "                   barmode='group',\n",
    "                   title='Addiction Level by Gender',\n",
    "                   color_discrete_map={\n",
    "        \"Female\": \"#FADADD\",  # Light pastel pink\n",
    "        \"Male\": \"#B0E0E6\"     # Light pastel blue\n",
    "    },\n",
    "    template='plotly_white'\n",
    ")\n",
    "fig.show()"
   ]
  },
  {
   "cell_type": "markdown",
   "id": "797496d1-fbb1-495d-b94c-d8a0f5e75599",
   "metadata": {},
   "source": [
    "The grouped histogram shows the distribution of Addicted Scores by Gender. Both males and females have a wide range of addiction levels, but higher scores (7-9) are more common. This suggests that social media addiction is prevalent among students of both genders, with slightly in variations. The objective to compare addiction levels across gender is attained."
   ]
  },
  {
   "cell_type": "code",
   "execution_count": 237,
   "id": "810888bc-2f9a-4949-aa63-1345a995c964",
   "metadata": {},
   "outputs": [
    {
     "data": {
      "application/vnd.plotly.v1+json": {
       "config": {
        "plotlyServerURL": "https://plot.ly"
       },
       "data": [
        {
         "domain": {
          "x": [
           0,
           1
          ],
          "y": [
           0,
           1
          ]
         },
         "hovertemplate": "Platform=%{label}<br>Count=%{value}<extra></extra>",
         "labels": [
          "Instagram",
          "TikTok",
          "Facebook",
          "WhatsApp",
          "Twitter",
          "LinkedIn",
          "WeChat",
          "Snapchat",
          "VKontakte",
          "LINE",
          "KakaoTalk",
          "YouTube"
         ],
         "legendgroup": "",
         "name": "",
         "showlegend": true,
         "type": "pie",
         "values": {
          "bdata": "+QCaAHsANgAeABUADwANAAwADAAMAAoA",
          "dtype": "i2"
         }
        }
       ],
       "layout": {
        "legend": {
         "tracegroupgap": 0
        },
        "piecolorway": [
         "#FFD1DC",
         "#AEC6CF",
         "#FFB347",
         "#B39EB5",
         "#AAF0D1",
         "#ACE1AF",
         "#CBAACB",
         "#FF6961"
        ],
        "template": {
         "data": {
          "bar": [
           {
            "error_x": {
             "color": "#2a3f5f"
            },
            "error_y": {
             "color": "#2a3f5f"
            },
            "marker": {
             "line": {
              "color": "white",
              "width": 0.5
             },
             "pattern": {
              "fillmode": "overlay",
              "size": 10,
              "solidity": 0.2
             }
            },
            "type": "bar"
           }
          ],
          "barpolar": [
           {
            "marker": {
             "line": {
              "color": "white",
              "width": 0.5
             },
             "pattern": {
              "fillmode": "overlay",
              "size": 10,
              "solidity": 0.2
             }
            },
            "type": "barpolar"
           }
          ],
          "carpet": [
           {
            "aaxis": {
             "endlinecolor": "#2a3f5f",
             "gridcolor": "#C8D4E3",
             "linecolor": "#C8D4E3",
             "minorgridcolor": "#C8D4E3",
             "startlinecolor": "#2a3f5f"
            },
            "baxis": {
             "endlinecolor": "#2a3f5f",
             "gridcolor": "#C8D4E3",
             "linecolor": "#C8D4E3",
             "minorgridcolor": "#C8D4E3",
             "startlinecolor": "#2a3f5f"
            },
            "type": "carpet"
           }
          ],
          "choropleth": [
           {
            "colorbar": {
             "outlinewidth": 0,
             "ticks": ""
            },
            "type": "choropleth"
           }
          ],
          "contour": [
           {
            "colorbar": {
             "outlinewidth": 0,
             "ticks": ""
            },
            "colorscale": [
             [
              0,
              "#0d0887"
             ],
             [
              0.1111111111111111,
              "#46039f"
             ],
             [
              0.2222222222222222,
              "#7201a8"
             ],
             [
              0.3333333333333333,
              "#9c179e"
             ],
             [
              0.4444444444444444,
              "#bd3786"
             ],
             [
              0.5555555555555556,
              "#d8576b"
             ],
             [
              0.6666666666666666,
              "#ed7953"
             ],
             [
              0.7777777777777778,
              "#fb9f3a"
             ],
             [
              0.8888888888888888,
              "#fdca26"
             ],
             [
              1,
              "#f0f921"
             ]
            ],
            "type": "contour"
           }
          ],
          "contourcarpet": [
           {
            "colorbar": {
             "outlinewidth": 0,
             "ticks": ""
            },
            "type": "contourcarpet"
           }
          ],
          "heatmap": [
           {
            "colorbar": {
             "outlinewidth": 0,
             "ticks": ""
            },
            "colorscale": [
             [
              0,
              "#0d0887"
             ],
             [
              0.1111111111111111,
              "#46039f"
             ],
             [
              0.2222222222222222,
              "#7201a8"
             ],
             [
              0.3333333333333333,
              "#9c179e"
             ],
             [
              0.4444444444444444,
              "#bd3786"
             ],
             [
              0.5555555555555556,
              "#d8576b"
             ],
             [
              0.6666666666666666,
              "#ed7953"
             ],
             [
              0.7777777777777778,
              "#fb9f3a"
             ],
             [
              0.8888888888888888,
              "#fdca26"
             ],
             [
              1,
              "#f0f921"
             ]
            ],
            "type": "heatmap"
           }
          ],
          "histogram": [
           {
            "marker": {
             "pattern": {
              "fillmode": "overlay",
              "size": 10,
              "solidity": 0.2
             }
            },
            "type": "histogram"
           }
          ],
          "histogram2d": [
           {
            "colorbar": {
             "outlinewidth": 0,
             "ticks": ""
            },
            "colorscale": [
             [
              0,
              "#0d0887"
             ],
             [
              0.1111111111111111,
              "#46039f"
             ],
             [
              0.2222222222222222,
              "#7201a8"
             ],
             [
              0.3333333333333333,
              "#9c179e"
             ],
             [
              0.4444444444444444,
              "#bd3786"
             ],
             [
              0.5555555555555556,
              "#d8576b"
             ],
             [
              0.6666666666666666,
              "#ed7953"
             ],
             [
              0.7777777777777778,
              "#fb9f3a"
             ],
             [
              0.8888888888888888,
              "#fdca26"
             ],
             [
              1,
              "#f0f921"
             ]
            ],
            "type": "histogram2d"
           }
          ],
          "histogram2dcontour": [
           {
            "colorbar": {
             "outlinewidth": 0,
             "ticks": ""
            },
            "colorscale": [
             [
              0,
              "#0d0887"
             ],
             [
              0.1111111111111111,
              "#46039f"
             ],
             [
              0.2222222222222222,
              "#7201a8"
             ],
             [
              0.3333333333333333,
              "#9c179e"
             ],
             [
              0.4444444444444444,
              "#bd3786"
             ],
             [
              0.5555555555555556,
              "#d8576b"
             ],
             [
              0.6666666666666666,
              "#ed7953"
             ],
             [
              0.7777777777777778,
              "#fb9f3a"
             ],
             [
              0.8888888888888888,
              "#fdca26"
             ],
             [
              1,
              "#f0f921"
             ]
            ],
            "type": "histogram2dcontour"
           }
          ],
          "mesh3d": [
           {
            "colorbar": {
             "outlinewidth": 0,
             "ticks": ""
            },
            "type": "mesh3d"
           }
          ],
          "parcoords": [
           {
            "line": {
             "colorbar": {
              "outlinewidth": 0,
              "ticks": ""
             }
            },
            "type": "parcoords"
           }
          ],
          "pie": [
           {
            "automargin": true,
            "type": "pie"
           }
          ],
          "scatter": [
           {
            "fillpattern": {
             "fillmode": "overlay",
             "size": 10,
             "solidity": 0.2
            },
            "type": "scatter"
           }
          ],
          "scatter3d": [
           {
            "line": {
             "colorbar": {
              "outlinewidth": 0,
              "ticks": ""
             }
            },
            "marker": {
             "colorbar": {
              "outlinewidth": 0,
              "ticks": ""
             }
            },
            "type": "scatter3d"
           }
          ],
          "scattercarpet": [
           {
            "marker": {
             "colorbar": {
              "outlinewidth": 0,
              "ticks": ""
             }
            },
            "type": "scattercarpet"
           }
          ],
          "scattergeo": [
           {
            "marker": {
             "colorbar": {
              "outlinewidth": 0,
              "ticks": ""
             }
            },
            "type": "scattergeo"
           }
          ],
          "scattergl": [
           {
            "marker": {
             "colorbar": {
              "outlinewidth": 0,
              "ticks": ""
             }
            },
            "type": "scattergl"
           }
          ],
          "scattermap": [
           {
            "marker": {
             "colorbar": {
              "outlinewidth": 0,
              "ticks": ""
             }
            },
            "type": "scattermap"
           }
          ],
          "scattermapbox": [
           {
            "marker": {
             "colorbar": {
              "outlinewidth": 0,
              "ticks": ""
             }
            },
            "type": "scattermapbox"
           }
          ],
          "scatterpolar": [
           {
            "marker": {
             "colorbar": {
              "outlinewidth": 0,
              "ticks": ""
             }
            },
            "type": "scatterpolar"
           }
          ],
          "scatterpolargl": [
           {
            "marker": {
             "colorbar": {
              "outlinewidth": 0,
              "ticks": ""
             }
            },
            "type": "scatterpolargl"
           }
          ],
          "scatterternary": [
           {
            "marker": {
             "colorbar": {
              "outlinewidth": 0,
              "ticks": ""
             }
            },
            "type": "scatterternary"
           }
          ],
          "surface": [
           {
            "colorbar": {
             "outlinewidth": 0,
             "ticks": ""
            },
            "colorscale": [
             [
              0,
              "#0d0887"
             ],
             [
              0.1111111111111111,
              "#46039f"
             ],
             [
              0.2222222222222222,
              "#7201a8"
             ],
             [
              0.3333333333333333,
              "#9c179e"
             ],
             [
              0.4444444444444444,
              "#bd3786"
             ],
             [
              0.5555555555555556,
              "#d8576b"
             ],
             [
              0.6666666666666666,
              "#ed7953"
             ],
             [
              0.7777777777777778,
              "#fb9f3a"
             ],
             [
              0.8888888888888888,
              "#fdca26"
             ],
             [
              1,
              "#f0f921"
             ]
            ],
            "type": "surface"
           }
          ],
          "table": [
           {
            "cells": {
             "fill": {
              "color": "#EBF0F8"
             },
             "line": {
              "color": "white"
             }
            },
            "header": {
             "fill": {
              "color": "#C8D4E3"
             },
             "line": {
              "color": "white"
             }
            },
            "type": "table"
           }
          ]
         },
         "layout": {
          "annotationdefaults": {
           "arrowcolor": "#2a3f5f",
           "arrowhead": 0,
           "arrowwidth": 1
          },
          "autotypenumbers": "strict",
          "coloraxis": {
           "colorbar": {
            "outlinewidth": 0,
            "ticks": ""
           }
          },
          "colorscale": {
           "diverging": [
            [
             0,
             "#8e0152"
            ],
            [
             0.1,
             "#c51b7d"
            ],
            [
             0.2,
             "#de77ae"
            ],
            [
             0.3,
             "#f1b6da"
            ],
            [
             0.4,
             "#fde0ef"
            ],
            [
             0.5,
             "#f7f7f7"
            ],
            [
             0.6,
             "#e6f5d0"
            ],
            [
             0.7,
             "#b8e186"
            ],
            [
             0.8,
             "#7fbc41"
            ],
            [
             0.9,
             "#4d9221"
            ],
            [
             1,
             "#276419"
            ]
           ],
           "sequential": [
            [
             0,
             "#0d0887"
            ],
            [
             0.1111111111111111,
             "#46039f"
            ],
            [
             0.2222222222222222,
             "#7201a8"
            ],
            [
             0.3333333333333333,
             "#9c179e"
            ],
            [
             0.4444444444444444,
             "#bd3786"
            ],
            [
             0.5555555555555556,
             "#d8576b"
            ],
            [
             0.6666666666666666,
             "#ed7953"
            ],
            [
             0.7777777777777778,
             "#fb9f3a"
            ],
            [
             0.8888888888888888,
             "#fdca26"
            ],
            [
             1,
             "#f0f921"
            ]
           ],
           "sequentialminus": [
            [
             0,
             "#0d0887"
            ],
            [
             0.1111111111111111,
             "#46039f"
            ],
            [
             0.2222222222222222,
             "#7201a8"
            ],
            [
             0.3333333333333333,
             "#9c179e"
            ],
            [
             0.4444444444444444,
             "#bd3786"
            ],
            [
             0.5555555555555556,
             "#d8576b"
            ],
            [
             0.6666666666666666,
             "#ed7953"
            ],
            [
             0.7777777777777778,
             "#fb9f3a"
            ],
            [
             0.8888888888888888,
             "#fdca26"
            ],
            [
             1,
             "#f0f921"
            ]
           ]
          },
          "colorway": [
           "#636efa",
           "#EF553B",
           "#00cc96",
           "#ab63fa",
           "#FFA15A",
           "#19d3f3",
           "#FF6692",
           "#B6E880",
           "#FF97FF",
           "#FECB52"
          ],
          "font": {
           "color": "#2a3f5f"
          },
          "geo": {
           "bgcolor": "white",
           "lakecolor": "white",
           "landcolor": "white",
           "showlakes": true,
           "showland": true,
           "subunitcolor": "#C8D4E3"
          },
          "hoverlabel": {
           "align": "left"
          },
          "hovermode": "closest",
          "mapbox": {
           "style": "light"
          },
          "paper_bgcolor": "white",
          "plot_bgcolor": "white",
          "polar": {
           "angularaxis": {
            "gridcolor": "#EBF0F8",
            "linecolor": "#EBF0F8",
            "ticks": ""
           },
           "bgcolor": "white",
           "radialaxis": {
            "gridcolor": "#EBF0F8",
            "linecolor": "#EBF0F8",
            "ticks": ""
           }
          },
          "scene": {
           "xaxis": {
            "backgroundcolor": "white",
            "gridcolor": "#DFE8F3",
            "gridwidth": 2,
            "linecolor": "#EBF0F8",
            "showbackground": true,
            "ticks": "",
            "zerolinecolor": "#EBF0F8"
           },
           "yaxis": {
            "backgroundcolor": "white",
            "gridcolor": "#DFE8F3",
            "gridwidth": 2,
            "linecolor": "#EBF0F8",
            "showbackground": true,
            "ticks": "",
            "zerolinecolor": "#EBF0F8"
           },
           "zaxis": {
            "backgroundcolor": "white",
            "gridcolor": "#DFE8F3",
            "gridwidth": 2,
            "linecolor": "#EBF0F8",
            "showbackground": true,
            "ticks": "",
            "zerolinecolor": "#EBF0F8"
           }
          },
          "shapedefaults": {
           "line": {
            "color": "#2a3f5f"
           }
          },
          "ternary": {
           "aaxis": {
            "gridcolor": "#DFE8F3",
            "linecolor": "#A2B1C6",
            "ticks": ""
           },
           "baxis": {
            "gridcolor": "#DFE8F3",
            "linecolor": "#A2B1C6",
            "ticks": ""
           },
           "bgcolor": "white",
           "caxis": {
            "gridcolor": "#DFE8F3",
            "linecolor": "#A2B1C6",
            "ticks": ""
           }
          },
          "title": {
           "x": 0.05
          },
          "xaxis": {
           "automargin": true,
           "gridcolor": "#EBF0F8",
           "linecolor": "#EBF0F8",
           "ticks": "",
           "title": {
            "standoff": 15
           },
           "zerolinecolor": "#EBF0F8",
           "zerolinewidth": 2
          },
          "yaxis": {
           "automargin": true,
           "gridcolor": "#EBF0F8",
           "linecolor": "#EBF0F8",
           "ticks": "",
           "title": {
            "standoff": 15
           },
           "zerolinecolor": "#EBF0F8",
           "zerolinewidth": 2
          }
         }
        },
        "title": {
         "text": "📌 Most Used Social Media Platforms"
        }
       }
      }
     },
     "metadata": {},
     "output_type": "display_data"
    }
   ],
   "source": [
    "#4\n",
    "platform_counts = data['Most_Used_Platform'].value_counts().reset_index()\n",
    "platform_counts.columns = ['Platform', 'Count']\n",
    "\n",
    "# Pastel color palette\n",
    "pastel_colors = [\n",
    "    \"#FFD1DC\", \"#AEC6CF\", \"#FFB347\", \"#B39EB5\",\n",
    "    \"#AAF0D1\", \"#ACE1AF\", \"#CBAACB\", \"#FF6961\"\n",
    "]\n",
    "\n",
    "# Create pie chart\n",
    "fig = px.pie(\n",
    "    platform_counts,\n",
    "    names='Platform',\n",
    "    values='Count',\n",
    "    title='📌 Most Used Social Media Platforms',\n",
    "    template='plotly_white',\n",
    "    color_discrete_sequence=pastel_colors\n",
    ")\n",
    "\n",
    "# Display in Jupyter\n",
    "fig.show()"
   ]
  },
  {
   "cell_type": "markdown",
   "id": "957ad513-6a92-4dbe-8f0c-1a0e3ee2a895",
   "metadata": {},
   "source": [
    "This pie chart shows the most popular social media platforms among students. Instagram and Tiktok appear as the top choices, followed by platform like Youtube, Facebook and Twitter. This indicates that visual and short-form content platforms are the most preferred by students. Thus, the objective to identify the most preferred social media platfroms among student is achieved."
   ]
  },
  {
   "cell_type": "code",
   "execution_count": 238,
   "id": "cca72cf9-5b43-4477-97c5-c106128b77df",
   "metadata": {},
   "outputs": [
    {
     "data": {
      "application/vnd.plotly.v1+json": {
       "config": {
        "plotlyServerURL": "https://plot.ly"
       },
       "data": [
        {
         "hovertemplate": "Gender=Female<br>Average Daily Social Media Usage (Hours)=%{x}<br>Sleep Duration per Night (Hours)=%{y}<br>Addicted_Score=%{marker.size}<extra></extra>",
         "legendgroup": "Female",
         "marker": {
          "color": "#FADADD",
          "size": {
           "bdata": "CAkJCAQICQcIBwQICQcIBwQICQcIBwQICQcIBwQICAkHCAcFCAcFCQcEBwQJBwgHBAgECAcIBwcIBQcIBQcIBQcIBQcIBQcIBQcIBQcIBQcHCAUHCAUHCAUHCAUHCAUHCAUHCAUHCAUHCAUHCAUJBQMGCQUDBgkFAwYJBQMGCQUDBgkFAwYJBQMGCQUDBgkFAwYJBQMGCQUDBgkFAwYJBQcGBAkFBwYECQUHBgQJBQcGBAkFBwYECQUHBgQJBQcGBAkFBwYECQUHBgQJBQcGBAkFBwYECQUHBgQJBQcGBAkFBwYECQUHBgQJBQcGBAkFBwYECQUHBgQJBQcEBwgIBwQHCAgHBAcICAcEBwgIBwQHCAgHBAcICAcEBwgIBwgFBwUICAQFBQkICAUFBwgIBwUHBQgJBAUFCQgIBwUHCAgHBQcFCAkEBQUJCAgHBQcICAcFBwUICQQFBQkICAcFBwg=",
           "dtype": "i1"
          },
          "sizemode": "area",
          "sizeref": 0.0225,
          "symbol": "circle"
         },
         "mode": "markers",
         "name": "Female",
         "orientation": "v",
         "showlegend": true,
         "type": "scatter",
         "x": {
          "bdata": "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",
          "dtype": "f8"
         },
         "xaxis": "x",
         "y": {
          "bdata": "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",
          "dtype": "f8"
         },
         "yaxis": "y"
        },
        {
         "hovertemplate": "Gender=Male<br>Average Daily Social Media Usage (Hours)=%{x}<br>Sleep Duration per Night (Hours)=%{y}<br>Addicted_Score=%{marker.size}<extra></extra>",
         "legendgroup": "Male",
         "marker": {
          "color": "#B0E0E6",
          "size": {
           "bdata": "AwQHAgUHBAUDBQgHBQUDBQgHBQYEBQgHBQYEBQgHBQcDBgQIBwQIBwQGCAgHBQYECAcJBwUGBAgFBwgFBwgFBwgFBwgFBwgFBwgFBwgFBwgGBwgGBwgGBwgGBwgGBwgGBwgGBwgGBwgGBwgGBwgHBAcFBwQIBQcEBwUHBAgFBwQHBQcECAUHBAcFBwQIBQcEBwUHBAgFBwQHBQcECAUHBAQIBwcHBAgHBwcECAcHBwQIBwcHBAgHBwcECAcHBwQIBwcHBAgHBwcECAcHBwQIBwcHBAgHBwcECAcHBwQIBwcHBAgHBwcECAcHBwQIBwcHBAgHBwcECAcHBwUGBwUGBQYHBQYFBgcFBgUGBwUGBQYHBQYFBgcFBgUGBwUGBAkICAYFBwgIBwUHBwgIBAUFCQgIBwUHCAgHBQcFCAkEBQUJCAgHBQcICAcFBwUICQQFBQkICAcFBwgIBwUHBQgJBA==",
           "dtype": "i1"
          },
          "sizemode": "area",
          "sizeref": 0.0225,
          "symbol": "circle"
         },
         "mode": "markers",
         "name": "Male",
         "orientation": "v",
         "showlegend": true,
         "type": "scatter",
         "x": {
          "bdata": "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",
          "dtype": "f8"
         },
         "xaxis": "x",
         "y": {
          "bdata": "AAAAAAAAHkAAAAAAAAAcQAAAAAAAABhAAAAAAAAAIEAAAAAAAAAaQM3MzMzMzBhAzczMzMzMHEAzMzMzMzMbQDMzMzMzMx9AzczMzMzMGkAAAAAAAAAWQDMzMzMzMxdAmpmZmZmZG0BmZmZmZmYaQJqZmZmZmR1AzczMzMzMGkCamZmZmZkVQDMzMzMzMxdAMzMzMzMzG0AAAAAAAAAaQDMzMzMzMx1AZmZmZmZmGkAzMzMzMzMVQJqZmZmZmRdAzczMzMzMGkCamZmZmZkZQM3MzMzMzBxAAAAAAAAAGkDNzMzMzMwUQJqZmZmZmRdAZmZmZmZmHEAAAAAAAAAYQJqZmZmZmR1AAAAAAAAAGkDNzMzMzMwcQAAAAAAAABZAzczMzMzMFkAzMzMzMzMdQJqZmZmZmRVAmpmZmZmZF0BmZmZmZmYcQGZmZmZmZhpAMzMzMzMzFUAAAAAAAAAWQAAAAAAAABhAAAAAAAAAHEAAAAAAAAAaQJqZmZmZmR1AMzMzMzMzFUCamZmZmZkXQM3MzMzMzBRAMzMzMzMzF0AAAAAAAAAcQGZmZmZmZhpAzczMzMzMHEDNzMzMzMwYQGZmZmZmZhxAMzMzMzMzGUAzMzMzMzMXQDMzMzMzMx1AmpmZmZmZF0AzMzMzMzMZQAAAAAAAAB5AzczMzMzMFkAAAAAAAAAaQM3MzMzMzB5AAAAAAAAAFkDNzMzMzMwaQJqZmZmZmR9AMzMzMzMzFUCamZmZmZkbQDMzMzMzMyBAZmZmZmZmFEBmZmZmZmYcQJqZmZmZmSBAmpmZmZmZE0AzMzMzMzMdQAAAAAAAACFAzczMzMzMEkAAAAAAAAAeQM3MzMzMzBxAMzMzMzMzGUAAAAAAAAAYQGZmZmZmZhxAAAAAAAAAGkDNzMzMzMwWQJqZmZmZmR1AzczMzMzMGkAAAAAAAAAWQGZmZmZmZh5AmpmZmZmZG0AzMzMzMzMVQDMzMzMzMx9AZmZmZmZmHEBmZmZmZmYUQAAAAAAAACBAMzMzMzMzHUCamZmZmZkTQGZmZmZmZiBAAAAAAAAAHkDNzMzMzMwSQM3MzMzMzCBAzczMzMzMHkAAAAAAAAASQDMzMzMzMyFAmpmZmZmZH0AzMzMzMzMRQJqZmZmZmSFAMzMzMzMzIEBmZmZmZmYQQAAAAAAAABpAMzMzMzMzH0AzMzMzMzMbQM3MzMzMzBxAzczMzMzMGkCamZmZmZkfQAAAAAAAABpAmpmZmZmZHUBmZmZmZmYaQM3MzMzMzB5AzczMzMzMGkAzMzMzMzMdQJqZmZmZmRlAMzMzMzMzH0BmZmZmZmYaQAAAAAAAAB5AAAAAAAAAGkBmZmZmZmYeQDMzMzMzMxtAZmZmZmZmHkAzMzMzMzMZQM3MzMzMzB5AmpmZmZmZG0DNzMzMzMweQJqZmZmZmRlAMzMzMzMzH0DNzMzMzMwaQDMzMzMzMx9AAAAAAAAAGkCamZmZmZkfQDMzMzMzMxtAmpmZmZmZH0BmZmZmZmYaQAAAAAAAACBAmpmZmZmZG0AAAAAAAAAgQM3MzMzMzBpAMzMzMzMzIEAAAAAAAAAcQDMzMzMzMyBAMzMzMzMzG0BmZmZmZmYgQGZmZmZmZhxAZmZmZmZmIECamZmZmZkbQJqZmZmZmSBAzczMzMzMHECamZmZmZkgQAAAAAAAABxAzczMzMzMIEAzMzMzMzMfQAAAAAAAABpAzczMzMzMGkBmZmZmZmYaQJqZmZmZmRtAmpmZmZmZH0CamZmZmZkZQDMzMzMzMxtAAAAAAAAAGkAAAAAAAAAcQAAAAAAAACBAMzMzMzMzGUCamZmZmZkbQJqZmZmZmRlAZmZmZmZmHEAzMzMzMzMgQM3MzMzMzBhAAAAAAAAAHEAzMzMzMzMZQM3MzMzMzBxAZmZmZmZmIEBmZmZmZmYYQGZmZmZmZhxAzczMzMzMGEAzMzMzMzMdQJqZmZmZmSBAAAAAAAAAGEDNzMzMzMwcQGZmZmZmZhhAmpmZmZmZHUDNzMzMzMwgQJqZmZmZmRdAMzMzMzMzHUAAAAAAAAAYQAAAAAAAAB5AAAAAAAAAIUAzMzMzMzMXQJqZmZmZmR1AmpmZmZmZF0BmZmZmZmYeQDMzMzMzMyFAzczMzMzMFkAAAAAAAAAeQDMzMzMzMxdAzczMzMzMHkBmZmZmZmYhQGZmZmZmZhZAZmZmZmZmHkDNzMzMzMwWQDMzMzMzMx9AmpmZmZmZIUAAAAAAAAAWQM3MzMzMzB5AZmZmZmZmFkCamZmZmZkfQM3MzMzMzCFAmpmZmZmZFUAzMzMzMzMfQAAAAAAAABZAAAAAAAAAIEAAAAAAAAAiQDMzMzMzMxVAmpmZmZmZH0CamZmZmZkVQDMzMzMzMyBAMzMzMzMzIkDNzMzMzMwUQAAAAAAAACBAMzMzMzMzFUBmZmZmZmYgQGZmZmZmZiJAZmZmZmZmFEAzMzMzMzMgQM3MzMzMzBRAmpmZmZmZIECamZmZmZkiQAAAAAAAABRAZmZmZmZmIEBmZmZmZmYUQM3MzMzMzCBAzczMzMzMIkCamZmZmZkTQJqZmZmZmSBAAAAAAAAAFEAAAAAAAAAhQAAAAAAAACNAMzMzMzMzE0DNzMzMzMwgQJqZmZmZmRNAMzMzMzMzIUAzMzMzMzMfQAAAAAAAAB5AMzMzMzMzG0CamZmZmZkfQJqZmZmZmR1AmpmZmZmZH0BmZmZmZmYeQM3MzMzMzBpAAAAAAAAAIEAAAAAAAAAeQAAAAAAAACBAzczMzMzMHkBmZmZmZmYaQDMzMzMzMyBAZmZmZmZmHkAzMzMzMzMgQDMzMzMzMx9AAAAAAAAAGkBmZmZmZmYgQM3MzMzMzB5AZmZmZmZmIECamZmZmZkfQJqZmZmZmRlAmpmZmZmZIEAzMzMzMzMfQJqZmZmZmSBAAAAAAAAAIEAzMzMzMzMZQM3MzMzMzCBAmpmZmZmZH0DNzMzMzMwgQDMzMzMzMyBAzczMzMzMGEAAAAAAAAAhQAAAAAAAACBAMzMzMzMzH0CamZmZmZkXQM3MzMzMzBhAZmZmZmZmGEAAAAAAAAAcQDMzMzMzMx1AAAAAAAAAGkAzMzMzMzMZQM3MzMzMzBhAMzMzMzMzG0AAAAAAAAAeQJqZmZmZmRtAzczMzMzMGkDNzMzMzMwYQAAAAAAAABhAZmZmZmZmHkCamZmZmZkdQM3MzMzMzBxAzczMzMzMFkDNzMzMzMwYQGZmZmZmZhhAzczMzMzMGkDNzMzMzMwcQDMzMzMzMxtAMzMzMzMzGUDNzMzMzMwYQGZmZmZmZhpAMzMzMzMzHUAzMzMzMzMbQM3MzMzMzBxAMzMzMzMzGUCamZmZmZkXQJqZmZmZmR1AAAAAAAAAHkAzMzMzMzMdQM3MzMzMzBZAAAAAAAAAGEDNzMzMzMwYQGZmZmZmZhpAzczMzMzMHEDNzMzMzMwaQDMzMzMzMxlAZmZmZmZmGEBmZmZmZmYaQDMzMzMzMx1AMzMzMzMzG0DNzMzMzMwcQM3MzMzMzBhAmpmZmZmZF0CamZmZmZkdQAAAAAAAAB5AMzMzMzMzHUDNzMzMzMwWQAAAAAAAABhAMzMzMzMzGUBmZmZmZmYaQGZmZmZmZhxAMzMzMzMzG0DNzMzMzMwYQGZmZmZmZhhAAAAAAAAAGkAzMzMzMzMdQM3MzMzMzBpAZmZmZmZmHEAzMzMzMzMZQJqZmZmZmRdAAAAAAAAAHkA=",
          "dtype": "f8"
         },
         "yaxis": "y"
        }
       ],
       "layout": {
        "legend": {
         "itemsizing": "constant",
         "title": {
          "text": "Gender"
         },
         "tracegroupgap": 0
        },
        "template": {
         "data": {
          "bar": [
           {
            "error_x": {
             "color": "#2a3f5f"
            },
            "error_y": {
             "color": "#2a3f5f"
            },
            "marker": {
             "line": {
              "color": "white",
              "width": 0.5
             },
             "pattern": {
              "fillmode": "overlay",
              "size": 10,
              "solidity": 0.2
             }
            },
            "type": "bar"
           }
          ],
          "barpolar": [
           {
            "marker": {
             "line": {
              "color": "white",
              "width": 0.5
             },
             "pattern": {
              "fillmode": "overlay",
              "size": 10,
              "solidity": 0.2
             }
            },
            "type": "barpolar"
           }
          ],
          "carpet": [
           {
            "aaxis": {
             "endlinecolor": "#2a3f5f",
             "gridcolor": "#C8D4E3",
             "linecolor": "#C8D4E3",
             "minorgridcolor": "#C8D4E3",
             "startlinecolor": "#2a3f5f"
            },
            "baxis": {
             "endlinecolor": "#2a3f5f",
             "gridcolor": "#C8D4E3",
             "linecolor": "#C8D4E3",
             "minorgridcolor": "#C8D4E3",
             "startlinecolor": "#2a3f5f"
            },
            "type": "carpet"
           }
          ],
          "choropleth": [
           {
            "colorbar": {
             "outlinewidth": 0,
             "ticks": ""
            },
            "type": "choropleth"
           }
          ],
          "contour": [
           {
            "colorbar": {
             "outlinewidth": 0,
             "ticks": ""
            },
            "colorscale": [
             [
              0,
              "#0d0887"
             ],
             [
              0.1111111111111111,
              "#46039f"
             ],
             [
              0.2222222222222222,
              "#7201a8"
             ],
             [
              0.3333333333333333,
              "#9c179e"
             ],
             [
              0.4444444444444444,
              "#bd3786"
             ],
             [
              0.5555555555555556,
              "#d8576b"
             ],
             [
              0.6666666666666666,
              "#ed7953"
             ],
             [
              0.7777777777777778,
              "#fb9f3a"
             ],
             [
              0.8888888888888888,
              "#fdca26"
             ],
             [
              1,
              "#f0f921"
             ]
            ],
            "type": "contour"
           }
          ],
          "contourcarpet": [
           {
            "colorbar": {
             "outlinewidth": 0,
             "ticks": ""
            },
            "type": "contourcarpet"
           }
          ],
          "heatmap": [
           {
            "colorbar": {
             "outlinewidth": 0,
             "ticks": ""
            },
            "colorscale": [
             [
              0,
              "#0d0887"
             ],
             [
              0.1111111111111111,
              "#46039f"
             ],
             [
              0.2222222222222222,
              "#7201a8"
             ],
             [
              0.3333333333333333,
              "#9c179e"
             ],
             [
              0.4444444444444444,
              "#bd3786"
             ],
             [
              0.5555555555555556,
              "#d8576b"
             ],
             [
              0.6666666666666666,
              "#ed7953"
             ],
             [
              0.7777777777777778,
              "#fb9f3a"
             ],
             [
              0.8888888888888888,
              "#fdca26"
             ],
             [
              1,
              "#f0f921"
             ]
            ],
            "type": "heatmap"
           }
          ],
          "histogram": [
           {
            "marker": {
             "pattern": {
              "fillmode": "overlay",
              "size": 10,
              "solidity": 0.2
             }
            },
            "type": "histogram"
           }
          ],
          "histogram2d": [
           {
            "colorbar": {
             "outlinewidth": 0,
             "ticks": ""
            },
            "colorscale": [
             [
              0,
              "#0d0887"
             ],
             [
              0.1111111111111111,
              "#46039f"
             ],
             [
              0.2222222222222222,
              "#7201a8"
             ],
             [
              0.3333333333333333,
              "#9c179e"
             ],
             [
              0.4444444444444444,
              "#bd3786"
             ],
             [
              0.5555555555555556,
              "#d8576b"
             ],
             [
              0.6666666666666666,
              "#ed7953"
             ],
             [
              0.7777777777777778,
              "#fb9f3a"
             ],
             [
              0.8888888888888888,
              "#fdca26"
             ],
             [
              1,
              "#f0f921"
             ]
            ],
            "type": "histogram2d"
           }
          ],
          "histogram2dcontour": [
           {
            "colorbar": {
             "outlinewidth": 0,
             "ticks": ""
            },
            "colorscale": [
             [
              0,
              "#0d0887"
             ],
             [
              0.1111111111111111,
              "#46039f"
             ],
             [
              0.2222222222222222,
              "#7201a8"
             ],
             [
              0.3333333333333333,
              "#9c179e"
             ],
             [
              0.4444444444444444,
              "#bd3786"
             ],
             [
              0.5555555555555556,
              "#d8576b"
             ],
             [
              0.6666666666666666,
              "#ed7953"
             ],
             [
              0.7777777777777778,
              "#fb9f3a"
             ],
             [
              0.8888888888888888,
              "#fdca26"
             ],
             [
              1,
              "#f0f921"
             ]
            ],
            "type": "histogram2dcontour"
           }
          ],
          "mesh3d": [
           {
            "colorbar": {
             "outlinewidth": 0,
             "ticks": ""
            },
            "type": "mesh3d"
           }
          ],
          "parcoords": [
           {
            "line": {
             "colorbar": {
              "outlinewidth": 0,
              "ticks": ""
             }
            },
            "type": "parcoords"
           }
          ],
          "pie": [
           {
            "automargin": true,
            "type": "pie"
           }
          ],
          "scatter": [
           {
            "fillpattern": {
             "fillmode": "overlay",
             "size": 10,
             "solidity": 0.2
            },
            "type": "scatter"
           }
          ],
          "scatter3d": [
           {
            "line": {
             "colorbar": {
              "outlinewidth": 0,
              "ticks": ""
             }
            },
            "marker": {
             "colorbar": {
              "outlinewidth": 0,
              "ticks": ""
             }
            },
            "type": "scatter3d"
           }
          ],
          "scattercarpet": [
           {
            "marker": {
             "colorbar": {
              "outlinewidth": 0,
              "ticks": ""
             }
            },
            "type": "scattercarpet"
           }
          ],
          "scattergeo": [
           {
            "marker": {
             "colorbar": {
              "outlinewidth": 0,
              "ticks": ""
             }
            },
            "type": "scattergeo"
           }
          ],
          "scattergl": [
           {
            "marker": {
             "colorbar": {
              "outlinewidth": 0,
              "ticks": ""
             }
            },
            "type": "scattergl"
           }
          ],
          "scattermap": [
           {
            "marker": {
             "colorbar": {
              "outlinewidth": 0,
              "ticks": ""
             }
            },
            "type": "scattermap"
           }
          ],
          "scattermapbox": [
           {
            "marker": {
             "colorbar": {
              "outlinewidth": 0,
              "ticks": ""
             }
            },
            "type": "scattermapbox"
           }
          ],
          "scatterpolar": [
           {
            "marker": {
             "colorbar": {
              "outlinewidth": 0,
              "ticks": ""
             }
            },
            "type": "scatterpolar"
           }
          ],
          "scatterpolargl": [
           {
            "marker": {
             "colorbar": {
              "outlinewidth": 0,
              "ticks": ""
             }
            },
            "type": "scatterpolargl"
           }
          ],
          "scatterternary": [
           {
            "marker": {
             "colorbar": {
              "outlinewidth": 0,
              "ticks": ""
             }
            },
            "type": "scatterternary"
           }
          ],
          "surface": [
           {
            "colorbar": {
             "outlinewidth": 0,
             "ticks": ""
            },
            "colorscale": [
             [
              0,
              "#0d0887"
             ],
             [
              0.1111111111111111,
              "#46039f"
             ],
             [
              0.2222222222222222,
              "#7201a8"
             ],
             [
              0.3333333333333333,
              "#9c179e"
             ],
             [
              0.4444444444444444,
              "#bd3786"
             ],
             [
              0.5555555555555556,
              "#d8576b"
             ],
             [
              0.6666666666666666,
              "#ed7953"
             ],
             [
              0.7777777777777778,
              "#fb9f3a"
             ],
             [
              0.8888888888888888,
              "#fdca26"
             ],
             [
              1,
              "#f0f921"
             ]
            ],
            "type": "surface"
           }
          ],
          "table": [
           {
            "cells": {
             "fill": {
              "color": "#EBF0F8"
             },
             "line": {
              "color": "white"
             }
            },
            "header": {
             "fill": {
              "color": "#C8D4E3"
             },
             "line": {
              "color": "white"
             }
            },
            "type": "table"
           }
          ]
         },
         "layout": {
          "annotationdefaults": {
           "arrowcolor": "#2a3f5f",
           "arrowhead": 0,
           "arrowwidth": 1
          },
          "autotypenumbers": "strict",
          "coloraxis": {
           "colorbar": {
            "outlinewidth": 0,
            "ticks": ""
           }
          },
          "colorscale": {
           "diverging": [
            [
             0,
             "#8e0152"
            ],
            [
             0.1,
             "#c51b7d"
            ],
            [
             0.2,
             "#de77ae"
            ],
            [
             0.3,
             "#f1b6da"
            ],
            [
             0.4,
             "#fde0ef"
            ],
            [
             0.5,
             "#f7f7f7"
            ],
            [
             0.6,
             "#e6f5d0"
            ],
            [
             0.7,
             "#b8e186"
            ],
            [
             0.8,
             "#7fbc41"
            ],
            [
             0.9,
             "#4d9221"
            ],
            [
             1,
             "#276419"
            ]
           ],
           "sequential": [
            [
             0,
             "#0d0887"
            ],
            [
             0.1111111111111111,
             "#46039f"
            ],
            [
             0.2222222222222222,
             "#7201a8"
            ],
            [
             0.3333333333333333,
             "#9c179e"
            ],
            [
             0.4444444444444444,
             "#bd3786"
            ],
            [
             0.5555555555555556,
             "#d8576b"
            ],
            [
             0.6666666666666666,
             "#ed7953"
            ],
            [
             0.7777777777777778,
             "#fb9f3a"
            ],
            [
             0.8888888888888888,
             "#fdca26"
            ],
            [
             1,
             "#f0f921"
            ]
           ],
           "sequentialminus": [
            [
             0,
             "#0d0887"
            ],
            [
             0.1111111111111111,
             "#46039f"
            ],
            [
             0.2222222222222222,
             "#7201a8"
            ],
            [
             0.3333333333333333,
             "#9c179e"
            ],
            [
             0.4444444444444444,
             "#bd3786"
            ],
            [
             0.5555555555555556,
             "#d8576b"
            ],
            [
             0.6666666666666666,
             "#ed7953"
            ],
            [
             0.7777777777777778,
             "#fb9f3a"
            ],
            [
             0.8888888888888888,
             "#fdca26"
            ],
            [
             1,
             "#f0f921"
            ]
           ]
          },
          "colorway": [
           "#636efa",
           "#EF553B",
           "#00cc96",
           "#ab63fa",
           "#FFA15A",
           "#19d3f3",
           "#FF6692",
           "#B6E880",
           "#FF97FF",
           "#FECB52"
          ],
          "font": {
           "color": "#2a3f5f"
          },
          "geo": {
           "bgcolor": "white",
           "lakecolor": "white",
           "landcolor": "white",
           "showlakes": true,
           "showland": true,
           "subunitcolor": "#C8D4E3"
          },
          "hoverlabel": {
           "align": "left"
          },
          "hovermode": "closest",
          "mapbox": {
           "style": "light"
          },
          "paper_bgcolor": "white",
          "plot_bgcolor": "white",
          "polar": {
           "angularaxis": {
            "gridcolor": "#EBF0F8",
            "linecolor": "#EBF0F8",
            "ticks": ""
           },
           "bgcolor": "white",
           "radialaxis": {
            "gridcolor": "#EBF0F8",
            "linecolor": "#EBF0F8",
            "ticks": ""
           }
          },
          "scene": {
           "xaxis": {
            "backgroundcolor": "white",
            "gridcolor": "#DFE8F3",
            "gridwidth": 2,
            "linecolor": "#EBF0F8",
            "showbackground": true,
            "ticks": "",
            "zerolinecolor": "#EBF0F8"
           },
           "yaxis": {
            "backgroundcolor": "white",
            "gridcolor": "#DFE8F3",
            "gridwidth": 2,
            "linecolor": "#EBF0F8",
            "showbackground": true,
            "ticks": "",
            "zerolinecolor": "#EBF0F8"
           },
           "zaxis": {
            "backgroundcolor": "white",
            "gridcolor": "#DFE8F3",
            "gridwidth": 2,
            "linecolor": "#EBF0F8",
            "showbackground": true,
            "ticks": "",
            "zerolinecolor": "#EBF0F8"
           }
          },
          "shapedefaults": {
           "line": {
            "color": "#2a3f5f"
           }
          },
          "ternary": {
           "aaxis": {
            "gridcolor": "#DFE8F3",
            "linecolor": "#A2B1C6",
            "ticks": ""
           },
           "baxis": {
            "gridcolor": "#DFE8F3",
            "linecolor": "#A2B1C6",
            "ticks": ""
           },
           "bgcolor": "white",
           "caxis": {
            "gridcolor": "#DFE8F3",
            "linecolor": "#A2B1C6",
            "ticks": ""
           }
          },
          "title": {
           "x": 0.05
          },
          "xaxis": {
           "automargin": true,
           "gridcolor": "#EBF0F8",
           "linecolor": "#EBF0F8",
           "ticks": "",
           "title": {
            "standoff": 15
           },
           "zerolinecolor": "#EBF0F8",
           "zerolinewidth": 2
          },
          "yaxis": {
           "automargin": true,
           "gridcolor": "#EBF0F8",
           "linecolor": "#EBF0F8",
           "ticks": "",
           "title": {
            "standoff": 15
           },
           "zerolinecolor": "#EBF0F8",
           "zerolinewidth": 2
          }
         }
        },
        "title": {
         "text": "Daily Social Media Usage vs Sleep Duration"
        },
        "xaxis": {
         "anchor": "y",
         "domain": [
          0,
          1
         ],
         "title": {
          "text": "Average Daily Social Media Usage (Hours)"
         }
        },
        "yaxis": {
         "anchor": "x",
         "domain": [
          0,
          1
         ],
         "title": {
          "text": "Sleep Duration per Night (Hours)"
         }
        }
       }
      }
     },
     "metadata": {},
     "output_type": "display_data"
    }
   ],
   "source": [
    "#5\n",
    "fig = px.scatter(data, \n",
    "                 x=\"Avg_Daily_Usage_Hours\", \n",
    "                 y=\"Sleep_Hours_Per_Night\",\n",
    "                color=\"Gender\",\n",
    "                 size='Addicted_Score',\n",
    "                 title=\"Daily Social Media Usage vs Sleep Duration\",\n",
    "                 labels={\n",
    "                     \"Avg_Daily_Usage_Hours\": \"Average Daily Social Media Usage (Hours)\",\n",
    "                     \"Sleep_Hours_Per_Night\": \"Sleep Duration per Night (Hours)\"\n",
    "                 },\n",
    "    color_discrete_map={\n",
    "        \"Female\": \"#FADADD\",  \n",
    "        \"Male\": \"#B0E0E6\"     \n",
    "    },\n",
    "    template='plotly_white'  \n",
    ")\n",
    "fig.show()"
   ]
  },
  {
   "cell_type": "markdown",
   "id": "7f5e0b52-b9e5-423d-97da-10782dfe0304",
   "metadata": {},
   "source": [
    "The scatter plot shows a negative relationship between average daily social media usage and sleep hours for both female and male students. As students spend more time on social media, they tend to sleep less hours. This pattern suggests that excessive social media use may interfere with students sleep routines, potentially affecting their overall health and academic performance. Thus, The objective to determine how daily social media use impacts sleep hours is achieved."
   ]
  },
  {
   "cell_type": "code",
   "execution_count": 239,
   "id": "f8f4924a-7204-45e2-a335-a6d0691e81af",
   "metadata": {},
   "outputs": [
    {
     "data": {
      "application/vnd.plotly.v1+json": {
       "config": {
        "plotlyServerURL": "https://plot.ly"
       },
       "data": [
        {
         "customdata": [
          [
           "No"
          ],
          [
           "No"
          ],
          [
           "No"
          ],
          [
           "No"
          ],
          [
           "No"
          ],
          [
           "No"
          ],
          [
           "No"
          ],
          [
           "No"
          ],
          [
           "No"
          ],
          [
           "No"
          ],
          [
           "No"
          ],
          [
           "No"
          ]
         ],
         "hovertemplate": "Impact=%{customdata[0]}<br>Most_Used_Platform=%{x}<br>Count=%{y}<extra></extra>",
         "legendgroup": "No",
         "marker": {
          "color": "#FFFDD0",
          "pattern": {
           "shape": ""
          }
         },
         "name": "No",
         "orientation": "v",
         "showlegend": true,
         "textposition": "auto",
         "type": "bar",
         "x": [
          "Facebook",
          "Instagram",
          "KakaoTalk",
          "LINE",
          "LinkedIn",
          "Snapchat",
          "TikTok",
          "Twitter",
          "VKontakte",
          "WeChat",
          "WhatsApp",
          "YouTube"
         ],
         "xaxis": "x",
         "y": {
          "bdata": "Vk0ADBUBChMMBwAH",
          "dtype": "i1"
         },
         "yaxis": "y"
        },
        {
         "customdata": [
          [
           "Yes"
          ],
          [
           "Yes"
          ],
          [
           "Yes"
          ],
          [
           "Yes"
          ],
          [
           "Yes"
          ],
          [
           "Yes"
          ],
          [
           "Yes"
          ],
          [
           "Yes"
          ],
          [
           "Yes"
          ],
          [
           "Yes"
          ],
          [
           "Yes"
          ],
          [
           "Yes"
          ]
         ],
         "hovertemplate": "Impact=%{customdata[0]}<br>Most_Used_Platform=%{x}<br>Count=%{y}<extra></extra>",
         "legendgroup": "Yes",
         "marker": {
          "color": "#FFA6A6",
          "pattern": {
           "shape": ""
          }
         },
         "name": "Yes",
         "orientation": "v",
         "showlegend": true,
         "textposition": "auto",
         "type": "bar",
         "x": [
          "Facebook",
          "Instagram",
          "KakaoTalk",
          "LINE",
          "LinkedIn",
          "Snapchat",
          "TikTok",
          "Twitter",
          "VKontakte",
          "WeChat",
          "WhatsApp",
          "YouTube"
         ],
         "xaxis": "x",
         "y": {
          "bdata": "JQCsAAwAAAAAAAwAkAALAAAACAA2AAMA",
          "dtype": "i2"
         },
         "yaxis": "y"
        }
       ],
       "layout": {
        "barmode": "stack",
        "legend": {
         "title": {
          "text": "Impact"
         },
         "tracegroupgap": 0
        },
        "template": {
         "data": {
          "bar": [
           {
            "error_x": {
             "color": "#2a3f5f"
            },
            "error_y": {
             "color": "#2a3f5f"
            },
            "marker": {
             "line": {
              "color": "white",
              "width": 0.5
             },
             "pattern": {
              "fillmode": "overlay",
              "size": 10,
              "solidity": 0.2
             }
            },
            "type": "bar"
           }
          ],
          "barpolar": [
           {
            "marker": {
             "line": {
              "color": "white",
              "width": 0.5
             },
             "pattern": {
              "fillmode": "overlay",
              "size": 10,
              "solidity": 0.2
             }
            },
            "type": "barpolar"
           }
          ],
          "carpet": [
           {
            "aaxis": {
             "endlinecolor": "#2a3f5f",
             "gridcolor": "#C8D4E3",
             "linecolor": "#C8D4E3",
             "minorgridcolor": "#C8D4E3",
             "startlinecolor": "#2a3f5f"
            },
            "baxis": {
             "endlinecolor": "#2a3f5f",
             "gridcolor": "#C8D4E3",
             "linecolor": "#C8D4E3",
             "minorgridcolor": "#C8D4E3",
             "startlinecolor": "#2a3f5f"
            },
            "type": "carpet"
           }
          ],
          "choropleth": [
           {
            "colorbar": {
             "outlinewidth": 0,
             "ticks": ""
            },
            "type": "choropleth"
           }
          ],
          "contour": [
           {
            "colorbar": {
             "outlinewidth": 0,
             "ticks": ""
            },
            "colorscale": [
             [
              0,
              "#0d0887"
             ],
             [
              0.1111111111111111,
              "#46039f"
             ],
             [
              0.2222222222222222,
              "#7201a8"
             ],
             [
              0.3333333333333333,
              "#9c179e"
             ],
             [
              0.4444444444444444,
              "#bd3786"
             ],
             [
              0.5555555555555556,
              "#d8576b"
             ],
             [
              0.6666666666666666,
              "#ed7953"
             ],
             [
              0.7777777777777778,
              "#fb9f3a"
             ],
             [
              0.8888888888888888,
              "#fdca26"
             ],
             [
              1,
              "#f0f921"
             ]
            ],
            "type": "contour"
           }
          ],
          "contourcarpet": [
           {
            "colorbar": {
             "outlinewidth": 0,
             "ticks": ""
            },
            "type": "contourcarpet"
           }
          ],
          "heatmap": [
           {
            "colorbar": {
             "outlinewidth": 0,
             "ticks": ""
            },
            "colorscale": [
             [
              0,
              "#0d0887"
             ],
             [
              0.1111111111111111,
              "#46039f"
             ],
             [
              0.2222222222222222,
              "#7201a8"
             ],
             [
              0.3333333333333333,
              "#9c179e"
             ],
             [
              0.4444444444444444,
              "#bd3786"
             ],
             [
              0.5555555555555556,
              "#d8576b"
             ],
             [
              0.6666666666666666,
              "#ed7953"
             ],
             [
              0.7777777777777778,
              "#fb9f3a"
             ],
             [
              0.8888888888888888,
              "#fdca26"
             ],
             [
              1,
              "#f0f921"
             ]
            ],
            "type": "heatmap"
           }
          ],
          "histogram": [
           {
            "marker": {
             "pattern": {
              "fillmode": "overlay",
              "size": 10,
              "solidity": 0.2
             }
            },
            "type": "histogram"
           }
          ],
          "histogram2d": [
           {
            "colorbar": {
             "outlinewidth": 0,
             "ticks": ""
            },
            "colorscale": [
             [
              0,
              "#0d0887"
             ],
             [
              0.1111111111111111,
              "#46039f"
             ],
             [
              0.2222222222222222,
              "#7201a8"
             ],
             [
              0.3333333333333333,
              "#9c179e"
             ],
             [
              0.4444444444444444,
              "#bd3786"
             ],
             [
              0.5555555555555556,
              "#d8576b"
             ],
             [
              0.6666666666666666,
              "#ed7953"
             ],
             [
              0.7777777777777778,
              "#fb9f3a"
             ],
             [
              0.8888888888888888,
              "#fdca26"
             ],
             [
              1,
              "#f0f921"
             ]
            ],
            "type": "histogram2d"
           }
          ],
          "histogram2dcontour": [
           {
            "colorbar": {
             "outlinewidth": 0,
             "ticks": ""
            },
            "colorscale": [
             [
              0,
              "#0d0887"
             ],
             [
              0.1111111111111111,
              "#46039f"
             ],
             [
              0.2222222222222222,
              "#7201a8"
             ],
             [
              0.3333333333333333,
              "#9c179e"
             ],
             [
              0.4444444444444444,
              "#bd3786"
             ],
             [
              0.5555555555555556,
              "#d8576b"
             ],
             [
              0.6666666666666666,
              "#ed7953"
             ],
             [
              0.7777777777777778,
              "#fb9f3a"
             ],
             [
              0.8888888888888888,
              "#fdca26"
             ],
             [
              1,
              "#f0f921"
             ]
            ],
            "type": "histogram2dcontour"
           }
          ],
          "mesh3d": [
           {
            "colorbar": {
             "outlinewidth": 0,
             "ticks": ""
            },
            "type": "mesh3d"
           }
          ],
          "parcoords": [
           {
            "line": {
             "colorbar": {
              "outlinewidth": 0,
              "ticks": ""
             }
            },
            "type": "parcoords"
           }
          ],
          "pie": [
           {
            "automargin": true,
            "type": "pie"
           }
          ],
          "scatter": [
           {
            "fillpattern": {
             "fillmode": "overlay",
             "size": 10,
             "solidity": 0.2
            },
            "type": "scatter"
           }
          ],
          "scatter3d": [
           {
            "line": {
             "colorbar": {
              "outlinewidth": 0,
              "ticks": ""
             }
            },
            "marker": {
             "colorbar": {
              "outlinewidth": 0,
              "ticks": ""
             }
            },
            "type": "scatter3d"
           }
          ],
          "scattercarpet": [
           {
            "marker": {
             "colorbar": {
              "outlinewidth": 0,
              "ticks": ""
             }
            },
            "type": "scattercarpet"
           }
          ],
          "scattergeo": [
           {
            "marker": {
             "colorbar": {
              "outlinewidth": 0,
              "ticks": ""
             }
            },
            "type": "scattergeo"
           }
          ],
          "scattergl": [
           {
            "marker": {
             "colorbar": {
              "outlinewidth": 0,
              "ticks": ""
             }
            },
            "type": "scattergl"
           }
          ],
          "scattermap": [
           {
            "marker": {
             "colorbar": {
              "outlinewidth": 0,
              "ticks": ""
             }
            },
            "type": "scattermap"
           }
          ],
          "scattermapbox": [
           {
            "marker": {
             "colorbar": {
              "outlinewidth": 0,
              "ticks": ""
             }
            },
            "type": "scattermapbox"
           }
          ],
          "scatterpolar": [
           {
            "marker": {
             "colorbar": {
              "outlinewidth": 0,
              "ticks": ""
             }
            },
            "type": "scatterpolar"
           }
          ],
          "scatterpolargl": [
           {
            "marker": {
             "colorbar": {
              "outlinewidth": 0,
              "ticks": ""
             }
            },
            "type": "scatterpolargl"
           }
          ],
          "scatterternary": [
           {
            "marker": {
             "colorbar": {
              "outlinewidth": 0,
              "ticks": ""
             }
            },
            "type": "scatterternary"
           }
          ],
          "surface": [
           {
            "colorbar": {
             "outlinewidth": 0,
             "ticks": ""
            },
            "colorscale": [
             [
              0,
              "#0d0887"
             ],
             [
              0.1111111111111111,
              "#46039f"
             ],
             [
              0.2222222222222222,
              "#7201a8"
             ],
             [
              0.3333333333333333,
              "#9c179e"
             ],
             [
              0.4444444444444444,
              "#bd3786"
             ],
             [
              0.5555555555555556,
              "#d8576b"
             ],
             [
              0.6666666666666666,
              "#ed7953"
             ],
             [
              0.7777777777777778,
              "#fb9f3a"
             ],
             [
              0.8888888888888888,
              "#fdca26"
             ],
             [
              1,
              "#f0f921"
             ]
            ],
            "type": "surface"
           }
          ],
          "table": [
           {
            "cells": {
             "fill": {
              "color": "#EBF0F8"
             },
             "line": {
              "color": "white"
             }
            },
            "header": {
             "fill": {
              "color": "#C8D4E3"
             },
             "line": {
              "color": "white"
             }
            },
            "type": "table"
           }
          ]
         },
         "layout": {
          "annotationdefaults": {
           "arrowcolor": "#2a3f5f",
           "arrowhead": 0,
           "arrowwidth": 1
          },
          "autotypenumbers": "strict",
          "coloraxis": {
           "colorbar": {
            "outlinewidth": 0,
            "ticks": ""
           }
          },
          "colorscale": {
           "diverging": [
            [
             0,
             "#8e0152"
            ],
            [
             0.1,
             "#c51b7d"
            ],
            [
             0.2,
             "#de77ae"
            ],
            [
             0.3,
             "#f1b6da"
            ],
            [
             0.4,
             "#fde0ef"
            ],
            [
             0.5,
             "#f7f7f7"
            ],
            [
             0.6,
             "#e6f5d0"
            ],
            [
             0.7,
             "#b8e186"
            ],
            [
             0.8,
             "#7fbc41"
            ],
            [
             0.9,
             "#4d9221"
            ],
            [
             1,
             "#276419"
            ]
           ],
           "sequential": [
            [
             0,
             "#0d0887"
            ],
            [
             0.1111111111111111,
             "#46039f"
            ],
            [
             0.2222222222222222,
             "#7201a8"
            ],
            [
             0.3333333333333333,
             "#9c179e"
            ],
            [
             0.4444444444444444,
             "#bd3786"
            ],
            [
             0.5555555555555556,
             "#d8576b"
            ],
            [
             0.6666666666666666,
             "#ed7953"
            ],
            [
             0.7777777777777778,
             "#fb9f3a"
            ],
            [
             0.8888888888888888,
             "#fdca26"
            ],
            [
             1,
             "#f0f921"
            ]
           ],
           "sequentialminus": [
            [
             0,
             "#0d0887"
            ],
            [
             0.1111111111111111,
             "#46039f"
            ],
            [
             0.2222222222222222,
             "#7201a8"
            ],
            [
             0.3333333333333333,
             "#9c179e"
            ],
            [
             0.4444444444444444,
             "#bd3786"
            ],
            [
             0.5555555555555556,
             "#d8576b"
            ],
            [
             0.6666666666666666,
             "#ed7953"
            ],
            [
             0.7777777777777778,
             "#fb9f3a"
            ],
            [
             0.8888888888888888,
             "#fdca26"
            ],
            [
             1,
             "#f0f921"
            ]
           ]
          },
          "colorway": [
           "#636efa",
           "#EF553B",
           "#00cc96",
           "#ab63fa",
           "#FFA15A",
           "#19d3f3",
           "#FF6692",
           "#B6E880",
           "#FF97FF",
           "#FECB52"
          ],
          "font": {
           "color": "#2a3f5f"
          },
          "geo": {
           "bgcolor": "white",
           "lakecolor": "white",
           "landcolor": "white",
           "showlakes": true,
           "showland": true,
           "subunitcolor": "#C8D4E3"
          },
          "hoverlabel": {
           "align": "left"
          },
          "hovermode": "closest",
          "mapbox": {
           "style": "light"
          },
          "paper_bgcolor": "white",
          "plot_bgcolor": "white",
          "polar": {
           "angularaxis": {
            "gridcolor": "#EBF0F8",
            "linecolor": "#EBF0F8",
            "ticks": ""
           },
           "bgcolor": "white",
           "radialaxis": {
            "gridcolor": "#EBF0F8",
            "linecolor": "#EBF0F8",
            "ticks": ""
           }
          },
          "scene": {
           "xaxis": {
            "backgroundcolor": "white",
            "gridcolor": "#DFE8F3",
            "gridwidth": 2,
            "linecolor": "#EBF0F8",
            "showbackground": true,
            "ticks": "",
            "zerolinecolor": "#EBF0F8"
           },
           "yaxis": {
            "backgroundcolor": "white",
            "gridcolor": "#DFE8F3",
            "gridwidth": 2,
            "linecolor": "#EBF0F8",
            "showbackground": true,
            "ticks": "",
            "zerolinecolor": "#EBF0F8"
           },
           "zaxis": {
            "backgroundcolor": "white",
            "gridcolor": "#DFE8F3",
            "gridwidth": 2,
            "linecolor": "#EBF0F8",
            "showbackground": true,
            "ticks": "",
            "zerolinecolor": "#EBF0F8"
           }
          },
          "shapedefaults": {
           "line": {
            "color": "#2a3f5f"
           }
          },
          "ternary": {
           "aaxis": {
            "gridcolor": "#DFE8F3",
            "linecolor": "#A2B1C6",
            "ticks": ""
           },
           "baxis": {
            "gridcolor": "#DFE8F3",
            "linecolor": "#A2B1C6",
            "ticks": ""
           },
           "bgcolor": "white",
           "caxis": {
            "gridcolor": "#DFE8F3",
            "linecolor": "#A2B1C6",
            "ticks": ""
           }
          },
          "title": {
           "x": 0.05
          },
          "xaxis": {
           "automargin": true,
           "gridcolor": "#EBF0F8",
           "linecolor": "#EBF0F8",
           "ticks": "",
           "title": {
            "standoff": 15
           },
           "zerolinecolor": "#EBF0F8",
           "zerolinewidth": 2
          },
          "yaxis": {
           "automargin": true,
           "gridcolor": "#EBF0F8",
           "linecolor": "#EBF0F8",
           "ticks": "",
           "title": {
            "standoff": 15
           },
           "zerolinecolor": "#EBF0F8",
           "zerolinewidth": 2
          }
         }
        },
        "title": {
         "text": "🎓 Academic Performance Impact by Platform"
        },
        "xaxis": {
         "anchor": "y",
         "domain": [
          0,
          1
         ],
         "tickangle": -45,
         "title": {
          "text": "Most_Used_Platform"
         }
        },
        "yaxis": {
         "anchor": "x",
         "domain": [
          0,
          1
         ],
         "title": {
          "text": "Count"
         }
        }
       }
      },
      "image/png": "[encoded data removed]"
     },
     "metadata": {},
     "output_type": "display_data"
    }
   ],
   "source": [
    "#6\n",
    "academic_data = pd.crosstab(\n",
    "    data['Most_Used_Platform'],\n",
    "    data['Affects_Academic_Performance']\n",
    ").reset_index()\n",
    "\n",
    "melted = academic_data.melt(\n",
    "    id_vars='Most_Used_Platform',\n",
    "    var_name='Impact',\n",
    "    value_name='Count'\n",
    ")\n",
    "\n",
    "fig = px.bar(\n",
    "    melted,\n",
    "    x=\"Most_Used_Platform\",\n",
    "    y=\"Count\",\n",
    "    color=\"Impact\",\n",
    "    barmode=\"stack\",\n",
    "    title=\"🎓 Academic Performance Impact by Platform\",\n",
    "    template='plotly_white',\n",
    "    color_discrete_map={\n",
    "        'Yes': '#FFA6A6',  \n",
    "        'No': '#FFFDD0'    \n",
    "    },\n",
    "    hover_data=melted.columns\n",
    ")\n",
    "\n",
    "fig.update_layout(xaxis_tickangle=-45)\n",
    "\n",
    "fig.show()"
   ]
  },
  {
   "cell_type": "markdown",
   "id": "efc12063-4a7f-47d3-9368-e9d9aacfd22d",
   "metadata": {},
   "source": [
    "The stacked bar chart shows how many students using each platform report an impact on their academic performance. TikTok and Instagram users have a higher proportion reporting that social media affects their academics, while YouTube and Facebook users show a more even or lower impact. This indicates that high-engagement platforms may be more disruptive to academic focus. Thus,the objective to examine the academic impact of different social media platforms is successfully achieved."
   ]
  },
  {
   "cell_type": "code",
   "execution_count": 240,
   "id": "4eba7b68-2444-49b8-a19c-f1bbe6998dd6",
   "metadata": {},
   "outputs": [
    {
     "data": {
      "application/vnd.plotly.v1+json": {
       "config": {
        "plotlyServerURL": "https://plot.ly"
       },
       "data": [
        {
         "alignmentgroup": "True",
         "hovertemplate": "Avg_Daily_Usage_Hours=%{x}<br>Gender=%{y}<extra></extra>",
         "legendgroup": "",
         "marker": {
          "color": "#636efa"
         },
         "name": "",
         "notched": false,
         "offsetgroup": "",
         "orientation": "h",
         "showlegend": false,
         "type": "box",
         "x": {
          "bdata": "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",
          "dtype": "f8"
         },
         "x0": " ",
         "xaxis": "x",
         "y": [
          "Female",
          "Male",
          "Female",
          "Male",
          "Male",
          "Female",
          "Male",
          "Female",
          "Male",
          "Female",
          "Male",
          "Female",
          "Male",
          "Female",
          "Male",
          "Female",
          "Male",
          "Female",
          "Male",
          "Female",
          "Male",
          "Female",
          "Male",
          "Female",
          "Male",
          "Female",
          "Male",
          "Female",
          "Male",
          "Female",
          "Male",
          "Female",
          "Male",
          "Female",
          "Male",
          "Female",
          "Male",
          "Female",
          "Male",
          "Female",
          "Male",
          "Female",
          "Male",
          "Female",
          "Male",
          "Female",
          "Male",
          "Female",
          "Male",
          "Female",
          "Male",
          "Female",
          "Male",
          "Female",
          "Male",
          "Female",
          "Male",
          "Female",
          "Male",
          "Female",
          "Male",
          "Female",
          "Male",
          "Female",
          "Male",
          "Female",
          "Male",
          "Female",
          "Male",
          "Female",
          "Male",
          "Female",
          "Male",
          "Female",
          "Male",
          "Female",
          "Male",
          "Female",
          "Male",
          "Female",
          "Male",
          "Female",
          "Male",
          "Female",
          "Male",
          "Female",
          "Male",
          "Female",
          "Male",
          "Female",
          "Male",
          "Female",
          "Male",
          "Female",
          "Male",
          "Female",
          "Male",
          "Female",
          "Male",
          "Female",
          "Male",
          "Female",
          "Male",
          "Female",
          "Male",
          "Female",
          "Male",
          "Female",
          "Male",
          "Female",
          "Male",
          "Female",
          "Male",
          "Female",
          "Male",
          "Female",
          "Male",
          "Female",
          "Male",
          "Female",
          "Male",
          "Female",
          "Male",
          "Female",
          "Male",
          "Female",
          "Male",
          "Female",
          "Male",
          "Female",
          "Male",
          "Female",
          "Male",
          "Female",
          "Male",
          "Female",
          "Male",
          "Female",
          "Male",
          "Female",
          "Male",
          "Female",
          "Male",
          "Female",
          "Male",
          "Female",
          "Male",
          "Female",
          "Male",
          "Female",
          "Male",
          "Female",
          "Male",
          "Female",
          "Male",
          "Female",
          "Male",
          "Female",
          "Male",
          "Female",
          "Female",
          "Male",
          "Female",
          "Male",
          "Female",
          "Male",
          "Female",
          "Male",
          "Female",
          "Male",
          "Female",
          "Male",
          "Female",
          "Male",
          "Female",
          "Male",
          "Female",
          "Male",
          "Female",
          "Male",
          "Female",
          "Male",
          "Female",
          "Male",
          "Female",
          "Male",
          "Female",
          "Male",
          "Female",
          "Male",
          "Female",
          "Male",
          "Female",
          "Male",
          "Female",
          "Male",
          "Female",
          "Male",
          "Female",
          "Male",
          "Female",
          "Male",
          "Female",
          "Male",
          "Female",
          "Male",
          "Female",
          "Male",
          "Female",
          "Male",
          "Female",
          "Male",
          "Female",
          "Male",
          "Female",
          "Male",
          "Female",
          "Male",
          "Female",
          "Male",
          "Female",
          "Male",
          "Female",
          "Male",
          "Female",
          "Male",
          "Female",
          "Male",
          "Female",
          "Male",
          "Female",
          "Male",
          "Female",
          "Male",
          "Female",
          "Male",
          "Female",
          "Male",
          "Female",
          "Male",
          "Female",
          "Male",
          "Female",
          "Male",
          "Female",
          "Male",
          "Female",
          "Male",
          "Female",
          "Male",
          "Female",
          "Male",
          "Female",
          "Male",
          "Female",
          "Male",
          "Female",
          "Male",
          "Female",
          "Male",
          "Female",
          "Male",
          "Female",
          "Male",
          "Female",
          "Male",
          "Female",
          "Male",
          "Female",
          "Male",
          "Female",
          "Male",
          "Female",
          "Male",
          "Female",
          "Male",
          "Female",
          "Male",
          "Female",
          "Male",
          "Female",
          "Male",
          "Female",
          "Male",
          "Female",
          "Male",
          "Female",
          "Male",
          "Female",
          "Male",
          "Female",
          "Male",
          "Female",
          "Male",
          "Female",
          "Male",
          "Female",
          "Male",
          "Female",
          "Male",
          "Female",
          "Male",
          "Female",
          "Male",
          "Female",
          "Male",
          "Female",
          "Male",
          "Female",
          "Male",
          "Female",
          "Male",
          "Female",
          "Male",
          "Female",
          "Male",
          "Female",
          "Male",
          "Female",
          "Male",
          "Female",
          "Male",
          "Female",
          "Male",
          "Female",
          "Male",
          "Female",
          "Male",
          "Female",
          "Male",
          "Female",
          "Male",
          "Female",
          "Male",
          "Female",
          "Male",
          "Female",
          "Male",
          "Female",
          "Male",
          "Female",
          "Male",
          "Female",
          "Male",
          "Female",
          "Male",
          "Female",
          "Male",
          "Female",
          "Male",
          "Female",
          "Male",
          "Female",
          "Male",
          "Female",
          "Male",
          "Female",
          "Male",
          "Female",
          "Male",
          "Female",
          "Male",
          "Female",
          "Male",
          "Female",
          "Male",
          "Female",
          "Male",
          "Female",
          "Male",
          "Female",
          "Male",
          "Female",
          "Male",
          "Female",
          "Male",
          "Female",
          "Male",
          "Female",
          "Male",
          "Female",
          "Male",
          "Female",
          "Male",
          "Female",
          "Male",
          "Female",
          "Male",
          "Female",
          "Male",
          "Female",
          "Male",
          "Female",
          "Male",
          "Female",
          "Male",
          "Female",
          "Male",
          "Female",
          "Male",
          "Female",
          "Male",
          "Female",
          "Male",
          "Female",
          "Male",
          "Female",
          "Male",
          "Female",
          "Male",
          "Female",
          "Male",
          "Female",
          "Male",
          "Female",
          "Male",
          "Female",
          "Male",
          "Female",
          "Male",
          "Female",
          "Male",
          "Female",
          "Male",
          "Female",
          "Male",
          "Female",
          "Male",
          "Female",
          "Male",
          "Female",
          "Male",
          "Female",
          "Male",
          "Female",
          "Male",
          "Female",
          "Male",
          "Female",
          "Male",
          "Female",
          "Male",
          "Female",
          "Male",
          "Female",
          "Male",
          "Female",
          "Male",
          "Female",
          "Male",
          "Female",
          "Male",
          "Female",
          "Male",
          "Female",
          "Male",
          "Female",
          "Male",
          "Female",
          "Male",
          "Female",
          "Male",
          "Female",
          "Male",
          "Female",
          "Male",
          "Female",
          "Male",
          "Female",
          "Male",
          "Female",
          "Male",
          "Female",
          "Male",
          "Female",
          "Male",
          "Female",
          "Male",
          "Female",
          "Male",
          "Female",
          "Male",
          "Female",
          "Male",
          "Female",
          "Male",
          "Female",
          "Male",
          "Female",
          "Male",
          "Female",
          "Male",
          "Female",
          "Male",
          "Female",
          "Male",
          "Female",
          "Male",
          "Female",
          "Male",
          "Female",
          "Male",
          "Female",
          "Male",
          "Female",
          "Male",
          "Female",
          "Male",
          "Female",
          "Male",
          "Female",
          "Male",
          "Female",
          "Male",
          "Female",
          "Male",
          "Female",
          "Male",
          "Female",
          "Male",
          "Female",
          "Male",
          "Female",
          "Male",
          "Female",
          "Male",
          "Female",
          "Male",
          "Female",
          "Male",
          "Female",
          "Male",
          "Female",
          "Male",
          "Female",
          "Male",
          "Female",
          "Male",
          "Female",
          "Male",
          "Female",
          "Male",
          "Female",
          "Male",
          "Female",
          "Male",
          "Female",
          "Male",
          "Female",
          "Male",
          "Female",
          "Male",
          "Female",
          "Male",
          "Female",
          "Male",
          "Female",
          "Male",
          "Female",
          "Male",
          "Female",
          "Male",
          "Female",
          "Male",
          "Female",
          "Male",
          "Female",
          "Male",
          "Female",
          "Male",
          "Female",
          "Male",
          "Female",
          "Male",
          "Female",
          "Male",
          "Female",
          "Male",
          "Female",
          "Male",
          "Female",
          "Male",
          "Female",
          "Male",
          "Female",
          "Male",
          "Female",
          "Male",
          "Female",
          "Male",
          "Female",
          "Male",
          "Female",
          "Male",
          "Female",
          "Male",
          "Female",
          "Male",
          "Female",
          "Male",
          "Female",
          "Male",
          "Female",
          "Male",
          "Female",
          "Male",
          "Female",
          "Male",
          "Female",
          "Male",
          "Female",
          "Male",
          "Female",
          "Male",
          "Female",
          "Male",
          "Female",
          "Male",
          "Female",
          "Male",
          "Female",
          "Male",
          "Female",
          "Male",
          "Female",
          "Male",
          "Female",
          "Male",
          "Female",
          "Male",
          "Female",
          "Male",
          "Female",
          "Male",
          "Female",
          "Male",
          "Female",
          "Male",
          "Female",
          "Male",
          "Female",
          "Male",
          "Female",
          "Male",
          "Female",
          "Male",
          "Female",
          "Male",
          "Female",
          "Male",
          "Female",
          "Male",
          "Female",
          "Male",
          "Female",
          "Male",
          "Female",
          "Male",
          "Female",
          "Male",
          "Female",
          "Male",
          "Female",
          "Male",
          "Female",
          "Male",
          "Female",
          "Male",
          "Female",
          "Male",
          "Female",
          "Male",
          "Female",
          "Male",
          "Female",
          "Male",
          "Female",
          "Male",
          "Female",
          "Male",
          "Female",
          "Male",
          "Female",
          "Male",
          "Female",
          "Male",
          "Female",
          "Male",
          "Female",
          "Male",
          "Female",
          "Male",
          "Female",
          "Male",
          "Female",
          "Male",
          "Female",
          "Male",
          "Female",
          "Male",
          "Female",
          "Male",
          "Female",
          "Male",
          "Female"
         ],
         "y0": " ",
         "yaxis": "y"
        }
       ],
       "layout": {
        "boxmode": "group",
        "legend": {
         "tracegroupgap": 0
        },
        "template": {
         "data": {
          "bar": [
           {
            "error_x": {
             "color": "#2a3f5f"
            },
            "error_y": {
             "color": "#2a3f5f"
            },
            "marker": {
             "line": {
              "color": "#E5ECF6",
              "width": 0.5
             },
             "pattern": {
              "fillmode": "overlay",
              "size": 10,
              "solidity": 0.2
             }
            },
            "type": "bar"
           }
          ],
          "barpolar": [
           {
            "marker": {
             "line": {
              "color": "#E5ECF6",
              "width": 0.5
             },
             "pattern": {
              "fillmode": "overlay",
              "size": 10,
              "solidity": 0.2
             }
            },
            "type": "barpolar"
           }
          ],
          "carpet": [
           {
            "aaxis": {
             "endlinecolor": "#2a3f5f",
             "gridcolor": "white",
             "linecolor": "white",
             "minorgridcolor": "white",
             "startlinecolor": "#2a3f5f"
            },
            "baxis": {
             "endlinecolor": "#2a3f5f",
             "gridcolor": "white",
             "linecolor": "white",
             "minorgridcolor": "white",
             "startlinecolor": "#2a3f5f"
            },
            "type": "carpet"
           }
          ],
          "choropleth": [
           {
            "colorbar": {
             "outlinewidth": 0,
             "ticks": ""
            },
            "type": "choropleth"
           }
          ],
          "contour": [
           {
            "colorbar": {
             "outlinewidth": 0,
             "ticks": ""
            },
            "colorscale": [
             [
              0,
              "#0d0887"
             ],
             [
              0.1111111111111111,
              "#46039f"
             ],
             [
              0.2222222222222222,
              "#7201a8"
             ],
             [
              0.3333333333333333,
              "#9c179e"
             ],
             [
              0.4444444444444444,
              "#bd3786"
             ],
             [
              0.5555555555555556,
              "#d8576b"
             ],
             [
              0.6666666666666666,
              "#ed7953"
             ],
             [
              0.7777777777777778,
              "#fb9f3a"
             ],
             [
              0.8888888888888888,
              "#fdca26"
             ],
             [
              1,
              "#f0f921"
             ]
            ],
            "type": "contour"
           }
          ],
          "contourcarpet": [
           {
            "colorbar": {
             "outlinewidth": 0,
             "ticks": ""
            },
            "type": "contourcarpet"
           }
          ],
          "heatmap": [
           {
            "colorbar": {
             "outlinewidth": 0,
             "ticks": ""
            },
            "colorscale": [
             [
              0,
              "#0d0887"
             ],
             [
              0.1111111111111111,
              "#46039f"
             ],
             [
              0.2222222222222222,
              "#7201a8"
             ],
             [
              0.3333333333333333,
              "#9c179e"
             ],
             [
              0.4444444444444444,
              "#bd3786"
             ],
             [
              0.5555555555555556,
              "#d8576b"
             ],
             [
              0.6666666666666666,
              "#ed7953"
             ],
             [
              0.7777777777777778,
              "#fb9f3a"
             ],
             [
              0.8888888888888888,
              "#fdca26"
             ],
             [
              1,
              "#f0f921"
             ]
            ],
            "type": "heatmap"
           }
          ],
          "histogram": [
           {
            "marker": {
             "pattern": {
              "fillmode": "overlay",
              "size": 10,
              "solidity": 0.2
             }
            },
            "type": "histogram"
           }
          ],
          "histogram2d": [
           {
            "colorbar": {
             "outlinewidth": 0,
             "ticks": ""
            },
            "colorscale": [
             [
              0,
              "#0d0887"
             ],
             [
              0.1111111111111111,
              "#46039f"
             ],
             [
              0.2222222222222222,
              "#7201a8"
             ],
             [
              0.3333333333333333,
              "#9c179e"
             ],
             [
              0.4444444444444444,
              "#bd3786"
             ],
             [
              0.5555555555555556,
              "#d8576b"
             ],
             [
              0.6666666666666666,
              "#ed7953"
             ],
             [
              0.7777777777777778,
              "#fb9f3a"
             ],
             [
              0.8888888888888888,
              "#fdca26"
             ],
             [
              1,
              "#f0f921"
             ]
            ],
            "type": "histogram2d"
           }
          ],
          "histogram2dcontour": [
           {
            "colorbar": {
             "outlinewidth": 0,
             "ticks": ""
            },
            "colorscale": [
             [
              0,
              "#0d0887"
             ],
             [
              0.1111111111111111,
              "#46039f"
             ],
             [
              0.2222222222222222,
              "#7201a8"
             ],
             [
              0.3333333333333333,
              "#9c179e"
             ],
             [
              0.4444444444444444,
              "#bd3786"
             ],
             [
              0.5555555555555556,
              "#d8576b"
             ],
             [
              0.6666666666666666,
              "#ed7953"
             ],
             [
              0.7777777777777778,
              "#fb9f3a"
             ],
             [
              0.8888888888888888,
              "#fdca26"
             ],
             [
              1,
              "#f0f921"
             ]
            ],
            "type": "histogram2dcontour"
           }
          ],
          "mesh3d": [
           {
            "colorbar": {
             "outlinewidth": 0,
             "ticks": ""
            },
            "type": "mesh3d"
           }
          ],
          "parcoords": [
           {
            "line": {
             "colorbar": {
              "outlinewidth": 0,
              "ticks": ""
             }
            },
            "type": "parcoords"
           }
          ],
          "pie": [
           {
            "automargin": true,
            "type": "pie"
           }
          ],
          "scatter": [
           {
            "fillpattern": {
             "fillmode": "overlay",
             "size": 10,
             "solidity": 0.2
            },
            "type": "scatter"
           }
          ],
          "scatter3d": [
           {
            "line": {
             "colorbar": {
              "outlinewidth": 0,
              "ticks": ""
             }
            },
            "marker": {
             "colorbar": {
              "outlinewidth": 0,
              "ticks": ""
             }
            },
            "type": "scatter3d"
           }
          ],
          "scattercarpet": [
           {
            "marker": {
             "colorbar": {
              "outlinewidth": 0,
              "ticks": ""
             }
            },
            "type": "scattercarpet"
           }
          ],
          "scattergeo": [
           {
            "marker": {
             "colorbar": {
              "outlinewidth": 0,
              "ticks": ""
             }
            },
            "type": "scattergeo"
           }
          ],
          "scattergl": [
           {
            "marker": {
             "colorbar": {
              "outlinewidth": 0,
              "ticks": ""
             }
            },
            "type": "scattergl"
           }
          ],
          "scattermap": [
           {
            "marker": {
             "colorbar": {
              "outlinewidth": 0,
              "ticks": ""
             }
            },
            "type": "scattermap"
           }
          ],
          "scattermapbox": [
           {
            "marker": {
             "colorbar": {
              "outlinewidth": 0,
              "ticks": ""
             }
            },
            "type": "scattermapbox"
           }
          ],
          "scatterpolar": [
           {
            "marker": {
             "colorbar": {
              "outlinewidth": 0,
              "ticks": ""
             }
            },
            "type": "scatterpolar"
           }
          ],
          "scatterpolargl": [
           {
            "marker": {
             "colorbar": {
              "outlinewidth": 0,
              "ticks": ""
             }
            },
            "type": "scatterpolargl"
           }
          ],
          "scatterternary": [
           {
            "marker": {
             "colorbar": {
              "outlinewidth": 0,
              "ticks": ""
             }
            },
            "type": "scatterternary"
           }
          ],
          "surface": [
           {
            "colorbar": {
             "outlinewidth": 0,
             "ticks": ""
            },
            "colorscale": [
             [
              0,
              "#0d0887"
             ],
             [
              0.1111111111111111,
              "#46039f"
             ],
             [
              0.2222222222222222,
              "#7201a8"
             ],
             [
              0.3333333333333333,
              "#9c179e"
             ],
             [
              0.4444444444444444,
              "#bd3786"
             ],
             [
              0.5555555555555556,
              "#d8576b"
             ],
             [
              0.6666666666666666,
              "#ed7953"
             ],
             [
              0.7777777777777778,
              "#fb9f3a"
             ],
             [
              0.8888888888888888,
              "#fdca26"
             ],
             [
              1,
              "#f0f921"
             ]
            ],
            "type": "surface"
           }
          ],
          "table": [
           {
            "cells": {
             "fill": {
              "color": "#EBF0F8"
             },
             "line": {
              "color": "white"
             }
            },
            "header": {
             "fill": {
              "color": "#C8D4E3"
             },
             "line": {
              "color": "white"
             }
            },
            "type": "table"
           }
          ]
         },
         "layout": {
          "annotationdefaults": {
           "arrowcolor": "#2a3f5f",
           "arrowhead": 0,
           "arrowwidth": 1
          },
          "autotypenumbers": "strict",
          "coloraxis": {
           "colorbar": {
            "outlinewidth": 0,
            "ticks": ""
           }
          },
          "colorscale": {
           "diverging": [
            [
             0,
             "#8e0152"
            ],
            [
             0.1,
             "#c51b7d"
            ],
            [
             0.2,
             "#de77ae"
            ],
            [
             0.3,
             "#f1b6da"
            ],
            [
             0.4,
             "#fde0ef"
            ],
            [
             0.5,
             "#f7f7f7"
            ],
            [
             0.6,
             "#e6f5d0"
            ],
            [
             0.7,
             "#b8e186"
            ],
            [
             0.8,
             "#7fbc41"
            ],
            [
             0.9,
             "#4d9221"
            ],
            [
             1,
             "#276419"
            ]
           ],
           "sequential": [
            [
             0,
             "#0d0887"
            ],
            [
             0.1111111111111111,
             "#46039f"
            ],
            [
             0.2222222222222222,
             "#7201a8"
            ],
            [
             0.3333333333333333,
             "#9c179e"
            ],
            [
             0.4444444444444444,
             "#bd3786"
            ],
            [
             0.5555555555555556,
             "#d8576b"
            ],
            [
             0.6666666666666666,
             "#ed7953"
            ],
            [
             0.7777777777777778,
             "#fb9f3a"
            ],
            [
             0.8888888888888888,
             "#fdca26"
            ],
            [
             1,
             "#f0f921"
            ]
           ],
           "sequentialminus": [
            [
             0,
             "#0d0887"
            ],
            [
             0.1111111111111111,
             "#46039f"
            ],
            [
             0.2222222222222222,
             "#7201a8"
            ],
            [
             0.3333333333333333,
             "#9c179e"
            ],
            [
             0.4444444444444444,
             "#bd3786"
            ],
            [
             0.5555555555555556,
             "#d8576b"
            ],
            [
             0.6666666666666666,
             "#ed7953"
            ],
            [
             0.7777777777777778,
             "#fb9f3a"
            ],
            [
             0.8888888888888888,
             "#fdca26"
            ],
            [
             1,
             "#f0f921"
            ]
           ]
          },
          "colorway": [
           "#636efa",
           "#EF553B",
           "#00cc96",
           "#ab63fa",
           "#FFA15A",
           "#19d3f3",
           "#FF6692",
           "#B6E880",
           "#FF97FF",
           "#FECB52"
          ],
          "font": {
           "color": "#2a3f5f"
          },
          "geo": {
           "bgcolor": "white",
           "lakecolor": "white",
           "landcolor": "#E5ECF6",
           "showlakes": true,
           "showland": true,
           "subunitcolor": "white"
          },
          "hoverlabel": {
           "align": "left"
          },
          "hovermode": "closest",
          "mapbox": {
           "style": "light"
          },
          "paper_bgcolor": "white",
          "plot_bgcolor": "#E5ECF6",
          "polar": {
           "angularaxis": {
            "gridcolor": "white",
            "linecolor": "white",
            "ticks": ""
           },
           "bgcolor": "#E5ECF6",
           "radialaxis": {
            "gridcolor": "white",
            "linecolor": "white",
            "ticks": ""
           }
          },
          "scene": {
           "xaxis": {
            "backgroundcolor": "#E5ECF6",
            "gridcolor": "white",
            "gridwidth": 2,
            "linecolor": "white",
            "showbackground": true,
            "ticks": "",
            "zerolinecolor": "white"
           },
           "yaxis": {
            "backgroundcolor": "#E5ECF6",
            "gridcolor": "white",
            "gridwidth": 2,
            "linecolor": "white",
            "showbackground": true,
            "ticks": "",
            "zerolinecolor": "white"
           },
           "zaxis": {
            "backgroundcolor": "#E5ECF6",
            "gridcolor": "white",
            "gridwidth": 2,
            "linecolor": "white",
            "showbackground": true,
            "ticks": "",
            "zerolinecolor": "white"
           }
          },
          "shapedefaults": {
           "line": {
            "color": "#2a3f5f"
           }
          },
          "ternary": {
           "aaxis": {
            "gridcolor": "white",
            "linecolor": "white",
            "ticks": ""
           },
           "baxis": {
            "gridcolor": "white",
            "linecolor": "white",
            "ticks": ""
           },
           "bgcolor": "#E5ECF6",
           "caxis": {
            "gridcolor": "white",
            "linecolor": "white",
            "ticks": ""
           }
          },
          "title": {
           "x": 0.05
          },
          "xaxis": {
           "automargin": true,
           "gridcolor": "white",
           "linecolor": "white",
           "ticks": "",
           "title": {
            "standoff": 15
           },
           "zerolinecolor": "white",
           "zerolinewidth": 2
          },
          "yaxis": {
           "automargin": true,
           "gridcolor": "white",
           "linecolor": "white",
           "ticks": "",
           "title": {
            "standoff": 15
           },
           "zerolinecolor": "white",
           "zerolinewidth": 2
          }
         }
        },
        "title": {
         "text": "Social Media Usage by Gender"
        },
        "xaxis": {
         "anchor": "y",
         "domain": [
          0,
          1
         ],
         "title": {
          "text": "Avg_Daily_Usage_Hours"
         }
        },
        "yaxis": {
         "anchor": "x",
         "domain": [
          0,
          1
         ],
         "title": {
          "text": "Gender"
         }
        }
       }
      }
     },
     "metadata": {},
     "output_type": "display_data"
    }
   ],
   "source": [
    "#box plot (not used in dashboard)\n",
    "fig = px.box(data, x='Avg_Daily_Usage_Hours', y='Gender',\n",
    "             title='Social Media Usage by Gender',)\n",
    "fig.show()"
   ]
  },
  {
   "cell_type": "markdown",
   "id": "a6cc4dd5-883b-4c0c-a85f-d2bfed97cb55",
   "metadata": {},
   "source": [
    "The chart shows the distribution of daily usage hours for male and female students.\n",
    "Both genders have similar usage patterns, but the median usage for females appears slightly higher, with a wider spread. This shows that female students on average, spend slightly more time on social media, though the difference is not drastic. This chart is not used in my final dashboard."
   ]
  },
  {
   "cell_type": "code",
   "execution_count": 241,
   "id": "deee5c1a-1859-4aba-8372-341556c3bcab",
   "metadata": {},
   "outputs": [
    {
     "data": {
      "application/vnd.plotly.v1+json": {
       "config": {
        "plotlyServerURL": "https://plot.ly"
       },
       "data": [
        {
         "coloraxis": "coloraxis",
         "hovertemplate": "x: %{x}<br>y: %{y}<br>color: %{z}<extra></extra>",
         "name": "0",
         "texttemplate": "%{z}",
         "type": "heatmap",
         "x": [
          "Addicted_Score",
          "Mental_Health_Score",
          "Avg_Daily_Usage_Hours",
          "Sleep_Hours_Per_Night",
          "Conflicts_Over_Social_Media"
         ],
         "xaxis": "x",
         "y": [
          "Addicted_Score",
          "Mental_Health_Score",
          "Avg_Daily_Usage_Hours",
          "Sleep_Hours_Per_Night",
          "Conflicts_Over_Social_Media"
         ],
         "yaxis": "y",
         "z": {
          "bdata": "AAAAAAAA8D9mZmZmZmbuv4/C9Shcj+o/UrgehetR6L/D9Shcj8LtP2ZmZmZmZu6/AAAAAAAA8D+amZmZmZnpv7gehetRuOY/exSuR+F67L+PwvUoXI/qP5qZmZmZmem/AAAAAAAA8D9I4XoUrkfpv5qZmZmZmek/UrgehetR6L+4HoXrUbjmP0jhehSuR+m/AAAAAAAA8D/D9Shcj8Llv8P1KFyPwu0/exSuR+F67L+amZmZmZnpP8P1KFyPwuW/AAAAAAAA8D8=",
          "dtype": "f8",
          "shape": "5, 5"
         }
        }
       ],
       "layout": {
        "coloraxis": {
         "colorscale": [
          [
           0,
           "rgb(252,251,253)"
          ],
          [
           0.125,
           "rgb(239,237,245)"
          ],
          [
           0.25,
           "rgb(218,218,235)"
          ],
          [
           0.375,
           "rgb(188,189,220)"
          ],
          [
           0.5,
           "rgb(158,154,200)"
          ],
          [
           0.625,
           "rgb(128,125,186)"
          ],
          [
           0.75,
           "rgb(106,81,163)"
          ],
          [
           0.875,
           "rgb(84,39,143)"
          ],
          [
           1,
           "rgb(63,0,125)"
          ]
         ]
        },
        "height": 500,
        "template": {
         "data": {
          "bar": [
           {
            "error_x": {
             "color": "#2a3f5f"
            },
            "error_y": {
             "color": "#2a3f5f"
            },
            "marker": {
             "line": {
              "color": "#E5ECF6",
              "width": 0.5
             },
             "pattern": {
              "fillmode": "overlay",
              "size": 10,
              "solidity": 0.2
             }
            },
            "type": "bar"
           }
          ],
          "barpolar": [
           {
            "marker": {
             "line": {
              "color": "#E5ECF6",
              "width": 0.5
             },
             "pattern": {
              "fillmode": "overlay",
              "size": 10,
              "solidity": 0.2
             }
            },
            "type": "barpolar"
           }
          ],
          "carpet": [
           {
            "aaxis": {
             "endlinecolor": "#2a3f5f",
             "gridcolor": "white",
             "linecolor": "white",
             "minorgridcolor": "white",
             "startlinecolor": "#2a3f5f"
            },
            "baxis": {
             "endlinecolor": "#2a3f5f",
             "gridcolor": "white",
             "linecolor": "white",
             "minorgridcolor": "white",
             "startlinecolor": "#2a3f5f"
            },
            "type": "carpet"
           }
          ],
          "choropleth": [
           {
            "colorbar": {
             "outlinewidth": 0,
             "ticks": ""
            },
            "type": "choropleth"
           }
          ],
          "contour": [
           {
            "colorbar": {
             "outlinewidth": 0,
             "ticks": ""
            },
            "colorscale": [
             [
              0,
              "#0d0887"
             ],
             [
              0.1111111111111111,
              "#46039f"
             ],
             [
              0.2222222222222222,
              "#7201a8"
             ],
             [
              0.3333333333333333,
              "#9c179e"
             ],
             [
              0.4444444444444444,
              "#bd3786"
             ],
             [
              0.5555555555555556,
              "#d8576b"
             ],
             [
              0.6666666666666666,
              "#ed7953"
             ],
             [
              0.7777777777777778,
              "#fb9f3a"
             ],
             [
              0.8888888888888888,
              "#fdca26"
             ],
             [
              1,
              "#f0f921"
             ]
            ],
            "type": "contour"
           }
          ],
          "contourcarpet": [
           {
            "colorbar": {
             "outlinewidth": 0,
             "ticks": ""
            },
            "type": "contourcarpet"
           }
          ],
          "heatmap": [
           {
            "colorbar": {
             "outlinewidth": 0,
             "ticks": ""
            },
            "colorscale": [
             [
              0,
              "#0d0887"
             ],
             [
              0.1111111111111111,
              "#46039f"
             ],
             [
              0.2222222222222222,
              "#7201a8"
             ],
             [
              0.3333333333333333,
              "#9c179e"
             ],
             [
              0.4444444444444444,
              "#bd3786"
             ],
             [
              0.5555555555555556,
              "#d8576b"
             ],
             [
              0.6666666666666666,
              "#ed7953"
             ],
             [
              0.7777777777777778,
              "#fb9f3a"
             ],
             [
              0.8888888888888888,
              "#fdca26"
             ],
             [
              1,
              "#f0f921"
             ]
            ],
            "type": "heatmap"
           }
          ],
          "histogram": [
           {
            "marker": {
             "pattern": {
              "fillmode": "overlay",
              "size": 10,
              "solidity": 0.2
             }
            },
            "type": "histogram"
           }
          ],
          "histogram2d": [
           {
            "colorbar": {
             "outlinewidth": 0,
             "ticks": ""
            },
            "colorscale": [
             [
              0,
              "#0d0887"
             ],
             [
              0.1111111111111111,
              "#46039f"
             ],
             [
              0.2222222222222222,
              "#7201a8"
             ],
             [
              0.3333333333333333,
              "#9c179e"
             ],
             [
              0.4444444444444444,
              "#bd3786"
             ],
             [
              0.5555555555555556,
              "#d8576b"
             ],
             [
              0.6666666666666666,
              "#ed7953"
             ],
             [
              0.7777777777777778,
              "#fb9f3a"
             ],
             [
              0.8888888888888888,
              "#fdca26"
             ],
             [
              1,
              "#f0f921"
             ]
            ],
            "type": "histogram2d"
           }
          ],
          "histogram2dcontour": [
           {
            "colorbar": {
             "outlinewidth": 0,
             "ticks": ""
            },
            "colorscale": [
             [
              0,
              "#0d0887"
             ],
             [
              0.1111111111111111,
              "#46039f"
             ],
             [
              0.2222222222222222,
              "#7201a8"
             ],
             [
              0.3333333333333333,
              "#9c179e"
             ],
             [
              0.4444444444444444,
              "#bd3786"
             ],
             [
              0.5555555555555556,
              "#d8576b"
             ],
             [
              0.6666666666666666,
              "#ed7953"
             ],
             [
              0.7777777777777778,
              "#fb9f3a"
             ],
             [
              0.8888888888888888,
              "#fdca26"
             ],
             [
              1,
              "#f0f921"
             ]
            ],
            "type": "histogram2dcontour"
           }
          ],
          "mesh3d": [
           {
            "colorbar": {
             "outlinewidth": 0,
             "ticks": ""
            },
            "type": "mesh3d"
           }
          ],
          "parcoords": [
           {
            "line": {
             "colorbar": {
              "outlinewidth": 0,
              "ticks": ""
             }
            },
            "type": "parcoords"
           }
          ],
          "pie": [
           {
            "automargin": true,
            "type": "pie"
           }
          ],
          "scatter": [
           {
            "fillpattern": {
             "fillmode": "overlay",
             "size": 10,
             "solidity": 0.2
            },
            "type": "scatter"
           }
          ],
          "scatter3d": [
           {
            "line": {
             "colorbar": {
              "outlinewidth": 0,
              "ticks": ""
             }
            },
            "marker": {
             "colorbar": {
              "outlinewidth": 0,
              "ticks": ""
             }
            },
            "type": "scatter3d"
           }
          ],
          "scattercarpet": [
           {
            "marker": {
             "colorbar": {
              "outlinewidth": 0,
              "ticks": ""
             }
            },
            "type": "scattercarpet"
           }
          ],
          "scattergeo": [
           {
            "marker": {
             "colorbar": {
              "outlinewidth": 0,
              "ticks": ""
             }
            },
            "type": "scattergeo"
           }
          ],
          "scattergl": [
           {
            "marker": {
             "colorbar": {
              "outlinewidth": 0,
              "ticks": ""
             }
            },
            "type": "scattergl"
           }
          ],
          "scattermap": [
           {
            "marker": {
             "colorbar": {
              "outlinewidth": 0,
              "ticks": ""
             }
            },
            "type": "scattermap"
           }
          ],
          "scattermapbox": [
           {
            "marker": {
             "colorbar": {
              "outlinewidth": 0,
              "ticks": ""
             }
            },
            "type": "scattermapbox"
           }
          ],
          "scatterpolar": [
           {
            "marker": {
             "colorbar": {
              "outlinewidth": 0,
              "ticks": ""
             }
            },
            "type": "scatterpolar"
           }
          ],
          "scatterpolargl": [
           {
            "marker": {
             "colorbar": {
              "outlinewidth": 0,
              "ticks": ""
             }
            },
            "type": "scatterpolargl"
           }
          ],
          "scatterternary": [
           {
            "marker": {
             "colorbar": {
              "outlinewidth": 0,
              "ticks": ""
             }
            },
            "type": "scatterternary"
           }
          ],
          "surface": [
           {
            "colorbar": {
             "outlinewidth": 0,
             "ticks": ""
            },
            "colorscale": [
             [
              0,
              "#0d0887"
             ],
             [
              0.1111111111111111,
              "#46039f"
             ],
             [
              0.2222222222222222,
              "#7201a8"
             ],
             [
              0.3333333333333333,
              "#9c179e"
             ],
             [
              0.4444444444444444,
              "#bd3786"
             ],
             [
              0.5555555555555556,
              "#d8576b"
             ],
             [
              0.6666666666666666,
              "#ed7953"
             ],
             [
              0.7777777777777778,
              "#fb9f3a"
             ],
             [
              0.8888888888888888,
              "#fdca26"
             ],
             [
              1,
              "#f0f921"
             ]
            ],
            "type": "surface"
           }
          ],
          "table": [
           {
            "cells": {
             "fill": {
              "color": "#EBF0F8"
             },
             "line": {
              "color": "white"
             }
            },
            "header": {
             "fill": {
              "color": "#C8D4E3"
             },
             "line": {
              "color": "white"
             }
            },
            "type": "table"
           }
          ]
         },
         "layout": {
          "annotationdefaults": {
           "arrowcolor": "#2a3f5f",
           "arrowhead": 0,
           "arrowwidth": 1
          },
          "autotypenumbers": "strict",
          "coloraxis": {
           "colorbar": {
            "outlinewidth": 0,
            "ticks": ""
           }
          },
          "colorscale": {
           "diverging": [
            [
             0,
             "#8e0152"
            ],
            [
             0.1,
             "#c51b7d"
            ],
            [
             0.2,
             "#de77ae"
            ],
            [
             0.3,
             "#f1b6da"
            ],
            [
             0.4,
             "#fde0ef"
            ],
            [
             0.5,
             "#f7f7f7"
            ],
            [
             0.6,
             "#e6f5d0"
            ],
            [
             0.7,
             "#b8e186"
            ],
            [
             0.8,
             "#7fbc41"
            ],
            [
             0.9,
             "#4d9221"
            ],
            [
             1,
             "#276419"
            ]
           ],
           "sequential": [
            [
             0,
             "#0d0887"
            ],
            [
             0.1111111111111111,
             "#46039f"
            ],
            [
             0.2222222222222222,
             "#7201a8"
            ],
            [
             0.3333333333333333,
             "#9c179e"
            ],
            [
             0.4444444444444444,
             "#bd3786"
            ],
            [
             0.5555555555555556,
             "#d8576b"
            ],
            [
             0.6666666666666666,
             "#ed7953"
            ],
            [
             0.7777777777777778,
             "#fb9f3a"
            ],
            [
             0.8888888888888888,
             "#fdca26"
            ],
            [
             1,
             "#f0f921"
            ]
           ],
           "sequentialminus": [
            [
             0,
             "#0d0887"
            ],
            [
             0.1111111111111111,
             "#46039f"
            ],
            [
             0.2222222222222222,
             "#7201a8"
            ],
            [
             0.3333333333333333,
             "#9c179e"
            ],
            [
             0.4444444444444444,
             "#bd3786"
            ],
            [
             0.5555555555555556,
             "#d8576b"
            ],
            [
             0.6666666666666666,
             "#ed7953"
            ],
            [
             0.7777777777777778,
             "#fb9f3a"
            ],
            [
             0.8888888888888888,
             "#fdca26"
            ],
            [
             1,
             "#f0f921"
            ]
           ]
          },
          "colorway": [
           "#636efa",
           "#EF553B",
           "#00cc96",
           "#ab63fa",
           "#FFA15A",
           "#19d3f3",
           "#FF6692",
           "#B6E880",
           "#FF97FF",
           "#FECB52"
          ],
          "font": {
           "color": "#2a3f5f"
          },
          "geo": {
           "bgcolor": "white",
           "lakecolor": "white",
           "landcolor": "#E5ECF6",
           "showlakes": true,
           "showland": true,
           "subunitcolor": "white"
          },
          "hoverlabel": {
           "align": "left"
          },
          "hovermode": "closest",
          "mapbox": {
           "style": "light"
          },
          "paper_bgcolor": "white",
          "plot_bgcolor": "#E5ECF6",
          "polar": {
           "angularaxis": {
            "gridcolor": "white",
            "linecolor": "white",
            "ticks": ""
           },
           "bgcolor": "#E5ECF6",
           "radialaxis": {
            "gridcolor": "white",
            "linecolor": "white",
            "ticks": ""
           }
          },
          "scene": {
           "xaxis": {
            "backgroundcolor": "#E5ECF6",
            "gridcolor": "white",
            "gridwidth": 2,
            "linecolor": "white",
            "showbackground": true,
            "ticks": "",
            "zerolinecolor": "white"
           },
           "yaxis": {
            "backgroundcolor": "#E5ECF6",
            "gridcolor": "white",
            "gridwidth": 2,
            "linecolor": "white",
            "showbackground": true,
            "ticks": "",
            "zerolinecolor": "white"
           },
           "zaxis": {
            "backgroundcolor": "#E5ECF6",
            "gridcolor": "white",
            "gridwidth": 2,
            "linecolor": "white",
            "showbackground": true,
            "ticks": "",
            "zerolinecolor": "white"
           }
          },
          "shapedefaults": {
           "line": {
            "color": "#2a3f5f"
           }
          },
          "ternary": {
           "aaxis": {
            "gridcolor": "white",
            "linecolor": "white",
            "ticks": ""
           },
           "baxis": {
            "gridcolor": "white",
            "linecolor": "white",
            "ticks": ""
           },
           "bgcolor": "#E5ECF6",
           "caxis": {
            "gridcolor": "white",
            "linecolor": "white",
            "ticks": ""
           }
          },
          "title": {
           "x": 0.05
          },
          "xaxis": {
           "automargin": true,
           "gridcolor": "white",
           "linecolor": "white",
           "ticks": "",
           "title": {
            "standoff": 15
           },
           "zerolinecolor": "white",
           "zerolinewidth": 2
          },
          "yaxis": {
           "automargin": true,
           "gridcolor": "white",
           "linecolor": "white",
           "ticks": "",
           "title": {
            "standoff": 15
           },
           "zerolinecolor": "white",
           "zerolinewidth": 2
          }
         }
        },
        "title": {
         "text": "Correlation Between Key Metrics"
        },
        "width": 700,
        "xaxis": {
         "anchor": "y",
         "domain": [
          0,
          1
         ]
        },
        "yaxis": {
         "anchor": "x",
         "autorange": "reversed",
         "domain": [
          0,
          1
         ]
        }
       }
      }
     },
     "metadata": {},
     "output_type": "display_data"
    }
   ],
   "source": [
    "correlation_data = data[[\n",
    "    'Addicted_Score', \n",
    "    'Mental_Health_Score', \n",
    "    'Avg_Daily_Usage_Hours', \n",
    "    'Sleep_Hours_Per_Night', \n",
    "    'Conflicts_Over_Social_Media']]\n",
    "\n",
    "corr_matrix = correlation_data.corr().round(2)\n",
    "\n",
    "corr_long = corr_matrix.reset_index().melt(id_vars='index')\n",
    "corr_long.columns = ['Metric 1', 'Metric 2', 'Correlation']\n",
    "\n",
    "fig = px.imshow(\n",
    "    corr_matrix.values,\n",
    "    x=corr_matrix.columns,\n",
    "    y=corr_matrix.index,\n",
    "    color_continuous_scale='purples',\n",
    "    text_auto=True,\n",
    "    aspect='auto',\n",
    "    title='Correlation Between Key Metrics')\n",
    "\n",
    "fig.update_layout(\n",
    "    width=700,\n",
    "    height=500)\n",
    "\n",
    "fig.show()"
   ]
  },
  {
   "cell_type": "markdown",
   "id": "36fdbfcc-073d-4382-b4ad-40591890eec6",
   "metadata": {},
   "source": [
    "The analysis shows a strong negative correlation between Addicted Score and Mental Health Score (−0.95), indicating that students with higher social media addiction levels tend to give lower mental health. There is also a strong positive correlation between Addicted Score and Conflicts Over Social Media (0.93), suggesting that higher addiction is associated with more frequent social conflicts. Additionally, daily usage hours positively correlate with Addicted Score (0.83) and negatively with Sleep Hours (−0.79), highlighting that students who spend more time on social media tend to sleep less. These patterns reinforce the conclusion that excessive social media use may negatively impact both mental health and sleep habits among students."
   ]
  },
  {
   "cell_type": "markdown",
   "id": "ba85564f-c7e1-4f5f-b2f6-66f73569cbcf",
   "metadata": {},
   "source": [
    "## Streamlit Python source code "
   ]
  },
  {
   "cell_type": "markdown",
   "id": "f6f7c69b-d8da-4bc0-8d31-de9c006cb64d",
   "metadata": {},
   "source": [
    "https://miniproject-nasywadannik.streamlit.app/"
   ]
  },
  {
   "cell_type": "markdown",
   "id": "6c6bcf30-56d3-45e8-b780-33efa475bcd8",
   "metadata": {},
   "source": [
    "## CONCLUSION"
   ]
  },
  {
   "cell_type": "markdown",
   "id": "adaa6a9c-b02d-4e72-b156-4953b09779e1",
   "metadata": {},
   "source": [
    "This project successfully achieved all its objectives by analyzing students social media usage and its impact. The findings show that higher addiction levels are linked to lower mental health scores and reduced sleep duration. Platforms like TikTok and Instagram are more associated with negative academic effects. Most students reported using social media for 4 to 6 hours daily. Although some charts were not included in the final dashboard, they helped support deeper understanding. Overall, the analysis highlights how excessive social media use can affect students well-being and academic performance. An interactive Streamlit dashboard was developed to present these insights clearly and allow users to explode patternd through filters and visualizations."
   ]
  },
  {
   "cell_type": "code",
   "execution_count": null,
   "id": "bf316f6e-77af-454e-82b1-e5e18605375c",
   "metadata": {},
   "outputs": [],
   "source": []
  }
 ],
 "metadata": {
  "kernelspec": {
   "display_name": "Python 3 (ipykernel)",
   "language": "python",
   "name": "python3"
  },
  "language_info": {
   "codemirror_mode": {
    "name": "ipython",
    "version": 3
   },
   "file_extension": ".py",
   "mimetype": "text/x-python",
   "name": "python",
   "nbconvert_exporter": "python",
   "pygments_lexer": "ipython3",
   "version": "3.9.21"
  }
 },
 "nbformat": 4,
 "nbformat_minor": 5
}
